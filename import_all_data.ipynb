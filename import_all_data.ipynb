{
 "cells": [
  {
   "cell_type": "code",
   "execution_count": 5,
   "metadata": {},
   "outputs": [],
   "source": [
    "import pandas as pd\n",
    "import matplotlib.pyplot as plt"
   ]
  },
  {
   "cell_type": "code",
   "execution_count": 6,
   "metadata": {},
   "outputs": [
    {
     "name": "stdout",
     "output_type": "stream",
     "text": [
      "            Datum  KielerWoche  Warengruppe  Umsatz  Bewoelkung  Temperatur  \\\n",
      "0      2012-01-01          NaN          NaN     NaN         8.0      9.8250   \n",
      "1      2012-01-02          NaN          NaN     NaN         7.0      7.4375   \n",
      "2      2012-01-03          NaN          NaN     NaN         8.0      5.5375   \n",
      "3      2012-01-04          NaN          NaN     NaN         4.0      5.6875   \n",
      "4      2012-01-05          NaN          NaN     NaN         6.0      5.3000   \n",
      "...           ...          ...          ...     ...         ...         ...   \n",
      "11984  2019-31-05          NaN          NaN     NaN         NaN         NaN   \n",
      "11985  2019-31-07          NaN          NaN     NaN         NaN         NaN   \n",
      "11986  2019-31-08          NaN          NaN     NaN         NaN         NaN   \n",
      "11987  2019-31-10          NaN          NaN     NaN         NaN         NaN   \n",
      "11988  2019-31-12          NaN          NaN     NaN         NaN         NaN   \n",
      "\n",
      "       Windgeschwindigkeit  Wettercode  FerienSH  Feiertag Uhrzeit  \\\n",
      "0                     14.0        58.0       1.0       1.0     NaN   \n",
      "1                     12.0         NaN       0.0       0.0     NaN   \n",
      "2                     18.0        63.0       0.0       0.0     NaN   \n",
      "3                     19.0        80.0       1.0       0.0     NaN   \n",
      "4                     23.0        80.0       0.0       1.0     NaN   \n",
      "...                    ...         ...       ...       ...     ...   \n",
      "11984                  NaN         NaN       1.0       0.0     NaN   \n",
      "11985                  NaN         NaN       1.0       0.0     NaN   \n",
      "11986                  NaN         NaN       0.0       0.0     NaN   \n",
      "11987                  NaN         NaN       0.0       0.0     NaN   \n",
      "11988                  NaN         NaN       1.0       1.0     NaN   \n",
      "\n",
      "      Heim / Auswärts  \n",
      "0                 NaN  \n",
      "1                 NaN  \n",
      "2                 NaN  \n",
      "3                 NaN  \n",
      "4                 NaN  \n",
      "...               ...  \n",
      "11984             NaN  \n",
      "11985             NaN  \n",
      "11986             NaN  \n",
      "11987             NaN  \n",
      "11988             NaN  \n",
      "\n",
      "[11989 rows x 12 columns]\n"
     ]
    }
   ],
   "source": [
    "## Zusammenführen der drei Datensätze in einem Dataframe\n",
    "#Pfade zuteilen\n",
    "pfad_1 = 'kiwo.csv'\n",
    "pfad_2 = 'umsatzdaten_gekuerzt.csv'\n",
    "pfad_3 = 'wetter.csv'\n",
    "pfad_4 = 'fuf_v2.csv'\n",
    "pfad_5 = 'thw-kiel-spieltage.csv'\n",
    "\n",
    "# Einlesen der CSVs\n",
    "daten_1 = pd.read_csv(pfad_1, usecols=['Datum', 'KielerWoche'])\n",
    "daten_2 = pd.read_csv(pfad_2, usecols=['Datum', 'Warengruppe', 'Umsatz'])\n",
    "daten_3 = pd.read_csv(pfad_3, usecols=['Datum', 'Temperatur', 'Windgeschwindigkeit', 'Bewoelkung', 'Windgeschwindigkeit', 'Wettercode'])\n",
    "daten_4_raw = pd.read_csv(pfad_4, usecols=['Datum', 'FerienSH', 'Feiertag'])\n",
    "daten_5_raw = pd.read_csv(pfad_5, usecols=['Datum', 'Uhrzeit', 'Heim / Auswärts'])\n",
    "\n",
    "# Ändern der Datumsformate in daten_4_raw und daten_5_raw\t\n",
    "daten_4_raw['Datum'] = pd.to_datetime(daten_4_raw['Datum'], format='%d.%m.%Y').dt.strftime('%Y-%d-%m')\n",
    "daten_5_raw['Datum'] = pd.to_datetime(daten_5_raw['Datum'], format='%d.%m.%Y').dt.strftime('%Y-%d-%m')\n",
    "\n",
    "\n",
    "#Zusammenführen der df\n",
    "# Datensätze zusammenführen mit Outer Join\n",
    "merged_df = pd.merge(daten_1, daten_2, how='outer', on='Datum')\n",
    "merged_df = pd.merge(merged_df, daten_3, how='outer', on='Datum')\n",
    "merged_df = pd.merge(merged_df, daten_4_raw, how='outer', on='Datum')\n",
    "merged_df = pd.merge(merged_df, daten_5_raw, how='outer', on='Datum')\n",
    "\n",
    "\n",
    "merged_df.shape\n",
    "print(merged_df)\n"
   ]
  }
 ],
 "metadata": {
  "kernelspec": {
   "display_name": "Python 3",
   "language": "python",
   "name": "python3"
  },
  "language_info": {
   "codemirror_mode": {
    "name": "ipython",
    "version": 3
   },
   "file_extension": ".py",
   "mimetype": "text/x-python",
   "name": "python",
   "nbconvert_exporter": "python",
   "pygments_lexer": "ipython3",
   "version": "3.10.13"
  }
 },
 "nbformat": 4,
 "nbformat_minor": 2
}
