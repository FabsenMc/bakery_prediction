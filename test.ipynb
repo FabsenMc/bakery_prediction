{
 "cells": [
  {
   "cell_type": "code",
   "execution_count": null,
   "metadata": {},
   "outputs": [],
   "source": [
    "# Import libraries\n",
    "import pandas as pd\n",
    "import seaborn as sns\n",
    "import matplotlib.pyplot as plt\n",
    "import missingno as msno\n",
    "from fancyimpute import IterativeImputer, KNN"
   ]
  },
  {
   "cell_type": "code",
   "execution_count": null,
   "metadata": {},
   "outputs": [],
   "source": [
    "# Load the dataset\n",
    "url = 'https://raw.githubusercontent.com/opencampus-sh/einfuehrung-in-data-science-und-ml/main/Fehlende%20Werte/airquality.csv'\n",
    "airquality = pd.read_csv(url)\n",
    "\n",
    "airquality.head()   "
   ]
  },
  {
   "cell_type": "code",
   "execution_count": null,
   "metadata": {},
   "outputs": [],
   "source": [
    "### Visualization of Missing Data\n",
    "\n",
    "# Matrix plot of missing data\n",
    "msno.matrix(airquality, figsize=(12, 6))\n",
    "plt.title('Missing Data Matrix Plot')\n",
    "plt.show()"
   ]
  },
  {
   "cell_type": "code",
   "execution_count": null,
   "metadata": {},
   "outputs": [],
   "source": [
    "# Bar plot of missing data\n",
    "msno.bar(airquality, color=\"dodgerblue\", log=True, figsize=(12, 6))\n",
    "plt.title('Missing Data Bar Chart')\n",
    "plt.show()"
   ]
  },
  {
   "cell_type": "code",
   "execution_count": null,
   "metadata": {},
   "outputs": [],
   "source": [
    "\n",
    "# Dendrogram to visualize the correlation of missingness between variables\n",
    "msno.dendrogram(airquality)\n",
    "plt.title('Missing Data Dendrogram')\n",
    "plt.show()"
   ]
  },
  {
   "cell_type": "code",
   "execution_count": null,
   "metadata": {},
   "outputs": [],
   "source": [
    "### Imputation of Missing Data\n",
    "\n",
    "# Create a mask for the imputed values\n",
    "mask = airquality['Ozone'].isna()  # mask for missing values in 'Ozone'\n",
    "\n",
    "# KNN imputation\n",
    "imputer_knn = KNN()\n",
    "airquality_knn = pd.DataFrame(imputer_knn.fit_transform(airquality), columns=airquality.columns)\n",
    "\n",
    "\n",
    "# Iterative Robust Model Imputation (IRMI)\n",
    "imputer_irmi = IterativeImputer()\n",
    "airquality_irmi = pd.DataFrame(imputer_irmi.fit_transform(airquality), columns=airquality.columns)"
   ]
  },
  {
   "cell_type": "code",
   "execution_count": null,
   "metadata": {},
   "outputs": [],
   "source": [
    "### Visualization of Imputed Data\n",
    "\n",
    "# Define a function for scatter plots that highlights imputed values\n",
    "def plot_scatter_with_imputation(data, x, y, mask, title='Scatter Plot', xlabel='X-axis', ylabel='Y-axis'):\n",
    "    plt.figure(figsize=(10, 6))\n",
    "    # Plot non-imputed points\n",
    "    sns.scatterplot(x=data.loc[~mask, x], y=data.loc[~mask, y], color='blue', label='Original')\n",
    "    # Plot imputed points\n",
    "    sns.scatterplot(x=data.loc[mask, x], y=data.loc[mask, y], color='red', label='Imputed')\n",
    "    plt.title(title)\n",
    "    plt.xlabel(xlabel)\n",
    "    plt.ylabel(ylabel)\n",
    "    plt.grid(True, linestyle='--', linewidth=0.5)\n",
    "    plt.legend()\n",
    "    plt.show()"
   ]
  },
  {
   "cell_type": "code",
   "execution_count": null,
   "metadata": {},
   "outputs": [],
   "source": [
    "# Plotting results for KNN imputation\n",
    "plot_scatter_with_imputation(airquality_knn, 'Ozone', 'Temp', mask, 'KNN Imputation Scatter Plot', 'Ozone', 'Temperature')\n",
    "\n",
    "# Plotting results for IRMI imputation\n",
    "plot_scatter_with_imputation(airquality_irmi, 'Ozone', 'Temp', mask, 'IRMI Imputation Scatter Plot', 'Ozone', 'Temperature')\n"
   ]
  },
  {
   "cell_type": "code",
   "execution_count": null,
   "metadata": {},
   "outputs": [],
   "source": [
    "### Correlation Analysis\n",
    "\n",
    "print(\"Correlation in original data:\", airquality['Ozone'].corr(airquality['Temp'], method='pearson'))\n",
    "print(\"Correlation after KNN imputation:\", airquality_knn['Ozone'].corr(airquality_knn['Temp']))\n",
    "print(\"Correlation after IRMI:\", airquality_irmi['Ozone'].corr(airquality_irmi['Temp']))"
   ]
  }
 ],
 "metadata": {
  "kernelspec": {
   "display_name": "Python 3",
   "language": "python",
   "name": "python3"
  },
  "language_info": {
   "codemirror_mode": {
    "name": "ipython",
    "version": 3
   },
   "file_extension": ".py",
   "mimetype": "text/x-python",
   "name": "python",
   "nbconvert_exporter": "python",
   "pygments_lexer": "ipython3",
   "version": "3.10.13"
  }
 },
 "nbformat": 4,
 "nbformat_minor": 2
}
