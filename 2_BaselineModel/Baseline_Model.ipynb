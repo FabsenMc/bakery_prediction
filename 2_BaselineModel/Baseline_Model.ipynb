{
 "cells": [
  {
   "cell_type": "markdown",
   "metadata": {},
   "source": [
    "# Erstellung des Baseline Models für den Testdatensatz"
   ]
  },
  {
   "cell_type": "markdown",
   "metadata": {},
   "source": [
    "### Laden des Testdatensatzes"
   ]
  },
  {
   "cell_type": "code",
   "execution_count": 11,
   "metadata": {},
   "outputs": [
    {
     "name": "stdout",
     "output_type": "stream",
     "text": [
      "(7523, 20)\n",
      "Datum                      0\n",
      "KielerWoche             7345\n",
      "Warengruppe               30\n",
      "Umsatz                    30\n",
      "Bewoelkung                 6\n",
      "Temperatur                 6\n",
      "Windgeschwindigkeit        6\n",
      "Wettercode              2100\n",
      "Beschreibung            2100\n",
      "FerienSH                  30\n",
      "Feiertag                  30\n",
      "Uhrzeit                 6830\n",
      "Heim_Auswärts           6825\n",
      "Umschlag                7443\n",
      "Weihnachtsmarkt         6809\n",
      "Regen                      0\n",
      "Wochentag_MDMDFSS          0\n",
      "Wochenende                 0\n",
      "Jahreszeit_FSHW            0\n",
      "Temperatur_Kategorie       6\n",
      "dtype: int64\n"
     ]
    }
   ],
   "source": [
    "# Importieren der nötigen Librarys\n",
    "import pandas as pd\n",
    "import statsmodels.formula.api as smf\n",
    "\n",
    "# Einlesen des Trainingdatensatzes\n",
    "url_train = \"https://raw.githubusercontent.com/FabsenMc/bakery_prediction/main/0_DataPreparation/train_data.csv\"\n",
    "train_data = pd.read_csv(url_train)\n",
    "\n",
    "print(train_data.shape)\n",
    "print(train_data.isnull().sum())"
   ]
  },
  {
   "cell_type": "code",
   "execution_count": null,
   "metadata": {},
   "outputs": [],
   "source": [
    "# Erstellen einer Modellgleichung\n",
    "\n",
    "#mod1 = smf.ols('Umsatz ~ C(Warengruppe)*C(Feiertag) + C(Warengruppe)*Jahreszeit_FSHW + C(KielerWoche) + C(Wochentag) + C(Wochenende)', data = train_data).fit()\n",
    "#print(mod1.summary())\n",
    "\n",
    "#mod2 = smf.ols('Umsatz ~ C(Warengruppe)*C(KielerWoche) + C(Warengruppe)*C(Wochentag) + C(Warengruppe)*C(Wochenende) + C(Wochenende) + C(Wochentag)', data = train_data).fit()\n",
    "#print(mod2.summary())\n",
    "\n",
    "#mod3 = smf.ols('Umsatz ~ C(Warengruppe)*C(KielerWoche) + C(Temp) + C(Warengruppe)*C(Wochenende) + C(Wochenende) + C(Wochentag)', data = train_data).fit()\n",
    "#print(mod2.summary())\n"
   ]
  },
  {
   "cell_type": "code",
   "execution_count": 8,
   "metadata": {},
   "outputs": [
    {
     "name": "stdout",
     "output_type": "stream",
     "text": [
      "                            OLS Regression Results                            \n",
      "==============================================================================\n",
      "Dep. Variable:                 Umsatz   R-squared:                       0.923\n",
      "Model:                            OLS   Adj. R-squared:                  0.916\n",
      "Method:                 Least Squares   F-statistic:                     121.1\n",
      "Date:                Wed, 05 Jun 2024   Prob (F-statistic):           5.92e-81\n",
      "Time:                        16:56:28   Log-Likelihood:                -946.22\n",
      "No. Observations:                 178   AIC:                             1926.\n",
      "Df Residuals:                     161   BIC:                             1981.\n",
      "Df Model:                          16                                         \n",
      "Covariance Type:            nonrobust                                         \n",
      "===================================================================================================================\n",
      "                                                      coef    std err          t      P>|t|      [0.025      0.975]\n",
      "-------------------------------------------------------------------------------------------------------------------\n",
      "Intercept                                          18.5610      2.749      6.753      0.000      13.133      23.989\n",
      "C(Warengruppe)[T.2.0]                             166.2756      8.188     20.308      0.000     150.106     182.445\n",
      "C(Warengruppe)[T.3.0]                              22.1332      8.188      2.703      0.008       5.964      38.302\n",
      "C(Warengruppe)[T.4.0]                             -26.2333      8.302     -3.160      0.002     -42.628      -9.839\n",
      "C(Warengruppe)[T.5.0]                              74.8264      8.188      9.139      0.000      58.657      90.996\n",
      "C(Warengruppe)[T.6.0]                           -2.806e-14   8.96e-15     -3.132      0.002   -4.58e-14   -1.04e-14\n",
      "C(Jahreszeit_FSHW)[T.2.0]                          18.5610      2.749      6.753      0.000      13.133      23.989\n",
      "C(Jahreszeit_FSHW)[T.3.0]                       -3.678e-14   5.73e-15     -6.419      0.000   -4.81e-14   -2.55e-14\n",
      "C(Jahreszeit_FSHW)[T.4.0]                        3.896e-15   4.77e-15      0.816      0.416   -5.53e-15    1.33e-14\n",
      "C(Wochenende)[T.1.0]                               -6.3220     13.708     -0.461      0.645     -33.392      20.748\n",
      "C(Wochentag_MDMDFSS)[T.1.0]                       -15.2497     16.555     -0.921      0.358     -47.943      17.443\n",
      "C(Wochentag_MDMDFSS)[T.2.0]                        -5.5609     16.555     -0.336      0.737     -38.254      27.132\n",
      "C(Wochentag_MDMDFSS)[T.3.0]                         3.8848     16.529      0.235      0.814     -28.756      36.526\n",
      "C(Wochentag_MDMDFSS)[T.4.0]                        22.9639     16.794      1.367      0.173     -10.201      56.129\n",
      "C(Wochentag_MDMDFSS)[T.5.0]                        16.6349      9.211      1.806      0.073      -1.555      34.824\n",
      "C(Wochentag_MDMDFSS)[T.6.0]                       -22.9569      9.382     -2.447      0.015     -41.484      -4.430\n",
      "Temperatur_Kategorie[T.Mittel]                     19.6077      9.722      2.017      0.045       0.408      38.807\n",
      "Temperatur_Kategorie[T.Niedrig]                  1.105e-16   7.11e-16      0.155      0.877   -1.29e-15    1.51e-15\n",
      "C(Warengruppe)[T.2.0]:C(Jahreszeit_FSHW)[T.2.0]   166.2756      8.188     20.308      0.000     150.106     182.445\n",
      "C(Warengruppe)[T.3.0]:C(Jahreszeit_FSHW)[T.2.0]    22.1332      8.188      2.703      0.008       5.964      38.302\n",
      "C(Warengruppe)[T.4.0]:C(Jahreszeit_FSHW)[T.2.0]   -26.2333      8.302     -3.160      0.002     -42.628      -9.839\n",
      "C(Warengruppe)[T.5.0]:C(Jahreszeit_FSHW)[T.2.0]    74.8264      8.188      9.139      0.000      58.657      90.996\n",
      "C(Warengruppe)[T.6.0]:C(Jahreszeit_FSHW)[T.2.0]          0          0        nan        nan           0           0\n",
      "C(Warengruppe)[T.2.0]:C(Jahreszeit_FSHW)[T.3.0]          0          0        nan        nan           0           0\n",
      "C(Warengruppe)[T.3.0]:C(Jahreszeit_FSHW)[T.3.0]          0          0        nan        nan           0           0\n",
      "C(Warengruppe)[T.4.0]:C(Jahreszeit_FSHW)[T.3.0]          0          0        nan        nan           0           0\n",
      "C(Warengruppe)[T.5.0]:C(Jahreszeit_FSHW)[T.3.0]          0          0        nan        nan           0           0\n",
      "C(Warengruppe)[T.6.0]:C(Jahreszeit_FSHW)[T.3.0]          0          0        nan        nan           0           0\n",
      "C(Warengruppe)[T.2.0]:C(Jahreszeit_FSHW)[T.4.0]          0          0        nan        nan           0           0\n",
      "C(Warengruppe)[T.3.0]:C(Jahreszeit_FSHW)[T.4.0]          0          0        nan        nan           0           0\n",
      "C(Warengruppe)[T.4.0]:C(Jahreszeit_FSHW)[T.4.0]          0          0        nan        nan           0           0\n",
      "C(Warengruppe)[T.5.0]:C(Jahreszeit_FSHW)[T.4.0]          0          0        nan        nan           0           0\n",
      "C(Warengruppe)[T.6.0]:C(Jahreszeit_FSHW)[T.4.0]          0          0        nan        nan           0           0\n",
      "C(Warengruppe)[T.2.0]:C(Wochenende)[T.1.0]        185.2879     24.563      7.543      0.000     136.780     233.796\n",
      "C(Warengruppe)[T.3.0]:C(Wochenende)[T.1.0]        102.2002     24.563      4.161      0.000      53.692     150.708\n",
      "C(Warengruppe)[T.4.0]:C(Wochenende)[T.1.0]         16.4797     24.944      0.661      0.510     -32.780      65.739\n",
      "C(Warengruppe)[T.5.0]:C(Wochenende)[T.1.0]         61.4995     24.563      2.504      0.013      12.992     110.007\n",
      "C(Warengruppe)[T.6.0]:C(Wochenende)[T.1.0]               0          0        nan        nan           0           0\n",
      "Regen                                              16.2133      8.982      1.805      0.073      -1.524      33.950\n",
      "Jahreszeit_FSHW                                    37.1220      5.497      6.753      0.000      26.266      47.978\n",
      "==============================================================================\n",
      "Omnibus:                       15.292   Durbin-Watson:                   1.712\n",
      "Prob(Omnibus):                  0.000   Jarque-Bera (JB):               47.021\n",
      "Skew:                           0.123   Prob(JB):                     6.16e-11\n",
      "Kurtosis:                       5.506   Cond. No.                     3.53e+16\n",
      "==============================================================================\n",
      "\n",
      "Notes:\n",
      "[1] Standard Errors assume that the covariance matrix of the errors is correctly specified.\n",
      "[2] The smallest eigenvalue is 1.09e-30. This might indicate that there are\n",
      "strong multicollinearity problems or that the design matrix is singular.\n"
     ]
    }
   ],
   "source": [
    "# Erstellen einer Modellgleichung für den Testdatensatz gemeinsam:\n",
    "\n",
    "mod_1 = smf.ols('Umsatz ~ C(Warengruppe)*C(Jahreszeit_FSHW) + Regen + C(Warengruppe)*C(Wochenende) + C(KielerWoche) + C(Wochentag_MDMDFSS) + C(Wochenende) + Jahreszeit_FSHW + Temperatur_Kategorie', data = train_data).fit()\n",
    "print(mod_1.summary())"
   ]
  },
  {
   "cell_type": "code",
   "execution_count": 14,
   "metadata": {},
   "outputs": [
    {
     "name": "stdout",
     "output_type": "stream",
     "text": [
      "                            OLS Regression Results                            \n",
      "==============================================================================\n",
      "Dep. Variable:                 Umsatz   R-squared:                       0.923\n",
      "Model:                            OLS   Adj. R-squared:                  0.916\n",
      "Method:                 Least Squares   F-statistic:                     121.1\n",
      "Date:                Wed, 05 Jun 2024   Prob (F-statistic):           5.92e-81\n",
      "Time:                        17:22:32   Log-Likelihood:                -946.22\n",
      "No. Observations:                 178   AIC:                             1926.\n",
      "Df Residuals:                     161   BIC:                             1981.\n",
      "Df Model:                          16                                         \n",
      "Covariance Type:            nonrobust                                         \n",
      "================================================================================================================================\n",
      "                                                                   coef    std err          t      P>|t|      [0.025      0.975]\n",
      "--------------------------------------------------------------------------------------------------------------------------------\n",
      "Intercept                                                       55.6830      8.246      6.753      0.000      39.399      71.967\n",
      "C(Warengruppe)[T.2.0]                                          332.5511     16.376     20.308      0.000     300.213     364.890\n",
      "C(Warengruppe)[T.3.0]                                           44.2664     16.376      2.703      0.008      11.928      76.605\n",
      "C(Warengruppe)[T.4.0]                                          -52.4665     16.604     -3.160      0.002     -85.255     -19.678\n",
      "C(Warengruppe)[T.5.0]                                          149.6527     16.376      9.139      0.000     117.314     181.991\n",
      "C(Warengruppe)[T.6.0]                                        -1.676e-14   8.14e-15     -2.059      0.041   -3.28e-14   -6.82e-16\n",
      "C(FerienSH)[T.1.0]                                            8.427e-14   5.86e-15     14.373      0.000    7.27e-14    9.58e-14\n",
      "C(Regen)[T.1]                                                   16.2133      8.982      1.805      0.073      -1.524      33.950\n",
      "C(Wochenende)[T.1.0]                                            -6.3220     13.708     -0.461      0.645     -33.392      20.748\n",
      "C(Wochentag_MDMDFSS)[T.1.0]                                    -15.2497     16.555     -0.921      0.358     -47.943      17.443\n",
      "C(Wochentag_MDMDFSS)[T.2.0]                                     -5.5609     16.555     -0.336      0.737     -38.254      27.132\n",
      "C(Wochentag_MDMDFSS)[T.3.0]                                      3.8848     16.529      0.235      0.814     -28.756      36.526\n",
      "C(Wochentag_MDMDFSS)[T.4.0]                                     22.9639     16.794      1.367      0.173     -10.201      56.129\n",
      "C(Wochentag_MDMDFSS)[T.5.0]                                     16.6349      9.211      1.806      0.073      -1.555      34.824\n",
      "C(Wochentag_MDMDFSS)[T.6.0]                                    -22.9569      9.382     -2.447      0.015     -41.484      -4.430\n",
      "C(Jahreszeit_FSHW)[T.2.0]                                       55.6830      8.246      6.753      0.000      39.399      71.967\n",
      "C(Jahreszeit_FSHW)[T.3.0]                                     1.758e-14   5.22e-15      3.365      0.001    7.26e-15    2.79e-14\n",
      "C(Jahreszeit_FSHW)[T.4.0]                                     2.129e-15   7.32e-16      2.908      0.004    6.83e-16    3.57e-15\n",
      "C(Temperatur_Kategorie)[T.Mittel]                                9.8039      4.861      2.017      0.045       0.204      19.404\n",
      "C(Temperatur_Kategorie)[T.Niedrig]                                    0          0        nan        nan           0           0\n",
      "C(Warengruppe)[T.2.0]:C(FerienSH)[T.1.0]                              0          0        nan        nan           0           0\n",
      "C(Warengruppe)[T.3.0]:C(FerienSH)[T.1.0]                              0          0        nan        nan           0           0\n",
      "C(Warengruppe)[T.4.0]:C(FerienSH)[T.1.0]                              0          0        nan        nan           0           0\n",
      "C(Warengruppe)[T.5.0]:C(FerienSH)[T.1.0]                              0          0        nan        nan           0           0\n",
      "C(Warengruppe)[T.6.0]:C(FerienSH)[T.1.0]                              0          0        nan        nan           0           0\n",
      "C(Warengruppe)[T.2.0]:C(Wochenende)[T.1.0]                     185.2879     24.563      7.543      0.000     136.780     233.796\n",
      "C(Warengruppe)[T.3.0]:C(Wochenende)[T.1.0]                     102.2002     24.563      4.161      0.000      53.692     150.708\n",
      "C(Warengruppe)[T.4.0]:C(Wochenende)[T.1.0]                      16.4797     24.944      0.661      0.510     -32.780      65.739\n",
      "C(Warengruppe)[T.5.0]:C(Wochenende)[T.1.0]                      61.4995     24.563      2.504      0.013      12.992     110.007\n",
      "C(Warengruppe)[T.6.0]:C(Wochenende)[T.1.0]                            0          0        nan        nan           0           0\n",
      "C(Temperatur_Kategorie)[T.Mittel]:C(Jahreszeit_FSHW)[T.2.0]      9.8039      4.861      2.017      0.045       0.204      19.404\n",
      "C(Temperatur_Kategorie)[T.Niedrig]:C(Jahreszeit_FSHW)[T.2.0]          0          0        nan        nan           0           0\n",
      "C(Temperatur_Kategorie)[T.Mittel]:C(Jahreszeit_FSHW)[T.3.0]           0          0        nan        nan           0           0\n",
      "C(Temperatur_Kategorie)[T.Niedrig]:C(Jahreszeit_FSHW)[T.3.0]          0          0        nan        nan           0           0\n",
      "C(Temperatur_Kategorie)[T.Mittel]:C(Jahreszeit_FSHW)[T.4.0]           0          0        nan        nan           0           0\n",
      "C(Temperatur_Kategorie)[T.Niedrig]:C(Jahreszeit_FSHW)[T.4.0]          0          0        nan        nan           0           0\n",
      "==============================================================================\n",
      "Omnibus:                       15.292   Durbin-Watson:                   1.712\n",
      "Prob(Omnibus):                  0.000   Jarque-Bera (JB):               47.021\n",
      "Skew:                           0.123   Prob(JB):                     6.16e-11\n",
      "Kurtosis:                       5.506   Cond. No.                     2.63e+16\n",
      "==============================================================================\n",
      "\n",
      "Notes:\n",
      "[1] Standard Errors assume that the covariance matrix of the errors is correctly specified.\n",
      "[2] The smallest eigenvalue is 1.06e-30. This might indicate that there are\n",
      "strong multicollinearity problems or that the design matrix is singular.\n"
     ]
    }
   ],
   "source": [
    "mod_2 = smf.ols('Umsatz ~ C(Warengruppe)*C(FerienSH) + C(Regen) + C(Warengruppe)*C(Wochenende) + C(KielerWoche) + C(Wochentag_MDMDFSS) + C(Wochenende) + C(Jahreszeit_FSHW) + C(Temperatur_Kategorie)*C(Jahreszeit_FSHW)', data = train_data).fit()\n",
    "print(mod_2.summary())"
   ]
  },
  {
   "cell_type": "code",
   "execution_count": 16,
   "metadata": {},
   "outputs": [
    {
     "name": "stdout",
     "output_type": "stream",
     "text": [
      "                            OLS Regression Results                            \n",
      "==============================================================================\n",
      "Dep. Variable:                 Umsatz   R-squared:                       0.907\n",
      "Model:                            OLS   Adj. R-squared:                  0.902\n",
      "Method:                 Least Squares   F-statistic:                     183.0\n",
      "Date:                Wed, 05 Jun 2024   Prob (F-statistic):           5.52e-82\n",
      "Time:                        17:26:43   Log-Likelihood:                -962.94\n",
      "No. Observations:                 178   AIC:                             1946.\n",
      "Df Residuals:                     168   BIC:                             1978.\n",
      "Df Model:                           9                                         \n",
      "Covariance Type:            nonrobust                                         \n",
      "==============================================================================================================\n",
      "                                                 coef    std err          t      P>|t|      [0.025      0.975]\n",
      "--------------------------------------------------------------------------------------------------------------\n",
      "Intercept                                     67.0331      6.226     10.767      0.000      54.742      79.324\n",
      "C(Warengruppe)[T.2.0]                        332.5511     17.610     18.885      0.000     297.786     367.316\n",
      "C(Warengruppe)[T.3.0]                         44.2664     17.610      2.514      0.013       9.502      79.031\n",
      "C(Warengruppe)[T.4.0]                        -52.4804     17.840     -2.942      0.004     -87.700     -17.261\n",
      "C(Warengruppe)[T.5.0]                        149.6527     17.610      8.498      0.000     114.888     184.418\n",
      "C(Warengruppe)[T.6.0]                      -4.685e-14   1.02e-14     -4.584      0.000    -6.7e-14   -2.67e-14\n",
      "C(Wochenende)[T.1.0]                          -6.9198     18.678     -0.370      0.711     -43.793      29.954\n",
      "C(Jahreszeit_FSHW)[T.2.0]                     67.0331      6.226     10.767      0.000      54.742      79.324\n",
      "C(Jahreszeit_FSHW)[T.3.0]                  -1.775e-14   7.52e-15     -2.359      0.019   -3.26e-14   -2.89e-15\n",
      "C(Jahreszeit_FSHW)[T.4.0]                   3.653e-14   1.98e-15     18.418      0.000    3.26e-14    4.04e-14\n",
      "C(Warengruppe)[T.2.0]:C(Wochenende)[T.1.0]   185.2879     26.415      7.015      0.000     133.141     237.435\n",
      "C(Warengruppe)[T.3.0]:C(Wochenende)[T.1.0]   102.2002     26.415      3.869      0.000      50.053     154.347\n",
      "C(Warengruppe)[T.4.0]:C(Wochenende)[T.1.0]    15.5509     26.811      0.580      0.563     -37.378      68.480\n",
      "C(Warengruppe)[T.5.0]:C(Wochenende)[T.1.0]    61.4995     26.415      2.328      0.021       9.352     113.647\n",
      "C(Warengruppe)[T.6.0]:C(Wochenende)[T.1.0]          0          0        nan        nan           0           0\n",
      "==============================================================================\n",
      "Omnibus:                       17.822   Durbin-Watson:                   1.588\n",
      "Prob(Omnibus):                  0.000   Jarque-Bera (JB):               32.187\n",
      "Skew:                           0.499   Prob(JB):                     1.02e-07\n",
      "Kurtosis:                       4.829   Cond. No.                          inf\n",
      "==============================================================================\n",
      "\n",
      "Notes:\n",
      "[1] Standard Errors assume that the covariance matrix of the errors is correctly specified.\n",
      "[2] The smallest eigenvalue is      0. This might indicate that there are\n",
      "strong multicollinearity problems or that the design matrix is singular.\n"
     ]
    },
    {
     "name": "stderr",
     "output_type": "stream",
     "text": [
      "/home/codespace/.python/current/lib/python3.10/site-packages/statsmodels/regression/linear_model.py:1967: RuntimeWarning: divide by zero encountered in scalar divide\n",
      "  return np.sqrt(eigvals[0]/eigvals[-1])\n"
     ]
    }
   ],
   "source": [
    "mod_3 = smf.ols('Umsatz ~ C(Warengruppe)*C(KielerWoche) + C(Warengruppe)*C(Wochenende) + C(KielerWoche) + C(Jahreszeit_FSHW)', data = train_data).fit()\n",
    "print(mod_3.summary())"
   ]
  }
 ],
 "metadata": {
  "kernelspec": {
   "display_name": "Python 3",
   "language": "python",
   "name": "python3"
  },
  "language_info": {
   "codemirror_mode": {
    "name": "ipython",
    "version": 3
   },
   "file_extension": ".py",
   "mimetype": "text/x-python",
   "name": "python",
   "nbconvert_exporter": "python",
   "pygments_lexer": "ipython3",
   "version": "3.10.13"
  }
 },
 "nbformat": 4,
 "nbformat_minor": 2
}
