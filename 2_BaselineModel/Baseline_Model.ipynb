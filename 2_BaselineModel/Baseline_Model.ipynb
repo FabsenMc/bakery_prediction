{
 "cells": [
  {
   "cell_type": "markdown",
   "metadata": {},
   "source": [
    "# Erstellung des Baseline Models für den Testdatensatz"
   ]
  },
  {
   "cell_type": "markdown",
   "metadata": {},
   "source": [
    "### Laden des Testdatensatzes"
   ]
  },
  {
   "cell_type": "code",
   "execution_count": 3,
   "metadata": {},
   "outputs": [
    {
     "name": "stdout",
     "output_type": "stream",
     "text": [
      "(7523, 20)\n",
      "        Datum  KielerWoche  Warengruppe      Umsatz  Bewoelkung  Temperatur  \\\n",
      "0  2013-07-01          NaN          1.0  148.828353         6.0     17.8375   \n",
      "1  2013-07-01          NaN          2.0  535.856285         6.0     17.8375   \n",
      "2  2013-07-01          NaN          3.0  201.198426         6.0     17.8375   \n",
      "3  2013-07-01          NaN          4.0   65.890169         6.0     17.8375   \n",
      "4  2013-07-01          NaN          5.0  317.475875         6.0     17.8375   \n",
      "\n",
      "   Windgeschwindigkeit  Wettercode                         Beschreibung  \\\n",
      "0                 15.0        20.0  nach Spruehregen oder Schneegriesel   \n",
      "1                 15.0        20.0  nach Spruehregen oder Schneegriesel   \n",
      "2                 15.0        20.0  nach Spruehregen oder Schneegriesel   \n",
      "3                 15.0        20.0  nach Spruehregen oder Schneegriesel   \n",
      "4                 15.0        20.0  nach Spruehregen oder Schneegriesel   \n",
      "\n",
      "   FerienSH  Feiertag Uhrzeit Heim_Auswärts  Umschlag  Weihnachtsmarkt  Regen  \\\n",
      "0       1.0       0.0     NaN           NaN       NaN              NaN      1   \n",
      "1       1.0       0.0     NaN           NaN       NaN              NaN      1   \n",
      "2       1.0       0.0     NaN           NaN       NaN              NaN      1   \n",
      "3       1.0       0.0     NaN           NaN       NaN              NaN      1   \n",
      "4       1.0       0.0     NaN           NaN       NaN              NaN      1   \n",
      "\n",
      "   Wochentag_MDMDFSS  Wochenende  Jahreszeit_FSHW Temperatur_Kategorie  \n",
      "0                0.0         0.0              2.0               Mittel  \n",
      "1                0.0         0.0              2.0               Mittel  \n",
      "2                0.0         0.0              2.0               Mittel  \n",
      "3                0.0         0.0              2.0               Mittel  \n",
      "4                0.0         0.0              2.0               Mittel  \n",
      "Datum                      0\n",
      "KielerWoche             7345\n",
      "Warengruppe               30\n",
      "Umsatz                    30\n",
      "Bewoelkung                 6\n",
      "Temperatur                 6\n",
      "Windgeschwindigkeit        6\n",
      "Wettercode              2100\n",
      "Beschreibung            2100\n",
      "FerienSH                  30\n",
      "Feiertag                  30\n",
      "Uhrzeit                 6830\n",
      "Heim_Auswärts           6825\n",
      "Umschlag                7443\n",
      "Weihnachtsmarkt         6809\n",
      "Regen                      0\n",
      "Wochentag_MDMDFSS          0\n",
      "Wochenende                 0\n",
      "Jahreszeit_FSHW            0\n",
      "Temperatur_Kategorie       6\n",
      "dtype: int64\n"
     ]
    }
   ],
   "source": [
    "# Importieren der nötigen Librarys\n",
    "import pandas as pd\n",
    "import statsmodels.formula.api as smf\n",
    "\n",
    "# Einlesen des Trainingdatensatzes\n",
    "url_train = \"https://raw.githubusercontent.com/FabsenMc/bakery_prediction/main/0_DataPreparation/train_data.csv\"\n",
    "train_data = pd.read_csv(url_train)\n",
    "\n",
    "print(train_data.shape)\n",
    "print(train_data.head())\n",
    "print(train_data.isnull().sum())"
   ]
  },
  {
   "cell_type": "code",
   "execution_count": null,
   "metadata": {},
   "outputs": [],
   "source": [
    "# Erstellen einer Modellgleichung\n",
    "\n",
    "mod1 = smf.ols('Umsatz ~ C(Warengruppe)*C(Feiertag) + C(Warengruppe)*Jahreszeit_FSHW + C(KielerWoche) + C(Wochentag) + C(Wochenende)', data = train_data).fit()\n",
    "print(mod1.summary())\n",
    "\n",
    "mod2 = smf.ols('Umsatz ~ C(Warengruppe)*C(KielerWoche) + C(Warengruppe)*C(Wochentag) + C(Warengruppe)*C(Wochenende) + C(Wochenende) + C(Wochentag)', data = train_data).fit()\n",
    "print(mod2.summary())\n",
    "\n",
    "mod3 = smf.ols('Umsatz ~ C(Warengruppe)*C(KielerWoche) + C(Temp) + C(Warengruppe)*C(Wochenende) + C(Wochenende) + C(Wochentag)', data = train_data).fit()\n",
    "print(mod2.summary())\n"
   ]
  }
 ],
 "metadata": {
  "kernelspec": {
   "display_name": "Python 3",
   "language": "python",
   "name": "python3"
  },
  "language_info": {
   "codemirror_mode": {
    "name": "ipython",
    "version": 3
   },
   "file_extension": ".py",
   "mimetype": "text/x-python",
   "name": "python",
   "nbconvert_exporter": "python",
   "pygments_lexer": "ipython3",
   "version": "3.10.13"
  }
 },
 "nbformat": 4,
 "nbformat_minor": 2
}
