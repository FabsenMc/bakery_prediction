{
 "cells": [
  {
   "cell_type": "markdown",
   "metadata": {},
   "source": [
    "# Import der relevanten packages"
   ]
  },
  {
   "cell_type": "code",
   "execution_count": 24,
   "metadata": {},
   "outputs": [],
   "source": [
    "# Importieren der nötigen Librarys\n",
    "import pandas as pd\n",
    "import statsmodels.formula.api as smf\n",
    "import statsmodels.api as sm\n",
    "import numpy as np\n",
    "from sklearn.metrics import r2_score, mean_squared_error, mean_absolute_error"
   ]
  },
  {
   "cell_type": "markdown",
   "metadata": {},
   "source": [
    "# get datasets"
   ]
  },
  {
   "cell_type": "code",
   "execution_count": 25,
   "metadata": {},
   "outputs": [
    {
     "name": "stdout",
     "output_type": "stream",
     "text": [
      "(7523, 21)\n",
      "Datum                    0\n",
      "KielerWoche              0\n",
      "Warengruppe              0\n",
      "Umsatz                   0\n",
      "Bewoelkung               0\n",
      "Temperatur               0\n",
      "Windgeschwindigkeit      0\n",
      "Wettercode               0\n",
      "FerienSH                 0\n",
      "Feiertag                 0\n",
      "Umschlag                 0\n",
      "Weihnachtsmarkt          0\n",
      "Verbraucherpreisindex    0\n",
      "Regen                    0\n",
      "Schnee                   0\n",
      "Wochentag_MDMDFSS        0\n",
      "Wochenende               0\n",
      "Jahreszeit_FSHW          0\n",
      "Temperatur_Kategorie     0\n",
      "THW_heimspiel            0\n",
      "THH_heimspiel            0\n",
      "dtype: int64\n",
      "           Datum  KielerWoche  Warengruppe      Umsatz  Bewoelkung  \\\n",
      "0     2013-07-01          0.0            1  148.828353           6   \n",
      "1     2013-07-01          0.0            2  535.856285           6   \n",
      "2     2013-07-01          0.0            3  201.198426           6   \n",
      "3     2013-07-01          0.0            4   65.890169           6   \n",
      "4     2013-07-01          0.0            5  317.475875           6   \n",
      "...          ...          ...          ...         ...         ...   \n",
      "7518  2017-07-31          0.0            4   87.226479           2   \n",
      "7519  2017-07-31          0.0            3  294.721801           2   \n",
      "7520  2017-07-31          0.0            5  222.684256           2   \n",
      "7521  2017-07-31          0.0            1  162.425333           2   \n",
      "7522  2017-07-31          0.0            2  548.102447           2   \n",
      "\n",
      "      Temperatur  Windgeschwindigkeit  Wettercode  FerienSH  Feiertag  ...  \\\n",
      "0        17.8375                   15          20         1         0  ...   \n",
      "1        17.8375                   15          20         1         0  ...   \n",
      "2        17.8375                   15          20         1         0  ...   \n",
      "3        17.8375                   15          20         1         0  ...   \n",
      "4        17.8375                   15          20         1         0  ...   \n",
      "...          ...                  ...         ...       ...       ...  ...   \n",
      "7518     22.7500                    9          18         1         0  ...   \n",
      "7519     22.7500                    9           1         1         0  ...   \n",
      "7520     22.7500                    9           1         1         0  ...   \n",
      "7521     22.7500                    9          25         1         0  ...   \n",
      "7522     22.7500                    9           1         1         0  ...   \n",
      "\n",
      "      Weihnachtsmarkt  Verbraucherpreisindex  Regen  Schnee  \\\n",
      "0                 0.0                   93.5      1       1   \n",
      "1                 0.0                   93.5      1       1   \n",
      "2                 0.0                   93.5      1       1   \n",
      "3                 0.0                   93.5      1       1   \n",
      "4                 0.0                   93.5      1       1   \n",
      "...               ...                    ...    ...     ...   \n",
      "7518              0.0                   96.9      0       0   \n",
      "7519              0.0                   96.9      0       0   \n",
      "7520              0.0                   96.9      0       0   \n",
      "7521              0.0                   96.9      0       0   \n",
      "7522              0.0                   96.9      0       0   \n",
      "\n",
      "      Wochentag_MDMDFSS  Wochenende  Jahreszeit_FSHW  Temperatur_Kategorie  \\\n",
      "0                     1           0                2                     2   \n",
      "1                     1           0                2                     2   \n",
      "2                     1           0                2                     2   \n",
      "3                     1           0                2                     2   \n",
      "4                     1           0                2                     2   \n",
      "...                 ...         ...              ...                   ...   \n",
      "7518                  1           0                2                     3   \n",
      "7519                  1           0                2                     3   \n",
      "7520                  1           0                2                     3   \n",
      "7521                  1           0                2                     3   \n",
      "7522                  1           0                2                     3   \n",
      "\n",
      "      THW_heimspiel  THH_heimspiel  \n",
      "0               0.0              0  \n",
      "1               0.0              0  \n",
      "2               0.0              0  \n",
      "3               0.0              0  \n",
      "4               0.0              0  \n",
      "...             ...            ...  \n",
      "7518            0.0              0  \n",
      "7519            0.0              0  \n",
      "7520            0.0              0  \n",
      "7521            0.0              0  \n",
      "7522            0.0              0  \n",
      "\n",
      "[7523 rows x 21 columns]\n",
      "(1849, 21)\n",
      "Datum                    0\n",
      "KielerWoche              0\n",
      "Warengruppe              0\n",
      "Umsatz                   0\n",
      "Bewoelkung               0\n",
      "Temperatur               0\n",
      "Windgeschwindigkeit      0\n",
      "Wettercode               0\n",
      "FerienSH                 0\n",
      "Feiertag                 0\n",
      "Umschlag                 0\n",
      "Weihnachtsmarkt          0\n",
      "Verbraucherpreisindex    0\n",
      "Regen                    0\n",
      "Schnee                   0\n",
      "Wochentag_MDMDFSS        0\n",
      "Wochenende               0\n",
      "Jahreszeit_FSHW          0\n",
      "Temperatur_Kategorie     0\n",
      "THW_heimspiel            0\n",
      "THH_heimspiel            0\n",
      "dtype: int64\n",
      "           Datum  KielerWoche  Warengruppe      Umsatz  Bewoelkung  \\\n",
      "0     2017-08-01          0.0            1  166.135486           6   \n",
      "1     2017-08-01          0.0            2  557.470898           6   \n",
      "2     2017-08-01          0.0            3  294.872701           6   \n",
      "3     2017-08-01          0.0            4   88.208006           6   \n",
      "4     2017-08-01          0.0            5  325.864228           6   \n",
      "...          ...          ...          ...         ...         ...   \n",
      "1844  2018-07-31          0.0            5  261.341313           5   \n",
      "1845  2018-07-31          0.0            4   57.102795           5   \n",
      "1846  2018-07-31          0.0            3  285.872616           5   \n",
      "1847  2018-07-31          0.0            2  586.081666           5   \n",
      "1848  2018-07-31          0.0            1  123.075682           5   \n",
      "\n",
      "      Temperatur  Windgeschwindigkeit  Wettercode  FerienSH  Feiertag  ...  \\\n",
      "0        21.3750                    7          21         1         0  ...   \n",
      "1        21.3750                    7          21         1         0  ...   \n",
      "2        21.3750                    7          21         1         0  ...   \n",
      "3        21.3750                    7          21         1         0  ...   \n",
      "4        21.3750                    7          21         1         0  ...   \n",
      "...          ...                  ...         ...       ...       ...  ...   \n",
      "1844     31.2875                   11           7         1         0  ...   \n",
      "1845     31.2875                   11          26         1         0  ...   \n",
      "1846     31.2875                   11          22         1         0  ...   \n",
      "1847     31.2875                   11           7         1         0  ...   \n",
      "1848     31.2875                   11           7         1         0  ...   \n",
      "\n",
      "      Weihnachtsmarkt  Verbraucherpreisindex  Regen  Schnee  \\\n",
      "0                 0.0                   97.0      1       0   \n",
      "1                 0.0                   97.0      1       0   \n",
      "2                 0.0                   97.0      1       0   \n",
      "3                 0.0                   97.0      1       0   \n",
      "4                 0.0                   97.0      1       0   \n",
      "...               ...                    ...    ...     ...   \n",
      "1844              0.0                   98.7      0       0   \n",
      "1845              0.0                   98.7      0       0   \n",
      "1846              0.0                   98.7      0       0   \n",
      "1847              0.0                   98.7      0       0   \n",
      "1848              0.0                   98.7      0       0   \n",
      "\n",
      "      Wochentag_MDMDFSS  Wochenende  Jahreszeit_FSHW  Temperatur_Kategorie  \\\n",
      "0                     1           0                2                     3   \n",
      "1                     1           0                2                     3   \n",
      "2                     1           0                2                     3   \n",
      "3                     1           0                2                     3   \n",
      "4                     1           0                2                     3   \n",
      "...                 ...         ...              ...                   ...   \n",
      "1844                  1           0                2                     3   \n",
      "1845                  1           0                2                     3   \n",
      "1846                  1           0                2                     3   \n",
      "1847                  1           0                2                     3   \n",
      "1848                  1           0                2                     3   \n",
      "\n",
      "      THW_heimspiel  THH_heimspiel  \n",
      "0               0.0              0  \n",
      "1               0.0              0  \n",
      "2               0.0              0  \n",
      "3               0.0              0  \n",
      "4               0.0              0  \n",
      "...             ...            ...  \n",
      "1844            0.0              0  \n",
      "1845            0.0              0  \n",
      "1846            0.0              0  \n",
      "1847            0.0              0  \n",
      "1848            0.0              0  \n",
      "\n",
      "[1849 rows x 21 columns]\n"
     ]
    }
   ],
   "source": [
    "# Einlesen des Trainingdatensatzes\n",
    "url_train = \"https://raw.githubusercontent.com/FabsenMc/bakery_prediction/main/0_DataPreparation/train_dataf_knn.csv\"\n",
    "train_data = pd.read_csv(url_train)\n",
    "\n",
    "print(train_data.shape)\n",
    "print(train_data.isnull().sum()) # shows number of missing values -> (NaN in numeric arrays, None or NaN in object arrays, NaT in datetimelike)\n",
    "\n",
    "print(train_data)\n",
    "\n",
    "# Einlesen des Validierungsdatensatz\n",
    "\n",
    "url_validation = \"https://raw.githubusercontent.com/FabsenMc/bakery_prediction/main/0_DataPreparation/validation_dataf_knn.csv\"\n",
    "validation_data = pd.read_csv(url_validation)\n",
    "\n",
    "print(validation_data.shape)\n",
    "print(validation_data.isnull().sum()) # shows number of missing values -> (NaN in numeric arrays, None or NaN in object arrays, NaT in datetimelike)\n",
    "\n",
    "print(validation_data)\n",
    "\n",
    "\n"
   ]
  },
  {
   "cell_type": "markdown",
   "metadata": {},
   "source": [
    "# Entfernen der Datumsvariable für die schrittweise Selektion der Features mittels Algorithmus"
   ]
  },
  {
   "cell_type": "code",
   "execution_count": 26,
   "metadata": {},
   "outputs": [],
   "source": [
    "# Entfernen der 'Datum'-Spalte aus allen Datensätzen\n",
    "train_data = train_data.drop(columns=['Datum'])\n",
    "validation_data = validation_data.drop(columns=['Datum'])\n"
   ]
  },
  {
   "cell_type": "markdown",
   "metadata": {},
   "source": [
    "# Auswahl der Features mit einfacher linearer Regression"
   ]
  },
  {
   "cell_type": "markdown",
   "metadata": {},
   "source": [
    "# schrittweise Selektion der Features mittels Algorithmus basierend auf den Trainingsdaten"
   ]
  },
  {
   "cell_type": "code",
   "execution_count": 27,
   "metadata": {},
   "outputs": [
    {
     "name": "stdout",
     "output_type": "stream",
     "text": [
      "Add  Temperatur                     with p-value 2.47916e-80\n",
      "Add  Wochenende                     with p-value 3.03835e-45\n",
      "Add  FerienSH                       with p-value 2.19206e-33\n",
      "Add  Feiertag                       with p-value 3.7228e-13\n",
      "Add  Verbraucherpreisindex          with p-value 4.29835e-09\n",
      "Add  Warengruppe                    with p-value 5.06715e-06\n",
      "Add  Weihnachtsmarkt                with p-value 5.84196e-05\n",
      "Add  KielerWoche                    with p-value 0.00181527\n",
      "['Temperatur', 'Wochenende', 'FerienSH', 'Feiertag', 'Verbraucherpreisindex', 'Warengruppe', 'Weihnachtsmarkt', 'KielerWoche']\n"
     ]
    }
   ],
   "source": [
    "# Schrittweise Auswahl der Merkmale basierend auf den Trainingsdaten\n",
    "def stepwise_selection(X, y, \n",
    "                       initial_list=[], \n",
    "                       threshold_in=0.01, \n",
    "                       threshold_out=0.05, \n",
    "                       verbose=True):\n",
    "    included = list(initial_list)\n",
    "    while True:\n",
    "        changed = False\n",
    "        excluded = list(set(X.columns) - set(included))\n",
    "        new_pval = pd.Series(index=excluded)\n",
    "        for new_column in excluded:\n",
    "            model = sm.OLS(y, sm.add_constant(pd.DataFrame(X[included + [new_column]]))).fit()\n",
    "            new_pval[new_column] = model.pvalues[new_column]\n",
    "        best_pval = new_pval.min()\n",
    "        if best_pval < threshold_in:\n",
    "            best_feature = new_pval.idxmin()\n",
    "            included.append(best_feature)\n",
    "            changed = True\n",
    "            if verbose:\n",
    "                print('Add  {:30} with p-value {:.6}'.format(best_feature, best_pval))\n",
    "\n",
    "        model = sm.OLS(y, sm.add_constant(pd.DataFrame(X[included]))).fit()\n",
    "        pvalues = model.pvalues.iloc[1:]\n",
    "        worst_pval = pvalues.max()\n",
    "        if worst_pval > threshold_out:\n",
    "            changed = True\n",
    "            worst_feature = pvalues.idxmax()\n",
    "            included.remove(worst_feature)\n",
    "            if verbose:\n",
    "                print('Drop {:30} with p-value {:.6}'.format(worst_feature, worst_pval))\n",
    "        if not changed:\n",
    "            break\n",
    "    return included\n",
    "\n",
    "# Zielvariable und Merkmale für Trainingsdaten\n",
    "X_train = train_data.drop(columns=['Umsatz'])\n",
    "y_train = train_data['Umsatz']\n",
    "\n",
    "# Durchführen der schrittweisen Merkmalsauswahl\n",
    "selected_features = stepwise_selection(X_train, y_train)\n",
    "\n",
    "print (selected_features)\n"
   ]
  },
  {
   "cell_type": "markdown",
   "metadata": {},
   "source": [
    "# Aufstellen des Modells mit den gewählten Features "
   ]
  },
  {
   "cell_type": "code",
   "execution_count": 28,
   "metadata": {},
   "outputs": [
    {
     "name": "stdout",
     "output_type": "stream",
     "text": [
      "                            OLS Regression Results                            \n",
      "==============================================================================\n",
      "Dep. Variable:                 Umsatz   R-squared:                       0.106\n",
      "Model:                            OLS   Adj. R-squared:                  0.105\n",
      "Method:                 Least Squares   F-statistic:                     110.8\n",
      "Date:                Fri, 21 Jun 2024   Prob (F-statistic):          1.22e-175\n",
      "Time:                        19:23:46   Log-Likelihood:                -47826.\n",
      "No. Observations:                7523   AIC:                         9.567e+04\n",
      "Df Residuals:                    7514   BIC:                         9.573e+04\n",
      "Df Model:                           8                                         \n",
      "Covariance Type:            nonrobust                                         \n",
      "=========================================================================================\n",
      "                            coef    std err          t      P>|t|      [0.025      0.975]\n",
      "-----------------------------------------------------------------------------------------\n",
      "const                  1236.9437    175.697      7.040      0.000     892.528    1581.360\n",
      "Temperatur                3.8506      0.255     15.081      0.000       3.350       4.351\n",
      "Wochenende               51.3501      3.574     14.367      0.000      44.344      58.356\n",
      "FerienSH                 45.3478      4.046     11.208      0.000      37.416      53.279\n",
      "Feiertag                 85.2190     11.245      7.579      0.000      63.176     107.262\n",
      "Verbraucherpreisindex   -11.4699      1.864     -6.155      0.000     -15.123      -7.817\n",
      "Warengruppe              -4.6076      1.087     -4.238      0.000      -6.739      -2.477\n",
      "Weihnachtsmarkt         -23.0437      5.768     -3.995      0.000     -34.350     -11.737\n",
      "KielerWoche              33.7537     10.818      3.120      0.002      12.547      54.961\n",
      "==============================================================================\n",
      "Omnibus:                     2668.434   Durbin-Watson:                   2.513\n",
      "Prob(Omnibus):                  0.000   Jarque-Bera (JB):            21030.210\n",
      "Skew:                           1.484   Prob(JB):                         0.00\n",
      "Kurtosis:                      10.634   Cond. No.                     1.04e+04\n",
      "==============================================================================\n",
      "\n",
      "Notes:\n",
      "[1] Standard Errors assume that the covariance matrix of the errors is correctly specified.\n",
      "[2] The condition number is large, 1.04e+04. This might indicate that there are\n",
      "strong multicollinearity or other numerical problems.\n"
     ]
    }
   ],
   "source": [
    "# Training des Modells mit den ausgewählten Merkmalen mit Hilfe von linearer Regression\n",
    "model = sm.OLS(y_train, sm.add_constant(X_train[selected_features])).fit()\n",
    "\n",
    "print (model.summary())"
   ]
  },
  {
   "cell_type": "markdown",
   "metadata": {},
   "source": [
    "# Prüfen der Vorhersagen mit den Validierungsdaten"
   ]
  },
  {
   "cell_type": "code",
   "execution_count": 29,
   "metadata": {},
   "outputs": [
    {
     "name": "stdout",
     "output_type": "stream",
     "text": [
      "Validierungs-R²: 0.10\n",
      "Validierungs-MSE: 15101.73\n",
      "Validierungs-MAE: 94.97\n",
      "MAPE: 65.08796225813145%\n"
     ]
    }
   ],
   "source": [
    "# Zielvariable und Merkmale für Validierungsdaten\n",
    "X_val = validation_data.drop(columns=['Umsatz'])\n",
    "y_val = validation_data['Umsatz']\n",
    "\n",
    "# Vorhersagen auf den Validierungsdaten\n",
    "y_val_pred = model.predict(sm.add_constant(X_val[selected_features]))\n",
    "\n",
    "# Validierungsmetriken berechnen\n",
    "r2_val = r2_score(y_val, y_val_pred)\n",
    "mse_val = mean_squared_error(y_val, y_val_pred)\n",
    "mae_val = mean_absolute_error(y_val, y_val_pred)\n",
    "def mean_absolute_percentage_error(y_true, y_pred):\n",
    "    y_true, y_pred = np.array(y_true), np.array(y_pred)\n",
    "    return np.mean(np.abs((y_true - y_pred) / y_true)) * 100\n",
    "\n",
    "mape_val = mean_absolute_percentage_error(y_val, y_val_pred)\n",
    "\n",
    "print(f'Validierungs-R²: {r2_val:.2f}')\n",
    "print(f'Validierungs-MSE: {mse_val:.2f}')\n",
    "print(f'Validierungs-MAE: {mae_val:.2f}')\n",
    "print(f\"MAPE: {mape_val}%\")\n"
   ]
  },
  {
   "cell_type": "markdown",
   "metadata": {},
   "source": [
    "# Feature Selection mit Hilfe des Random Forest Regressors  als Baseline Modell "
   ]
  },
  {
   "cell_type": "code",
   "execution_count": 30,
   "metadata": {},
   "outputs": [],
   "source": [
    "import pandas as pd\n",
    "from sklearn.ensemble import RandomForestRegressor\n",
    "from sklearn.model_selection import GridSearchCV\n",
    "from sklearn.metrics import r2_score, mean_squared_error, mean_absolute_error\n",
    "import statsmodels.api as sm\n"
   ]
  },
  {
   "cell_type": "code",
   "execution_count": 31,
   "metadata": {},
   "outputs": [],
   "source": [
    "# Daten vorbereiten\n",
    "X_train = train_data.drop(columns=['Umsatz'])\n",
    "y_train = train_data['Umsatz']\n",
    "X_val = validation_data.drop(columns=['Umsatz'])\n",
    "y_val = validation_data['Umsatz']\n",
    "X_test = test_data.drop(columns=['Umsatz'])\n",
    "y_test = test_data['Umsatz']"
   ]
  },
  {
   "cell_type": "markdown",
   "metadata": {},
   "source": [
    "# Mit Hilfe des Random Forest Modells soll der beste Fit eines Vorhersage-Modells ermittelt werden. Anhand der Feature Importance sollen nur die 10 wichtigsten Features mit in das Modell einfließen"
   ]
  },
  {
   "cell_type": "code",
   "execution_count": 32,
   "metadata": {},
   "outputs": [
    {
     "name": "stdout",
     "output_type": "stream",
     "text": [
      "Ausgewählte Features: ['Warengruppe', 'Temperatur', 'Wochentag_MDMDFSS', 'Verbraucherpreisindex', 'FerienSH', 'Feiertag', 'Wochenende', 'Jahreszeit_FSHW', 'Windgeschwindigkeit', 'Wettercode']\n"
     ]
    }
   ],
   "source": [
    "# Random Forest Modell für Feature-Importance\n",
    "rf = RandomForestRegressor()\n",
    "rf.fit(X_train, y_train)\n",
    "\n",
    "# Feature Importances extrahieren und sortieren\n",
    "importances = rf.feature_importances_\n",
    "indices = importances.argsort()[::-1]\n",
    "\n",
    "# Anzahl der zu wählenden Features\n",
    "n_features = 10\n",
    "selected_indices = indices[:n_features]\n",
    "selected_features = X_train.columns[selected_indices]\n",
    "\n",
    "# Anzeigen der ausgewählten Features\n",
    "print(\"Ausgewählte Features:\", selected_features.tolist())\n",
    "\n",
    "# Auswahl der wichtigsten Features\n",
    "X_train_selected = X_train[selected_features]\n",
    "X_val_selected = X_val[selected_features]\n",
    "X_test_selected = X_test[selected_features]\n",
    "\n",
    "# Hyperparameter-Tuning mit GridSearchCV\n",
    "param_grid = {\n",
    "    'n_estimators': [50, 100, 200],\n",
    "    'max_features': ['sqrt', 'log2'],\n",
    "    'max_depth': [10, 20, 30, None]\n",
    "}\n",
    "grid_search = GridSearchCV(estimator=rf, param_grid=param_grid, cv=5, scoring='r2', n_jobs=-1)\n",
    "grid_search.fit(X_train_selected, y_train)\n",
    "\n",
    "# Bestes Modell\n",
    "best_rf = grid_search.best_estimator_\n",
    "\n"
   ]
  },
  {
   "cell_type": "markdown",
   "metadata": {},
   "source": [
    "# Bewertung des besten Random Forest Modells anhand der Validierungsdaten"
   ]
  },
  {
   "cell_type": "code",
   "execution_count": 33,
   "metadata": {},
   "outputs": [
    {
     "name": "stdout",
     "output_type": "stream",
     "text": [
      "Validation-R²: 0.82\n",
      "Validation-MSE: 2986.64\n",
      "Validation-MAE: 35.22\n",
      "Validation-MAPE: 24.38%\n"
     ]
    }
   ],
   "source": [
    "\n",
    "# Vorhersagen und Bewertung auf den Validierungsdaten\n",
    "y_val_pred = best_rf.predict(X_val_selected)\n",
    "r2_val = r2_score(y_val, y_val_pred)\n",
    "mse_val = mean_squared_error(y_val, y_val_pred)\n",
    "mae_val = mean_absolute_error(y_val, y_val_pred)\n",
    "def mean_absolute_percentage_error(y_true, y_pred):\n",
    "    y_true, y_pred = np.array(y_true), np.array(y_pred)\n",
    "    return np.mean(np.abs((y_true - y_pred) / y_true)) * 100\n",
    "mape_val = mean_absolute_percentage_error(y_val, y_val_pred)\n",
    "\n",
    "print(f'Validation-R²: {r2_val:.2f}')\n",
    "print(f'Validation-MSE: {mse_val:.2f}')\n",
    "print(f'Validation-MAE: {mae_val:.2f}')\n",
    "print(f'Validation-MAPE: {mape_val:.2f}%')\n",
    "\n"
   ]
  }
 ],
 "metadata": {
  "kernelspec": {
   "display_name": "Python 3",
   "language": "python",
   "name": "python3"
  },
  "language_info": {
   "codemirror_mode": {
    "name": "ipython",
    "version": 3
   },
   "file_extension": ".py",
   "mimetype": "text/x-python",
   "name": "python",
   "nbconvert_exporter": "python",
   "pygments_lexer": "ipython3",
   "version": "3.10.13"
  }
 },
 "nbformat": 4,
 "nbformat_minor": 2
}
