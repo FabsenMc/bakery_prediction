{
  "cells": [
    {
      "cell_type": "markdown",
      "metadata": {
        "id": "d-3CyESydUAq"
      },
      "source": [
        "## Importiieren der Daten\n"
      ]
    },
    {
      "cell_type": "code",
      "execution_count": 4,
      "metadata": {
        "colab": {
          "base_uri": "https://localhost:8080/",
          "height": 365
        },
        "id": "zW1yixRmpNCD",
        "outputId": "d54ed505-358f-4534-b200-609621c08aab"
      },
      "outputs": [
        {
          "name": "stdout",
          "output_type": "stream",
          "text": [
            "Loaded Training features dimensions: (7497, 20)\n",
            "Loaded Validation features dimensions: (1874, 20)\n",
            "\n",
            "Loaded Training labels dimensions: (7497, 1)\n",
            "Loaded Validation labels dimensions: (1874, 1)\n",
            "\n",
            "First few rows of loaded training features:\n",
            "   Warengruppe_2  Warengruppe_3  Warengruppe_4  Warengruppe_5  Warengruppe_6  \\\n",
            "0              0              0              0              0              0   \n",
            "1              0              0              1              0              0   \n",
            "2              0              1              0              0              0   \n",
            "3              0              0              1              0              0   \n",
            "4              0              0              0              0              0   \n",
            "\n",
            "   Temperatur_Kategorie_2  Temperatur_Kategorie_3  Jahreszeit_FSHW_2  \\\n",
            "0                       0                       0                  0   \n",
            "1                       1                       0                  1   \n",
            "2                       1                       0                  1   \n",
            "3                       1                       0                  0   \n",
            "4                       1                       0                  1   \n",
            "\n",
            "   Jahreszeit_FSHW_3  Jahreszeit_FSHW_4  Wochentag_MDMDFSS_2  \\\n",
            "0                  0                  1                    1   \n",
            "1                  0                  0                    0   \n",
            "2                  0                  0                    1   \n",
            "3                  1                  0                    0   \n",
            "4                  0                  0                    0   \n",
            "\n",
            "   Wochentag_MDMDFSS_3  Wochentag_MDMDFSS_4  Wochentag_MDMDFSS_5  \\\n",
            "0                    0                    0                    0   \n",
            "1                    0                    0                    1   \n",
            "2                    0                    0                    0   \n",
            "3                    0                    0                    1   \n",
            "4                    0                    0                    1   \n",
            "\n",
            "   Wochentag_MDMDFSS_6  FerienSH  Feiertag  Saison_Warengruppe  \\\n",
            "0                    0         0         0                   0   \n",
            "1                    0         0         0                   0   \n",
            "2                    0         1         0                   0   \n",
            "3                    0         0         0                   0   \n",
            "4                    0         0         0                   0   \n",
            "\n",
            "   Verbraucherpreisindex_N  Schnee  \n",
            "0                -0.889721       0  \n",
            "1                -0.800270       0  \n",
            "2                -0.353013       0  \n",
            "3                -0.755544       0  \n",
            "4                -0.800270       0  \n",
            "\n",
            "First few rows of loaded training labels:\n",
            "       Umsatz\n",
            "0  123.267817\n",
            "1   63.837276\n",
            "2  253.357829\n",
            "3   79.517788\n",
            "4  199.282827\n"
          ]
        }
      ],
      "source": [
        "\n",
        "# Import the necessary libraries\n",
        "import pandas as pd\n",
        "\n",
        "# Define the file paths\n",
        "subdirectory = \"pickle_data\"\n",
        "training_features_path = f\"{subdirectory}/training_features.pkl\"\n",
        "validation_features_path = f\"{subdirectory}/validation_features.pkl\"\n",
        "training_labels_path = f\"{subdirectory}/training_labels.pkl\"\n",
        "validation_labels_path = f\"{subdirectory}/validation_labels.pkl\"\n",
        "\n",
        "# Read the pickle files\n",
        "training_features = pd.read_pickle(training_features_path)\n",
        "validation_features = pd.read_pickle(validation_features_path)\n",
        "training_labels = pd.read_pickle(training_labels_path)\n",
        "validation_labels = pd.read_pickle(validation_labels_path)\n",
        "\n",
        "# Verify the loaded data by printing their shapes and a few rows\n",
        "print(\"Loaded Training features dimensions:\", training_features.shape)\n",
        "print(\"Loaded Validation features dimensions:\", validation_features.shape)\n",
        "print()\n",
        "print(\"Loaded Training labels dimensions:\", training_labels.shape)\n",
        "print(\"Loaded Validation labels dimensions:\", validation_labels.shape)\n",
        "print()\n",
        "print(\"First few rows of loaded training features:\")\n",
        "print(training_features.head())\n",
        "print()\n",
        "print(\"First few rows of loaded training labels:\")\n",
        "print(training_labels.head())\n"
      ]
    },
    {
      "cell_type": "code",
      "execution_count": 5,
      "metadata": {
        "id": "tfn7C50QE_Ai",
        "outputId": "e32d7ddc-3a78-4371-fc9b-da86a12285ed"
      },
      "outputs": [
        {
          "name": "stdout",
          "output_type": "stream",
          "text": [
            "Training Features Array:\n",
            "[[ 0.          0.          0.          0.          0.          0.\n",
            "   0.          0.          0.          1.          1.          0.\n",
            "   0.          0.          0.          0.          0.          0.\n",
            "  -0.88972099  0.        ]\n",
            " [ 0.          0.          1.          0.          0.          1.\n",
            "   0.          1.          0.          0.          0.          0.\n",
            "   0.          1.          0.          0.          0.          0.\n",
            "  -0.80026969  0.        ]\n",
            " [ 0.          1.          0.          0.          0.          1.\n",
            "   0.          1.          0.          0.          1.          0.\n",
            "   0.          0.          0.          1.          0.          0.\n",
            "  -0.35301318  0.        ]\n",
            " [ 0.          0.          1.          0.          0.          1.\n",
            "   0.          0.          1.          0.          0.          0.\n",
            "   0.          1.          0.          0.          0.          0.\n",
            "  -0.75554404  0.        ]\n",
            " [ 0.          0.          0.          0.          0.          1.\n",
            "   0.          1.          0.          0.          0.          0.\n",
            "   0.          1.          0.          0.          0.          0.\n",
            "  -0.80026969  0.        ]]\n"
          ]
        }
      ],
      "source": [
        "# Convert DataFrames to numpy arrays\n",
        "training_features_array = training_features.to_numpy()\n",
        "training_labels_array = training_labels.to_numpy().flatten()  # Flatten in case labels are a DataFrame with one column\n",
        "\n",
        "print(\"Training Features Array:\")\n",
        "print(training_features_array[:5])"
      ]
    },
    {
      "cell_type": "markdown",
      "metadata": {
        "id": "QEn1WecUkUvY"
      },
      "source": [
        "## Aufstellen der Neuronalen Netzes\n",
        "\n"
      ]
    },
    {
      "cell_type": "code",
      "execution_count": 6,
      "metadata": {
        "colab": {
          "base_uri": "https://localhost:8080/"
        },
        "id": "NIVMJ2ISYuJ1",
        "outputId": "fa361fbe-9c4b-412a-abff-80e92f29be03"
      },
      "outputs": [
        {
          "name": "stderr",
          "output_type": "stream",
          "text": [
            "2024-06-27 12:06:41.194270: I external/local_tsl/tsl/cuda/cudart_stub.cc:32] Could not find cuda drivers on your machine, GPU will not be used.\n",
            "2024-06-27 12:06:41.200007: I external/local_tsl/tsl/cuda/cudart_stub.cc:32] Could not find cuda drivers on your machine, GPU will not be used.\n",
            "2024-06-27 12:06:41.290400: I tensorflow/core/platform/cpu_feature_guard.cc:210] This TensorFlow binary is optimized to use available CPU instructions in performance-critical operations.\n",
            "To enable the following instructions: AVX2 FMA, in other operations, rebuild TensorFlow with the appropriate compiler flags.\n",
            "2024-06-27 12:06:50.657006: W tensorflow/compiler/tf2tensorrt/utils/py_utils.cc:38] TF-TRT Warning: Could not find TensorRT\n",
            "/home/codespace/.python/current/lib/python3.10/site-packages/keras/src/layers/core/input_layer.py:26: UserWarning: Argument `input_shape` is deprecated. Use `shape` instead.\n",
            "  warnings.warn(\n"
          ]
        },
        {
          "data": {
            "text/html": [
              "<pre style=\"white-space:pre;overflow-x:auto;line-height:normal;font-family:Menlo,'DejaVu Sans Mono',consolas,'Courier New',monospace\"><span style=\"font-weight: bold\">Model: \"sequential\"</span>\n",
              "</pre>\n"
            ],
            "text/plain": [
              "\u001b[1mModel: \"sequential\"\u001b[0m\n"
            ]
          },
          "metadata": {},
          "output_type": "display_data"
        },
        {
          "data": {
            "text/html": [
              "<pre style=\"white-space:pre;overflow-x:auto;line-height:normal;font-family:Menlo,'DejaVu Sans Mono',consolas,'Courier New',monospace\">┏━━━━━━━━━━━━━━━━━━━━━━━━━━━━━━━━━┳━━━━━━━━━━━━━━━━━━━━━━━━┳━━━━━━━━━━━━━━━┓\n",
              "┃<span style=\"font-weight: bold\"> Layer (type)                    </span>┃<span style=\"font-weight: bold\"> Output Shape           </span>┃<span style=\"font-weight: bold\">       Param # </span>┃\n",
              "┡━━━━━━━━━━━━━━━━━━━━━━━━━━━━━━━━━╇━━━━━━━━━━━━━━━━━━━━━━━━╇━━━━━━━━━━━━━━━┩\n",
              "│ batch_normalization             │ (<span style=\"color: #00d7ff; text-decoration-color: #00d7ff\">None</span>, <span style=\"color: #00af00; text-decoration-color: #00af00\">20</span>)             │            <span style=\"color: #00af00; text-decoration-color: #00af00\">80</span> │\n",
              "│ (<span style=\"color: #0087ff; text-decoration-color: #0087ff\">BatchNormalization</span>)            │                        │               │\n",
              "├─────────────────────────────────┼────────────────────────┼───────────────┤\n",
              "│ dense (<span style=\"color: #0087ff; text-decoration-color: #0087ff\">Dense</span>)                   │ (<span style=\"color: #00d7ff; text-decoration-color: #00d7ff\">None</span>, <span style=\"color: #00af00; text-decoration-color: #00af00\">20</span>)             │           <span style=\"color: #00af00; text-decoration-color: #00af00\">420</span> │\n",
              "├─────────────────────────────────┼────────────────────────┼───────────────┤\n",
              "│ dropout (<span style=\"color: #0087ff; text-decoration-color: #0087ff\">Dropout</span>)               │ (<span style=\"color: #00d7ff; text-decoration-color: #00d7ff\">None</span>, <span style=\"color: #00af00; text-decoration-color: #00af00\">20</span>)             │             <span style=\"color: #00af00; text-decoration-color: #00af00\">0</span> │\n",
              "├─────────────────────────────────┼────────────────────────┼───────────────┤\n",
              "│ dense_1 (<span style=\"color: #0087ff; text-decoration-color: #0087ff\">Dense</span>)                 │ (<span style=\"color: #00d7ff; text-decoration-color: #00d7ff\">None</span>, <span style=\"color: #00af00; text-decoration-color: #00af00\">10</span>)             │           <span style=\"color: #00af00; text-decoration-color: #00af00\">210</span> │\n",
              "├─────────────────────────────────┼────────────────────────┼───────────────┤\n",
              "│ dropout_1 (<span style=\"color: #0087ff; text-decoration-color: #0087ff\">Dropout</span>)             │ (<span style=\"color: #00d7ff; text-decoration-color: #00d7ff\">None</span>, <span style=\"color: #00af00; text-decoration-color: #00af00\">10</span>)             │             <span style=\"color: #00af00; text-decoration-color: #00af00\">0</span> │\n",
              "├─────────────────────────────────┼────────────────────────┼───────────────┤\n",
              "│ dense_2 (<span style=\"color: #0087ff; text-decoration-color: #0087ff\">Dense</span>)                 │ (<span style=\"color: #00d7ff; text-decoration-color: #00d7ff\">None</span>, <span style=\"color: #00af00; text-decoration-color: #00af00\">1</span>)              │            <span style=\"color: #00af00; text-decoration-color: #00af00\">11</span> │\n",
              "└─────────────────────────────────┴────────────────────────┴───────────────┘\n",
              "</pre>\n"
            ],
            "text/plain": [
              "┏━━━━━━━━━━━━━━━━━━━━━━━━━━━━━━━━━┳━━━━━━━━━━━━━━━━━━━━━━━━┳━━━━━━━━━━━━━━━┓\n",
              "┃\u001b[1m \u001b[0m\u001b[1mLayer (type)                   \u001b[0m\u001b[1m \u001b[0m┃\u001b[1m \u001b[0m\u001b[1mOutput Shape          \u001b[0m\u001b[1m \u001b[0m┃\u001b[1m \u001b[0m\u001b[1m      Param #\u001b[0m\u001b[1m \u001b[0m┃\n",
              "┡━━━━━━━━━━━━━━━━━━━━━━━━━━━━━━━━━╇━━━━━━━━━━━━━━━━━━━━━━━━╇━━━━━━━━━━━━━━━┩\n",
              "│ batch_normalization             │ (\u001b[38;5;45mNone\u001b[0m, \u001b[38;5;34m20\u001b[0m)             │            \u001b[38;5;34m80\u001b[0m │\n",
              "│ (\u001b[38;5;33mBatchNormalization\u001b[0m)            │                        │               │\n",
              "├─────────────────────────────────┼────────────────────────┼───────────────┤\n",
              "│ dense (\u001b[38;5;33mDense\u001b[0m)                   │ (\u001b[38;5;45mNone\u001b[0m, \u001b[38;5;34m20\u001b[0m)             │           \u001b[38;5;34m420\u001b[0m │\n",
              "├─────────────────────────────────┼────────────────────────┼───────────────┤\n",
              "│ dropout (\u001b[38;5;33mDropout\u001b[0m)               │ (\u001b[38;5;45mNone\u001b[0m, \u001b[38;5;34m20\u001b[0m)             │             \u001b[38;5;34m0\u001b[0m │\n",
              "├─────────────────────────────────┼────────────────────────┼───────────────┤\n",
              "│ dense_1 (\u001b[38;5;33mDense\u001b[0m)                 │ (\u001b[38;5;45mNone\u001b[0m, \u001b[38;5;34m10\u001b[0m)             │           \u001b[38;5;34m210\u001b[0m │\n",
              "├─────────────────────────────────┼────────────────────────┼───────────────┤\n",
              "│ dropout_1 (\u001b[38;5;33mDropout\u001b[0m)             │ (\u001b[38;5;45mNone\u001b[0m, \u001b[38;5;34m10\u001b[0m)             │             \u001b[38;5;34m0\u001b[0m │\n",
              "├─────────────────────────────────┼────────────────────────┼───────────────┤\n",
              "│ dense_2 (\u001b[38;5;33mDense\u001b[0m)                 │ (\u001b[38;5;45mNone\u001b[0m, \u001b[38;5;34m1\u001b[0m)              │            \u001b[38;5;34m11\u001b[0m │\n",
              "└─────────────────────────────────┴────────────────────────┴───────────────┘\n"
            ]
          },
          "metadata": {},
          "output_type": "display_data"
        },
        {
          "data": {
            "text/html": [
              "<pre style=\"white-space:pre;overflow-x:auto;line-height:normal;font-family:Menlo,'DejaVu Sans Mono',consolas,'Courier New',monospace\"><span style=\"font-weight: bold\"> Total params: </span><span style=\"color: #00af00; text-decoration-color: #00af00\">721</span> (2.82 KB)\n",
              "</pre>\n"
            ],
            "text/plain": [
              "\u001b[1m Total params: \u001b[0m\u001b[38;5;34m721\u001b[0m (2.82 KB)\n"
            ]
          },
          "metadata": {},
          "output_type": "display_data"
        },
        {
          "data": {
            "text/html": [
              "<pre style=\"white-space:pre;overflow-x:auto;line-height:normal;font-family:Menlo,'DejaVu Sans Mono',consolas,'Courier New',monospace\"><span style=\"font-weight: bold\"> Trainable params: </span><span style=\"color: #00af00; text-decoration-color: #00af00\">681</span> (2.66 KB)\n",
              "</pre>\n"
            ],
            "text/plain": [
              "\u001b[1m Trainable params: \u001b[0m\u001b[38;5;34m681\u001b[0m (2.66 KB)\n"
            ]
          },
          "metadata": {},
          "output_type": "display_data"
        },
        {
          "data": {
            "text/html": [
              "<pre style=\"white-space:pre;overflow-x:auto;line-height:normal;font-family:Menlo,'DejaVu Sans Mono',consolas,'Courier New',monospace\"><span style=\"font-weight: bold\"> Non-trainable params: </span><span style=\"color: #00af00; text-decoration-color: #00af00\">40</span> (160.00 B)\n",
              "</pre>\n"
            ],
            "text/plain": [
              "\u001b[1m Non-trainable params: \u001b[0m\u001b[38;5;34m40\u001b[0m (160.00 B)\n"
            ]
          },
          "metadata": {},
          "output_type": "display_data"
        }
      ],
      "source": [
        "from tensorflow.keras.models import Sequential\n",
        "from tensorflow.keras.layers import InputLayer, Dense, BatchNormalization, Dropout\n",
        "from tensorflow.keras.optimizers import Adam\n",
        "\n",
        "model = Sequential([\n",
        "  InputLayer(input_shape=(training_features.shape[1], )),\n",
        "  BatchNormalization(),\n",
        "  Dense(20, activation='relu'),\n",
        "  Dropout(0.2),  \n",
        "  Dense(10, activation='relu'),\n",
        "  Dropout(0.1),  \n",
        "  Dense(1)\n",
        "])\n",
        "\n",
        "model.summary()\n",
        "\n"
      ]
    },
    {
      "cell_type": "markdown",
      "metadata": {
        "id": "GHLvD-uEkbJI"
      },
      "source": [
        "## Compiling and Training the Model\n",
        "\n",
        "We will compile the model using Mean Squared Error (MSE) as the loss function and Adam optimizer. The model is then trained using the training data."
      ]
    },
    {
      "cell_type": "code",
      "execution_count": 7,
      "metadata": {
        "colab": {
          "base_uri": "https://localhost:8080/",
          "height": 198
        },
        "id": "3C9DP_BFZBdd",
        "outputId": "f5e56e51-54b3-40e9-c3ed-fcd38232f2dd"
      },
      "outputs": [
        {
          "name": "stdout",
          "output_type": "stream",
          "text": [
            "Epoch 1/12\n",
            "\u001b[1m235/235\u001b[0m \u001b[32m━━━━━━━━━━━━━━━━━━━━\u001b[0m\u001b[37m\u001b[0m \u001b[1m7s\u001b[0m 6ms/step - loss: 61759.7812 - val_loss: 36804.9688\n",
            "Epoch 2/12\n",
            "\u001b[1m235/235\u001b[0m \u001b[32m━━━━━━━━━━━━━━━━━━━━\u001b[0m\u001b[37m\u001b[0m \u001b[1m1s\u001b[0m 1ms/step - loss: 22834.2637 - val_loss: 7869.2007\n",
            "Epoch 3/12\n",
            "\u001b[1m235/235\u001b[0m \u001b[32m━━━━━━━━━━━━━━━━━━━━\u001b[0m\u001b[37m\u001b[0m \u001b[1m1s\u001b[0m 2ms/step - loss: 9970.3018 - val_loss: 5835.6743\n",
            "Epoch 4/12\n",
            "\u001b[1m235/235\u001b[0m \u001b[32m━━━━━━━━━━━━━━━━━━━━\u001b[0m\u001b[37m\u001b[0m \u001b[1m0s\u001b[0m 1ms/step - loss: 8324.8203 - val_loss: 5076.1895\n",
            "Epoch 5/12\n",
            "\u001b[1m235/235\u001b[0m \u001b[32m━━━━━━━━━━━━━━━━━━━━\u001b[0m\u001b[37m\u001b[0m \u001b[1m1s\u001b[0m 2ms/step - loss: 8416.8105 - val_loss: 4623.6860\n",
            "Epoch 6/12\n",
            "\u001b[1m235/235\u001b[0m \u001b[32m━━━━━━━━━━━━━━━━━━━━\u001b[0m\u001b[37m\u001b[0m \u001b[1m1s\u001b[0m 2ms/step - loss: 8047.9604 - val_loss: 4390.0947\n",
            "Epoch 7/12\n",
            "\u001b[1m235/235\u001b[0m \u001b[32m━━━━━━━━━━━━━━━━━━━━\u001b[0m\u001b[37m\u001b[0m \u001b[1m0s\u001b[0m 1ms/step - loss: 8301.0674 - val_loss: 4341.2803\n",
            "Epoch 8/12\n",
            "\u001b[1m235/235\u001b[0m \u001b[32m━━━━━━━━━━━━━━━━━━━━\u001b[0m\u001b[37m\u001b[0m \u001b[1m1s\u001b[0m 1ms/step - loss: 8476.0361 - val_loss: 4127.8452\n",
            "Epoch 9/12\n",
            "\u001b[1m235/235\u001b[0m \u001b[32m━━━━━━━━━━━━━━━━━━━━\u001b[0m\u001b[37m\u001b[0m \u001b[1m1s\u001b[0m 1ms/step - loss: 8755.1592 - val_loss: 4018.6733\n",
            "Epoch 10/12\n",
            "\u001b[1m235/235\u001b[0m \u001b[32m━━━━━━━━━━━━━━━━━━━━\u001b[0m\u001b[37m\u001b[0m \u001b[1m0s\u001b[0m 1ms/step - loss: 7913.8110 - val_loss: 3977.4912\n",
            "Epoch 11/12\n",
            "\u001b[1m235/235\u001b[0m \u001b[32m━━━━━━━━━━━━━━━━━━━━\u001b[0m\u001b[37m\u001b[0m \u001b[1m0s\u001b[0m 1ms/step - loss: 6748.1255 - val_loss: 3957.0276\n",
            "Epoch 12/12\n",
            "\u001b[1m235/235\u001b[0m \u001b[32m━━━━━━━━━━━━━━━━━━━━\u001b[0m\u001b[37m\u001b[0m \u001b[1m0s\u001b[0m 1ms/step - loss: 6866.2803 - val_loss: 3927.4995\n"
          ]
        }
      ],
      "source": [
        "model.compile(loss=\"mse\", optimizer=Adam(learning_rate=0.001))\n",
        "\n",
        "history = model.fit(training_features, training_labels, epochs=12,\n",
        "                    validation_data=(validation_features, validation_labels))"
      ]
    },
    {
      "cell_type": "markdown",
      "metadata": {
        "id": "0S-qupIYn_7V"
      },
      "source": [
        "## Saving the Trained Model\n",
        "\n",
        "After training, it's a good practice to save the model for future use."
      ]
    },
    {
      "cell_type": "code",
      "execution_count": 8,
      "metadata": {
        "colab": {
          "base_uri": "https://localhost:8080/"
        },
        "id": "gItgvuncoD_9",
        "outputId": "8b50b026-9136-4ade-fa47-71c18418fb81"
      },
      "outputs": [
        {
          "name": "stderr",
          "output_type": "stream",
          "text": [
            "WARNING:absl:You are saving your model as an HDF5 file via `model.save()` or `keras.saving.save_model(model)`. This file format is considered legacy. We recommend using instead the native Keras format, e.g. `model.save('my_model.keras')` or `keras.saving.save_model(model, 'my_model.keras')`. \n"
          ]
        }
      ],
      "source": [
        "model.save(\"python_model.h5\")"
      ]
    },
    {
      "cell_type": "markdown",
      "metadata": {
        "id": "XeywUAjmoGP1"
      },
      "source": [
        "## Plotting Training History\n",
        "\n",
        "Visualizing the training and validation loss can help us understand the model's performance over time."
      ]
    },
    {
      "cell_type": "code",
      "execution_count": 9,
      "metadata": {
        "colab": {
          "base_uri": "https://localhost:8080/",
          "height": 531
        },
        "id": "OJjar_X8oL4t",
        "outputId": "59d7a280-84db-474c-da8a-d77998193af7"
      },
      "outputs": [
        {
          "data": {
            "image/png": "[encoded data removed]",
            "text/plain": [
              "<Figure size 1200x600 with 1 Axes>"
            ]
          },
          "metadata": {},
          "output_type": "display_data"
        }
      ],
      "source": [
        "import matplotlib.pyplot as plt\n",
        "from matplotlib.ticker import FuncFormatter\n",
        "\n",
        "def thousands(x, pos):\n",
        "    return '%1.0fk' % (x * 1e-3)\n",
        "\n",
        "formatter = FuncFormatter(thousands)\n",
        "\n",
        "plt.figure(figsize=(12, 6))\n",
        "plt.plot(history.history['loss'], label='Training Loss')\n",
        "plt.plot(history.history['val_loss'], label='Validation Loss')\n",
        "plt.title('Model Loss During Training')\n",
        "plt.xlabel('Epochs')\n",
        "plt.ylabel('Loss')\n",
        "plt.legend()\n",
        "plt.gca().yaxis.set_major_formatter(formatter)\n",
        "plt.show()\n"
      ]
    },
    {
      "cell_type": "markdown",
      "metadata": {
        "id": "cQRMNHFOoJyO"
      },
      "source": [
        "## Making Predictions and Evaluating the Model\n",
        "\n"
      ]
    },
    {
      "cell_type": "code",
      "execution_count": 10,
      "metadata": {
        "colab": {
          "base_uri": "https://localhost:8080/"
        },
        "id": "xUyG8jG5oQxy",
        "outputId": "a9710306-04bb-4e93-8b80-0a17db65c665"
      },
      "outputs": [
        {
          "name": "stdout",
          "output_type": "stream",
          "text": [
            "\u001b[1m235/235\u001b[0m \u001b[32m━━━━━━━━━━━━━━━━━━━━\u001b[0m\u001b[37m\u001b[0m \u001b[1m0s\u001b[0m 843us/step\n",
            "\u001b[1m59/59\u001b[0m \u001b[32m━━━━━━━━━━━━━━━━━━━━\u001b[0m\u001b[37m\u001b[0m \u001b[1m0s\u001b[0m 706us/step\n",
            "MAPE on the Training Data: 25.87%\n",
            "MAPE on the Validation Data: 26.54%\n",
            "\n",
            "MAPE on the Training Data ('Warengruppe_1 = 1): 28.24%\n",
            "MAPE on the Validation Data ('Warengruppe_1 = 1): 29.13%\n",
            "MAPE on the Training Data ('Warengruppe_2 = 1): 17.82%\n",
            "MAPE on the Validation Data ('Warengruppe_2 = 1): 17.76%\n",
            "MAPE on the Training Data ('Warengruppe_3 = 1): 20.82%\n",
            "MAPE on the Validation Data ('Warengruppe_3 = 1): 22.05%\n",
            "MAPE on the Training Data ('Warengruppe_4 = 1): 27.23%\n",
            "MAPE on the Validation Data ('Warengruppe_4 = 1): 28.97%\n",
            "MAPE on the Training Data ('Warengruppe_5 = 1): 16.00%\n",
            "MAPE on the Validation Data ('Warengruppe_5 = 1): 15.87%\n",
            "MAPE on the Training Data ('Warengruppe_6 = 1): 51.67%\n",
            "MAPE on the Validation Data ('Warengruppe_6 = 1): 55.30%\n",
            "[28.238507813261336, 17.82440839176322, 20.816694585876252, 27.234434988249983, 16.002901379753233, 51.6719669946337]\n",
            "[29.126988196289666, 17.757046072777673, 22.048028503760023, 28.967643922627325, 15.868357111033514, 55.30091141533317]\n"
          ]
        },
        {
          "data": {
            "image/png": "[encoded data removed]",
            "text/plain": [
              "<Figure size 1000x600 with 1 Axes>"
            ]
          },
          "metadata": {},
          "output_type": "display_data"
        }
      ],
      "source": [
        "import numpy as np\n",
        "\n",
        "def mape(y_true, y_pred):\n",
        "    y_true, y_pred = np.array(y_true), np.array(y_pred)\n",
        "    non_zero_mask = y_true != 0\n",
        "    return np.mean(np.abs((y_true[non_zero_mask] - y_pred[non_zero_mask]) / y_true[non_zero_mask])) * 100\n",
        "\n",
        "training_predictions = model.predict(training_features)\n",
        "validation_predictions = model.predict(validation_features)\n",
        "print(f\"MAPE on the Training Data: {mape(training_labels, training_predictions):.2f}%\")\n",
        "print(f\"MAPE on the Validation Data: {mape(validation_labels, validation_predictions):.2f}%\")\n",
        "print('')\n",
        "\n",
        "\n",
        "mape_training = []\n",
        "mape_validation = []\n",
        "\n",
        "training_mask = (training_features['Warengruppe_2'] == 0) & (training_features['Warengruppe_3'] == 0) & (training_features['Warengruppe_4'] == 0) & (training_features['Warengruppe_5']) == 0 & (training_features['Warengruppe_6'] == 0)\n",
        "validation_mask =(validation_features['Warengruppe_2'] == 0) & (validation_features['Warengruppe_3'] == 0) & (validation_features['Warengruppe_4'] == 0) & (validation_features['Warengruppe_5']) == 0 & (validation_features['Warengruppe_6'] == 0)\n",
        "filtered_training_labels = training_labels[training_mask]\n",
        "filtered_training_predictions = training_predictions[training_mask]\n",
        "filtered_validation_labels = validation_labels[validation_mask]\n",
        "filtered_validation_predictions = validation_predictions[validation_mask]\n",
        "print(f\"MAPE on the Training Data ('Warengruppe_1 = 1): {mape(filtered_training_labels, filtered_training_predictions):.2f}%\")\n",
        "print(f\"MAPE on the Validation Data ('Warengruppe_1 = 1): {mape(filtered_validation_labels, filtered_validation_predictions):.2f}%\")\n",
        "mape_training.append(mape(filtered_training_labels, filtered_training_predictions))\n",
        "mape_validation.append(mape(filtered_validation_labels, filtered_validation_predictions))\n",
        "\n",
        "training_mask = training_features['Warengruppe_2'] == 1\n",
        "validation_mask = validation_features['Warengruppe_2'] == 1\n",
        "filtered_training_labels = training_labels[training_mask]\n",
        "filtered_training_predictions = training_predictions[training_mask]\n",
        "filtered_validation_labels = validation_labels[validation_mask]\n",
        "filtered_validation_predictions = validation_predictions[validation_mask]\n",
        "print(f\"MAPE on the Training Data ('Warengruppe_2 = 1): {mape(filtered_training_labels, filtered_training_predictions):.2f}%\")\n",
        "print(f\"MAPE on the Validation Data ('Warengruppe_2 = 1): {mape(filtered_validation_labels, filtered_validation_predictions):.2f}%\")\n",
        "mape_training.append(mape(filtered_training_labels, filtered_training_predictions))\n",
        "mape_validation.append(mape(filtered_validation_labels, filtered_validation_predictions))\n",
        "\n",
        "training_mask = training_features['Warengruppe_3'] == 1\n",
        "validation_mask = validation_features['Warengruppe_3'] == 1\n",
        "filtered_training_labels = training_labels[training_mask]\n",
        "filtered_training_predictions = training_predictions[training_mask]\n",
        "filtered_validation_labels = validation_labels[validation_mask]\n",
        "filtered_validation_predictions = validation_predictions[validation_mask]\n",
        "print(f\"MAPE on the Training Data ('Warengruppe_3 = 1): {mape(filtered_training_labels, filtered_training_predictions):.2f}%\")\n",
        "print(f\"MAPE on the Validation Data ('Warengruppe_3 = 1): {mape(filtered_validation_labels, filtered_validation_predictions):.2f}%\")\n",
        "mape_training.append(mape(filtered_training_labels, filtered_training_predictions))\n",
        "mape_validation.append(mape(filtered_validation_labels, filtered_validation_predictions))\n",
        "\n",
        "training_mask = training_features['Warengruppe_4'] == 1\n",
        "validation_mask = validation_features['Warengruppe_4'] == 1\n",
        "filtered_training_labels = training_labels[training_mask]\n",
        "filtered_training_predictions = training_predictions[training_mask]\n",
        "filtered_validation_labels = validation_labels[validation_mask]\n",
        "filtered_validation_predictions = validation_predictions[validation_mask]\n",
        "print(f\"MAPE on the Training Data ('Warengruppe_4 = 1): {mape(filtered_training_labels, filtered_training_predictions):.2f}%\")\n",
        "print(f\"MAPE on the Validation Data ('Warengruppe_4 = 1): {mape(filtered_validation_labels, filtered_validation_predictions):.2f}%\")\n",
        "mape_training.append(mape(filtered_training_labels, filtered_training_predictions))\n",
        "mape_validation.append(mape(filtered_validation_labels, filtered_validation_predictions))\n",
        "\n",
        "training_mask = training_features['Warengruppe_5'] == 1\n",
        "validation_mask = validation_features['Warengruppe_5'] == 1\n",
        "filtered_training_labels = training_labels[training_mask]\n",
        "filtered_training_predictions = training_predictions[training_mask]\n",
        "filtered_validation_labels = validation_labels[validation_mask]\n",
        "filtered_validation_predictions = validation_predictions[validation_mask]\n",
        "print(f\"MAPE on the Training Data ('Warengruppe_5 = 1): {mape(filtered_training_labels, filtered_training_predictions):.2f}%\")\n",
        "print(f\"MAPE on the Validation Data ('Warengruppe_5 = 1): {mape(filtered_validation_labels, filtered_validation_predictions):.2f}%\")\n",
        "mape_training.append(mape(filtered_training_labels, filtered_training_predictions))\n",
        "mape_validation.append(mape(filtered_validation_labels, filtered_validation_predictions))\n",
        "\n",
        "training_mask = training_features['Warengruppe_6'] == 1\n",
        "validation_mask = validation_features['Warengruppe_6'] == 1\n",
        "filtered_training_labels = training_labels[training_mask]\n",
        "filtered_training_predictions = training_predictions[training_mask]\n",
        "filtered_validation_labels = validation_labels[validation_mask]\n",
        "filtered_validation_predictions = validation_predictions[validation_mask]\n",
        "print(f\"MAPE on the Training Data ('Warengruppe_6 = 1): {mape(filtered_training_labels, filtered_training_predictions):.2f}%\")\n",
        "print(f\"MAPE on the Validation Data ('Warengruppe_6 = 1): {mape(filtered_validation_labels, filtered_validation_predictions):.2f}%\")\n",
        "mape_training.append(mape(filtered_training_labels, filtered_training_predictions))\n",
        "mape_validation.append(mape(filtered_validation_labels, filtered_validation_predictions))\n",
        "\n",
        "print(mape_training)\n",
        "print(mape_validation)\n",
        "\n",
        "\n",
        "plt.figure(figsize=(10, 6))\n",
        "bar_width = 0.4\n",
        "warengruppen = np.arange(1, 7)\n",
        "\n",
        "# Bars for Training\n",
        "training_bars = plt.bar(warengruppen - bar_width/2, mape_training, width=bar_width, label='Training', align='center')\n",
        "\n",
        "# Bars for Validation\n",
        "validation_bars = plt.bar(warengruppen + bar_width/2, mape_validation, width=bar_width, label='Validation', align='center')\n",
        "\n",
        "plt.xlabel('Warengruppe')\n",
        "plt.ylabel('MAPE (%)')\n",
        "plt.title('MAPE für jede Warengruppe')\n",
        "plt.xticks(warengruppen)\n",
        "plt.legend()\n",
        "\n",
        "# Turn the numbers\n",
        "for bars in [training_bars, validation_bars]:\n",
        "    for bar in bars:\n",
        "        height = bar.get_height()\n",
        "        plt.text(bar.get_x() + bar.get_width() / 2.0, height / 2, f'{height:.2f}%', ha='center', va='center', rotation=90)\n",
        "\n",
        "plt.show()\n"
      ]
    },
    {
      "cell_type": "markdown",
      "metadata": {
        "id": "1pzsqOgeoWvT"
      },
      "source": [
        "## Export Predictions"
      ]
    },
    {
      "cell_type": "code",
      "execution_count": 11,
      "metadata": {},
      "outputs": [
        {
          "name": "stdout",
          "output_type": "stream",
          "text": [
            "\u001b[1m58/58\u001b[0m \u001b[32m━━━━━━━━━━━━━━━━━━━━\u001b[0m\u001b[37m\u001b[0m \u001b[1m0s\u001b[0m 1ms/step\n"
          ]
        }
      ],
      "source": [
        "# Import Data from DataPreparation\n",
        "\n",
        "kaggledata = pd.read_csv('kaggle_sample_nn_final.csv')\n",
        "\n",
        "kaggledata_features = ['Warengruppe_2', 'Warengruppe_3', 'Warengruppe_4', 'Warengruppe_5', 'Warengruppe_6', 'Temperatur_Kategorie_2', 'Temperatur_Kategorie_3', 'Jahreszeit_FSHW_2', 'Jahreszeit_FSHW_3', 'Jahreszeit_FSHW_4', 'Wochentag_MDMDFSS_2', 'Wochentag_MDMDFSS_3', 'Wochentag_MDMDFSS_4', 'Wochentag_MDMDFSS_5', 'Wochentag_MDMDFSS_6', 'FerienSH', 'Feiertag', 'Saison_Warengruppe', 'Verbraucherpreisindex_N', 'Schnee']\n",
        "vorhersage_daten = kaggledata[kaggledata_features]\n",
        "vorhersagen = model.predict(vorhersage_daten)\n",
        "kaggledata = kaggledata.assign(Umsatz=vorhersagen)\n",
        "\n",
        "# Use only 'id' and 'Umsatz' for export\n",
        "export_daten = kaggledata[['id', 'Umsatz']]\n",
        "\n",
        "# Export the dataframe to a csv file\n",
        "export_daten.to_csv('kaggle_predictions_nn_final.csv', index=False)\n",
        "\n",
        "\n"
      ]
    }
  ],
  "metadata": {
    "accelerator": "GPU",
    "colab": {
      "provenance": []
    },
    "kernelspec": {
      "display_name": "Python 3",
      "name": "python3"
    },
    "language_info": {
      "codemirror_mode": {
        "name": "ipython",
        "version": 3
      },
      "file_extension": ".py",
      "mimetype": "text/x-python",
      "name": "python",
      "nbconvert_exporter": "python",
      "pygments_lexer": "ipython3",
      "version": "3.10.13"
    }
  },
  "nbformat": 4,
  "nbformat_minor": 0
}
