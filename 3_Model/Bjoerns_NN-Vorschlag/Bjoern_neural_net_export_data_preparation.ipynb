{
 "cells": [
  {
   "cell_type": "code",
   "execution_count": 1,
   "metadata": {},
   "outputs": [],
   "source": [
    "# Import the necessary libraries\n",
    "import pandas as pd\n",
    "\n",
    "data = pd.read_csv('data_export_for_kaggle.csv')\n",
    "\n",
    "data['Temperatur_Cluster_2', 'Temperatur_Cluster_3', 'Jahreszeit_2', 'Jahreszeit_3', 'Jahreszeit_4'] = 0  # Alle Werte auf 0 setzen\n",
    "\n",
    "data['Temperatur_Cluster_2'] = data.apply(lambda row: 1 if row['Jahreszeit_Temperatur_1Mittel'] == 1 or row['Jahreszeit_Temperatur_2Mittel'] == 1 or row['Jahreszeit_Temperatur_3Mittel'] == 1 or row['Jahreszeit_Temperatur_4Mittel'] == 1 else 0, axis=1)\n",
    "data['Temperatur_Cluster_3'] = data.apply(lambda row: 1 if row['Jahreszeit_Temperatur_1Hoch'] == 1 or row['Jahreszeit_Temperatur_2Hoch'] == 1 or row['Jahreszeit_Temperatur_3Hoch'] == 1 else 0, axis=1)\n",
    "\n",
    "# Konvertieren Sie die 'Datum'-Spalte in ein Datumsformat\n",
    "data['Datum'] = pd.to_datetime(data['Datum'])\n",
    "\n",
    "# Setzen Sie die Werte in 'Jahreszeit' auf 1, wenn das Datum von Dezember bis Februar liegt\n",
    "data['Jahreszeit_2'] = data['Datum'].apply(lambda x: 1 if x.month in [6, 7, 8] else 0)\n",
    "data['Jahreszeit_3'] = data['Datum'].apply(lambda x: 1 if x.month in [9, 10, 11] else 0)\n",
    "data['Jahreszeit_4'] = data['Datum'].apply(lambda x: 1 if x.month in [12, 1, 2] else 0)\n",
    "\n",
    "data.to_csv('data_export_for_kaggle_v2.csv', columns=['id', 'Warengruppe_1', 'Warengruppe_2', 'Warengruppe_3', 'Warengruppe_4', 'Warengruppe_5', 'Warengruppe_6', 'Temperatur_Cluster_2', 'Temperatur_Cluster_3', 'Jahreszeit_2', 'Jahreszeit_3', 'Jahreszeit_4', 'FerienSH', 'Feiertag', 'Weihnachtsmarkt', 'Wochenende', 'Datum'], index=False)\n"
   ]
  }
 ],
 "metadata": {
  "kernelspec": {
   "display_name": "Python 3",
   "language": "python",
   "name": "python3"
  },
  "language_info": {
   "codemirror_mode": {
    "name": "ipython",
    "version": 3
   },
   "file_extension": ".py",
   "mimetype": "text/x-python",
   "name": "python",
   "nbconvert_exporter": "python",
   "pygments_lexer": "ipython3",
   "version": "3.10.13"
  }
 },
 "nbformat": 4,
 "nbformat_minor": 2
}
