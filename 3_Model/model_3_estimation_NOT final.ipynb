{
  "cells": [
    {
      "cell_type": "markdown",
      "metadata": {
        "id": "d-3CyESydUAq"
      },
      "source": [
        "## Importing the Data\n"
      ]
    },
    {
      "cell_type": "code",
      "execution_count": 1,
      "metadata": {
        "colab": {
          "base_uri": "https://localhost:8080/",
          "height": 365
        },
        "id": "zW1yixRmpNCD",
        "outputId": "d54ed505-358f-4534-b200-609621c08aab"
      },
      "outputs": [
        {
          "name": "stdout",
          "output_type": "stream",
          "text": [
            "Loaded Training features dimensions: (6018, 21)\n",
            "Loaded Validation features dimensions: (1504, 21)\n",
            "\n",
            "Loaded Training labels dimensions: (6018, 1)\n",
            "Loaded Validation labels dimensions: (1504, 1)\n",
            "\n",
            "First few rows of loaded training features:\n",
            "   Warengruppe_2  Warengruppe_3  Warengruppe_4  Warengruppe_5  Warengruppe_6  \\\n",
            "0              0              1              0              0              0   \n",
            "1              0              0              1              0              0   \n",
            "2              0              1              0              0              0   \n",
            "3              0              0              0              1              0   \n",
            "4              0              0              1              0              0   \n",
            "\n",
            "   Temperatur_Kategorie_2  Temperatur_Kategorie_3  Jahreszeit_FSHW_2  \\\n",
            "0                       1                       0                  0   \n",
            "1                       1                       0                  0   \n",
            "2                       0                       1                  0   \n",
            "3                       0                       0                  0   \n",
            "4                       0                       0                  0   \n",
            "\n",
            "   Jahreszeit_FSHW_3  Jahreszeit_FSHW_4  ...  Wochentag_MDMDFSS_3  \\\n",
            "0                  1                  0  ...                    0   \n",
            "1                  0                  0  ...                    0   \n",
            "2                  1                  0  ...                    0   \n",
            "3                  0                  1  ...                    0   \n",
            "4                  1                  0  ...                    0   \n",
            "\n",
            "   Wochentag_MDMDFSS_4  Wochentag_MDMDFSS_5  Wochentag_MDMDFSS_6  FerienSH  \\\n",
            "0                    0                    1                    0         0   \n",
            "1                    1                    0                    0         0   \n",
            "2                    0                    0                    0         0   \n",
            "3                    0                    1                    0         0   \n",
            "4                    0                    0                    0         0   \n",
            "\n",
            "   Feiertag  Wochenende  Saison_Warengruppe  Verbraucherpreisindex  \\\n",
            "0         0           1                   0                   94.1   \n",
            "1         0           0                   0                   95.8   \n",
            "2         0           0                   0                   95.5   \n",
            "3         0           1                   0                   95.1   \n",
            "4         0           0                   0                   93.5   \n",
            "\n",
            "   Windgeschwindigkeit_N  \n",
            "0                0.06250  \n",
            "1                0.12500  \n",
            "2                0.09375  \n",
            "3                0.06250  \n",
            "4                0.06250  \n",
            "\n",
            "[5 rows x 21 columns]\n",
            "\n",
            "First few rows of loaded training labels:\n",
            "       Umsatz\n",
            "0  268.913132\n",
            "1   58.585166\n",
            "2  125.901175\n",
            "3  332.611347\n",
            "4   76.170663\n"
          ]
        }
      ],
      "source": [
        "\n",
        "# Import the necessary libraries\n",
        "import pandas as pd\n",
        "\n",
        "# Define the file paths\n",
        "subdirectory = \"pickle_data\"\n",
        "training_features_path = f\"{subdirectory}/training_features.pkl\"\n",
        "validation_features_path = f\"{subdirectory}/validation_features.pkl\"\n",
        "training_labels_path = f\"{subdirectory}/training_labels.pkl\"\n",
        "validation_labels_path = f\"{subdirectory}/validation_labels.pkl\"\n",
        "\n",
        "# Read the pickle files\n",
        "training_features = pd.read_pickle(training_features_path)\n",
        "validation_features = pd.read_pickle(validation_features_path)\n",
        "training_labels = pd.read_pickle(training_labels_path)\n",
        "validation_labels = pd.read_pickle(validation_labels_path)\n",
        "\n",
        "# Verify the loaded data by printing their shapes and a few rows\n",
        "print(\"Loaded Training features dimensions:\", training_features.shape)\n",
        "print(\"Loaded Validation features dimensions:\", validation_features.shape)\n",
        "print()\n",
        "print(\"Loaded Training labels dimensions:\", training_labels.shape)\n",
        "print(\"Loaded Validation labels dimensions:\", validation_labels.shape)\n",
        "print()\n",
        "print(\"First few rows of loaded training features:\")\n",
        "print(training_features.head())\n",
        "print()\n",
        "print(\"First few rows of loaded training labels:\")\n",
        "print(training_labels.head())\n"
      ]
    },
    {
      "cell_type": "code",
      "execution_count": 2,
      "metadata": {
        "id": "tfn7C50QE_Ai",
        "outputId": "e32d7ddc-3a78-4371-fc9b-da86a12285ed"
      },
      "outputs": [
        {
          "name": "stdout",
          "output_type": "stream",
          "text": [
            "Training Features Array:\n",
            "[[0.000e+00 1.000e+00 0.000e+00 0.000e+00 0.000e+00 1.000e+00 0.000e+00\n",
            "  0.000e+00 1.000e+00 0.000e+00 0.000e+00 0.000e+00 0.000e+00 1.000e+00\n",
            "  0.000e+00 0.000e+00 0.000e+00 1.000e+00 0.000e+00 9.410e+01 6.250e-02]\n",
            " [0.000e+00 0.000e+00 1.000e+00 0.000e+00 0.000e+00 1.000e+00 0.000e+00\n",
            "  0.000e+00 0.000e+00 0.000e+00 0.000e+00 0.000e+00 1.000e+00 0.000e+00\n",
            "  0.000e+00 0.000e+00 0.000e+00 0.000e+00 0.000e+00 9.580e+01 1.250e-01]\n",
            " [0.000e+00 1.000e+00 0.000e+00 0.000e+00 0.000e+00 0.000e+00 1.000e+00\n",
            "  0.000e+00 1.000e+00 0.000e+00 1.000e+00 0.000e+00 0.000e+00 0.000e+00\n",
            "  0.000e+00 0.000e+00 0.000e+00 0.000e+00 0.000e+00 9.550e+01 9.375e-02]\n",
            " [0.000e+00 0.000e+00 0.000e+00 1.000e+00 0.000e+00 0.000e+00 0.000e+00\n",
            "  0.000e+00 0.000e+00 1.000e+00 0.000e+00 0.000e+00 0.000e+00 1.000e+00\n",
            "  0.000e+00 0.000e+00 0.000e+00 1.000e+00 0.000e+00 9.510e+01 6.250e-02]\n",
            " [0.000e+00 0.000e+00 1.000e+00 0.000e+00 0.000e+00 0.000e+00 0.000e+00\n",
            "  0.000e+00 1.000e+00 0.000e+00 0.000e+00 0.000e+00 0.000e+00 0.000e+00\n",
            "  0.000e+00 0.000e+00 0.000e+00 0.000e+00 0.000e+00 9.350e+01 6.250e-02]]\n"
          ]
        }
      ],
      "source": [
        "# Convert DataFrames to numpy arrays\n",
        "training_features_array = training_features.to_numpy()\n",
        "training_labels_array = training_labels.to_numpy().flatten()  # Flatten in case labels are a DataFrame with one column\n",
        "\n",
        "print(\"Training Features Array:\")\n",
        "print(training_features_array[:5])"
      ]
    },
    {
      "cell_type": "markdown",
      "metadata": {
        "id": "QEn1WecUkUvY"
      },
      "source": [
        "## Defining the Neural Network\n",
        "\n"
      ]
    },
    {
      "cell_type": "code",
      "execution_count": 3,
      "metadata": {
        "colab": {
          "base_uri": "https://localhost:8080/"
        },
        "id": "NIVMJ2ISYuJ1",
        "outputId": "fa361fbe-9c4b-412a-abff-80e92f29be03"
      },
      "outputs": [
        {
          "name": "stderr",
          "output_type": "stream",
          "text": [
            "2024-06-25 06:05:19.007263: I external/local_tsl/tsl/cuda/cudart_stub.cc:32] Could not find cuda drivers on your machine, GPU will not be used.\n",
            "2024-06-25 06:05:19.965655: I external/local_tsl/tsl/cuda/cudart_stub.cc:32] Could not find cuda drivers on your machine, GPU will not be used.\n",
            "2024-06-25 06:05:22.076110: I tensorflow/core/platform/cpu_feature_guard.cc:210] This TensorFlow binary is optimized to use available CPU instructions in performance-critical operations.\n",
            "To enable the following instructions: AVX2 FMA, in other operations, rebuild TensorFlow with the appropriate compiler flags.\n",
            "2024-06-25 06:05:25.319904: W tensorflow/compiler/tf2tensorrt/utils/py_utils.cc:38] TF-TRT Warning: Could not find TensorRT\n",
            "/home/codespace/.python/current/lib/python3.10/site-packages/keras/src/layers/core/input_layer.py:25: UserWarning: Argument `input_shape` is deprecated. Use `shape` instead.\n",
            "  warnings.warn(\n"
          ]
        },
        {
          "data": {
            "text/html": [
              "<pre style=\"white-space:pre;overflow-x:auto;line-height:normal;font-family:Menlo,'DejaVu Sans Mono',consolas,'Courier New',monospace\"><span style=\"font-weight: bold\">Model: \"sequential\"</span>\n",
              "</pre>\n"
            ],
            "text/plain": [
              "\u001b[1mModel: \"sequential\"\u001b[0m\n"
            ]
          },
          "metadata": {},
          "output_type": "display_data"
        },
        {
          "data": {
            "text/html": [
              "<pre style=\"white-space:pre;overflow-x:auto;line-height:normal;font-family:Menlo,'DejaVu Sans Mono',consolas,'Courier New',monospace\">┏━━━━━━━━━━━━━━━━━━━━━━━━━━━━━━━━━┳━━━━━━━━━━━━━━━━━━━━━━━━┳━━━━━━━━━━━━━━━┓\n",
              "┃<span style=\"font-weight: bold\"> Layer (type)                    </span>┃<span style=\"font-weight: bold\"> Output Shape           </span>┃<span style=\"font-weight: bold\">       Param # </span>┃\n",
              "┡━━━━━━━━━━━━━━━━━━━━━━━━━━━━━━━━━╇━━━━━━━━━━━━━━━━━━━━━━━━╇━━━━━━━━━━━━━━━┩\n",
              "│ batch_normalization             │ (<span style=\"color: #00d7ff; text-decoration-color: #00d7ff\">None</span>, <span style=\"color: #00af00; text-decoration-color: #00af00\">21</span>)             │            <span style=\"color: #00af00; text-decoration-color: #00af00\">84</span> │\n",
              "│ (<span style=\"color: #0087ff; text-decoration-color: #0087ff\">BatchNormalization</span>)            │                        │               │\n",
              "├─────────────────────────────────┼────────────────────────┼───────────────┤\n",
              "│ dense (<span style=\"color: #0087ff; text-decoration-color: #0087ff\">Dense</span>)                   │ (<span style=\"color: #00d7ff; text-decoration-color: #00d7ff\">None</span>, <span style=\"color: #00af00; text-decoration-color: #00af00\">10</span>)             │           <span style=\"color: #00af00; text-decoration-color: #00af00\">220</span> │\n",
              "├─────────────────────────────────┼────────────────────────┼───────────────┤\n",
              "│ dropout (<span style=\"color: #0087ff; text-decoration-color: #0087ff\">Dropout</span>)               │ (<span style=\"color: #00d7ff; text-decoration-color: #00d7ff\">None</span>, <span style=\"color: #00af00; text-decoration-color: #00af00\">10</span>)             │             <span style=\"color: #00af00; text-decoration-color: #00af00\">0</span> │\n",
              "├─────────────────────────────────┼────────────────────────┼───────────────┤\n",
              "│ dense_1 (<span style=\"color: #0087ff; text-decoration-color: #0087ff\">Dense</span>)                 │ (<span style=\"color: #00d7ff; text-decoration-color: #00d7ff\">None</span>, <span style=\"color: #00af00; text-decoration-color: #00af00\">4</span>)              │            <span style=\"color: #00af00; text-decoration-color: #00af00\">44</span> │\n",
              "├─────────────────────────────────┼────────────────────────┼───────────────┤\n",
              "│ dropout_1 (<span style=\"color: #0087ff; text-decoration-color: #0087ff\">Dropout</span>)             │ (<span style=\"color: #00d7ff; text-decoration-color: #00d7ff\">None</span>, <span style=\"color: #00af00; text-decoration-color: #00af00\">4</span>)              │             <span style=\"color: #00af00; text-decoration-color: #00af00\">0</span> │\n",
              "├─────────────────────────────────┼────────────────────────┼───────────────┤\n",
              "│ dense_2 (<span style=\"color: #0087ff; text-decoration-color: #0087ff\">Dense</span>)                 │ (<span style=\"color: #00d7ff; text-decoration-color: #00d7ff\">None</span>, <span style=\"color: #00af00; text-decoration-color: #00af00\">1</span>)              │             <span style=\"color: #00af00; text-decoration-color: #00af00\">5</span> │\n",
              "└─────────────────────────────────┴────────────────────────┴───────────────┘\n",
              "</pre>\n"
            ],
            "text/plain": [
              "┏━━━━━━━━━━━━━━━━━━━━━━━━━━━━━━━━━┳━━━━━━━━━━━━━━━━━━━━━━━━┳━━━━━━━━━━━━━━━┓\n",
              "┃\u001b[1m \u001b[0m\u001b[1mLayer (type)                   \u001b[0m\u001b[1m \u001b[0m┃\u001b[1m \u001b[0m\u001b[1mOutput Shape          \u001b[0m\u001b[1m \u001b[0m┃\u001b[1m \u001b[0m\u001b[1m      Param #\u001b[0m\u001b[1m \u001b[0m┃\n",
              "┡━━━━━━━━━━━━━━━━━━━━━━━━━━━━━━━━━╇━━━━━━━━━━━━━━━━━━━━━━━━╇━━━━━━━━━━━━━━━┩\n",
              "│ batch_normalization             │ (\u001b[38;5;45mNone\u001b[0m, \u001b[38;5;34m21\u001b[0m)             │            \u001b[38;5;34m84\u001b[0m │\n",
              "│ (\u001b[38;5;33mBatchNormalization\u001b[0m)            │                        │               │\n",
              "├─────────────────────────────────┼────────────────────────┼───────────────┤\n",
              "│ dense (\u001b[38;5;33mDense\u001b[0m)                   │ (\u001b[38;5;45mNone\u001b[0m, \u001b[38;5;34m10\u001b[0m)             │           \u001b[38;5;34m220\u001b[0m │\n",
              "├─────────────────────────────────┼────────────────────────┼───────────────┤\n",
              "│ dropout (\u001b[38;5;33mDropout\u001b[0m)               │ (\u001b[38;5;45mNone\u001b[0m, \u001b[38;5;34m10\u001b[0m)             │             \u001b[38;5;34m0\u001b[0m │\n",
              "├─────────────────────────────────┼────────────────────────┼───────────────┤\n",
              "│ dense_1 (\u001b[38;5;33mDense\u001b[0m)                 │ (\u001b[38;5;45mNone\u001b[0m, \u001b[38;5;34m4\u001b[0m)              │            \u001b[38;5;34m44\u001b[0m │\n",
              "├─────────────────────────────────┼────────────────────────┼───────────────┤\n",
              "│ dropout_1 (\u001b[38;5;33mDropout\u001b[0m)             │ (\u001b[38;5;45mNone\u001b[0m, \u001b[38;5;34m4\u001b[0m)              │             \u001b[38;5;34m0\u001b[0m │\n",
              "├─────────────────────────────────┼────────────────────────┼───────────────┤\n",
              "│ dense_2 (\u001b[38;5;33mDense\u001b[0m)                 │ (\u001b[38;5;45mNone\u001b[0m, \u001b[38;5;34m1\u001b[0m)              │             \u001b[38;5;34m5\u001b[0m │\n",
              "└─────────────────────────────────┴────────────────────────┴───────────────┘\n"
            ]
          },
          "metadata": {},
          "output_type": "display_data"
        },
        {
          "data": {
            "text/html": [
              "<pre style=\"white-space:pre;overflow-x:auto;line-height:normal;font-family:Menlo,'DejaVu Sans Mono',consolas,'Courier New',monospace\"><span style=\"font-weight: bold\"> Total params: </span><span style=\"color: #00af00; text-decoration-color: #00af00\">353</span> (1.38 KB)\n",
              "</pre>\n"
            ],
            "text/plain": [
              "\u001b[1m Total params: \u001b[0m\u001b[38;5;34m353\u001b[0m (1.38 KB)\n"
            ]
          },
          "metadata": {},
          "output_type": "display_data"
        },
        {
          "data": {
            "text/html": [
              "<pre style=\"white-space:pre;overflow-x:auto;line-height:normal;font-family:Menlo,'DejaVu Sans Mono',consolas,'Courier New',monospace\"><span style=\"font-weight: bold\"> Trainable params: </span><span style=\"color: #00af00; text-decoration-color: #00af00\">311</span> (1.21 KB)\n",
              "</pre>\n"
            ],
            "text/plain": [
              "\u001b[1m Trainable params: \u001b[0m\u001b[38;5;34m311\u001b[0m (1.21 KB)\n"
            ]
          },
          "metadata": {},
          "output_type": "display_data"
        },
        {
          "data": {
            "text/html": [
              "<pre style=\"white-space:pre;overflow-x:auto;line-height:normal;font-family:Menlo,'DejaVu Sans Mono',consolas,'Courier New',monospace\"><span style=\"font-weight: bold\"> Non-trainable params: </span><span style=\"color: #00af00; text-decoration-color: #00af00\">42</span> (168.00 B)\n",
              "</pre>\n"
            ],
            "text/plain": [
              "\u001b[1m Non-trainable params: \u001b[0m\u001b[38;5;34m42\u001b[0m (168.00 B)\n"
            ]
          },
          "metadata": {},
          "output_type": "display_data"
        }
      ],
      "source": [
        "from tensorflow.keras.models import Sequential\n",
        "from tensorflow.keras.layers import InputLayer, Dense, BatchNormalization, Dropout\n",
        "from tensorflow.keras.optimizers import Adam\n",
        "\n",
        "model = Sequential([\n",
        "  InputLayer(input_shape=(training_features.shape[1], )),\n",
        "  BatchNormalization(),\n",
        "  Dense(10, activation='relu'),\n",
        "  Dropout(0.2),  \n",
        "  Dense(4, activation='relu'),\n",
        "  Dropout(0.2),  \n",
        "  Dense(1)\n",
        "])\n",
        "\n",
        "model.summary()\n",
        "\n"
      ]
    },
    {
      "cell_type": "markdown",
      "metadata": {
        "id": "GHLvD-uEkbJI"
      },
      "source": [
        "## Compiling and Training the Model\n",
        "\n",
        "We will compile the model using Mean Squared Error (MSE) as the loss function and Adam optimizer. The model is then trained using the training data."
      ]
    },
    {
      "cell_type": "code",
      "execution_count": 4,
      "metadata": {
        "colab": {
          "base_uri": "https://localhost:8080/",
          "height": 198
        },
        "id": "3C9DP_BFZBdd",
        "outputId": "f5e56e51-54b3-40e9-c3ed-fcd38232f2dd"
      },
      "outputs": [
        {
          "name": "stdout",
          "output_type": "stream",
          "text": [
            "Epoch 1/18\n",
            "\u001b[1m189/189\u001b[0m \u001b[32m━━━━━━━━━━━━━━━━━━━━\u001b[0m\u001b[37m\u001b[0m \u001b[1m1s\u001b[0m 2ms/step - loss: 65929.4844 - val_loss: 65957.9453\n",
            "Epoch 2/18\n",
            "\u001b[1m189/189\u001b[0m \u001b[32m━━━━━━━━━━━━━━━━━━━━\u001b[0m\u001b[37m\u001b[0m \u001b[1m0s\u001b[0m 1ms/step - loss: 62444.4844 - val_loss: 47542.0742\n",
            "Epoch 3/18\n",
            "\u001b[1m189/189\u001b[0m \u001b[32m━━━━━━━━━━━━━━━━━━━━\u001b[0m\u001b[37m\u001b[0m \u001b[1m0s\u001b[0m 1ms/step - loss: 35636.9609 - val_loss: 18079.1953\n",
            "Epoch 4/18\n",
            "\u001b[1m189/189\u001b[0m \u001b[32m━━━━━━━━━━━━━━━━━━━━\u001b[0m\u001b[37m\u001b[0m \u001b[1m0s\u001b[0m 1ms/step - loss: 22217.0527 - val_loss: 13850.8721\n",
            "Epoch 5/18\n",
            "\u001b[1m189/189\u001b[0m \u001b[32m━━━━━━━━━━━━━━━━━━━━\u001b[0m\u001b[37m\u001b[0m \u001b[1m0s\u001b[0m 1ms/step - loss: 19176.7734 - val_loss: 10974.8779\n",
            "Epoch 6/18\n",
            "\u001b[1m189/189\u001b[0m \u001b[32m━━━━━━━━━━━━━━━━━━━━\u001b[0m\u001b[37m\u001b[0m \u001b[1m0s\u001b[0m 1ms/step - loss: 16092.6104 - val_loss: 9237.7520\n",
            "Epoch 7/18\n",
            "\u001b[1m189/189\u001b[0m \u001b[32m━━━━━━━━━━━━━━━━━━━━\u001b[0m\u001b[37m\u001b[0m \u001b[1m0s\u001b[0m 1ms/step - loss: 14635.8242 - val_loss: 8657.6885\n",
            "Epoch 8/18\n",
            "\u001b[1m189/189\u001b[0m \u001b[32m━━━━━━━━━━━━━━━━━━━━\u001b[0m\u001b[37m\u001b[0m \u001b[1m0s\u001b[0m 1ms/step - loss: 14622.7373 - val_loss: 7969.5127\n",
            "Epoch 9/18\n",
            "\u001b[1m189/189\u001b[0m \u001b[32m━━━━━━━━━━━━━━━━━━━━\u001b[0m\u001b[37m\u001b[0m \u001b[1m0s\u001b[0m 1ms/step - loss: 15713.3877 - val_loss: 8071.9814\n",
            "Epoch 10/18\n",
            "\u001b[1m189/189\u001b[0m \u001b[32m━━━━━━━━━━━━━━━━━━━━\u001b[0m\u001b[37m\u001b[0m \u001b[1m0s\u001b[0m 1ms/step - loss: 15042.7500 - val_loss: 8093.1890\n",
            "Epoch 11/18\n",
            "\u001b[1m189/189\u001b[0m \u001b[32m━━━━━━━━━━━━━━━━━━━━\u001b[0m\u001b[37m\u001b[0m \u001b[1m0s\u001b[0m 1ms/step - loss: 13790.6455 - val_loss: 7487.6509\n",
            "Epoch 12/18\n",
            "\u001b[1m189/189\u001b[0m \u001b[32m━━━━━━━━━━━━━━━━━━━━\u001b[0m\u001b[37m\u001b[0m \u001b[1m0s\u001b[0m 1ms/step - loss: 14202.7451 - val_loss: 7954.6440\n",
            "Epoch 13/18\n",
            "\u001b[1m189/189\u001b[0m \u001b[32m━━━━━━━━━━━━━━━━━━━━\u001b[0m\u001b[37m\u001b[0m \u001b[1m0s\u001b[0m 2ms/step - loss: 14813.6855 - val_loss: 8133.0234\n",
            "Epoch 14/18\n",
            "\u001b[1m189/189\u001b[0m \u001b[32m━━━━━━━━━━━━━━━━━━━━\u001b[0m\u001b[37m\u001b[0m \u001b[1m0s\u001b[0m 1ms/step - loss: 13611.4453 - val_loss: 7775.9077\n",
            "Epoch 15/18\n",
            "\u001b[1m189/189\u001b[0m \u001b[32m━━━━━━━━━━━━━━━━━━━━\u001b[0m\u001b[37m\u001b[0m \u001b[1m0s\u001b[0m 1ms/step - loss: 14415.6895 - val_loss: 7556.1890\n",
            "Epoch 16/18\n",
            "\u001b[1m189/189\u001b[0m \u001b[32m━━━━━━━━━━━━━━━━━━━━\u001b[0m\u001b[37m\u001b[0m \u001b[1m0s\u001b[0m 1ms/step - loss: 15179.5625 - val_loss: 7452.6816\n",
            "Epoch 17/18\n",
            "\u001b[1m189/189\u001b[0m \u001b[32m━━━━━━━━━━━━━━━━━━━━\u001b[0m\u001b[37m\u001b[0m \u001b[1m0s\u001b[0m 1ms/step - loss: 12788.4443 - val_loss: 7452.0000\n",
            "Epoch 18/18\n",
            "\u001b[1m189/189\u001b[0m \u001b[32m━━━━━━━━━━━━━━━━━━━━\u001b[0m\u001b[37m\u001b[0m \u001b[1m0s\u001b[0m 1ms/step - loss: 13589.8887 - val_loss: 7270.5498\n"
          ]
        }
      ],
      "source": [
        "model.compile(loss=\"mse\", optimizer=Adam(learning_rate=0.001))\n",
        "\n",
        "history = model.fit(training_features, training_labels, epochs=18,\n",
        "                    validation_data=(validation_features, validation_labels))"
      ]
    },
    {
      "cell_type": "markdown",
      "metadata": {
        "id": "0S-qupIYn_7V"
      },
      "source": [
        "## Saving the Trained Model\n",
        "\n",
        "After training, it's a good practice to save the model for future use."
      ]
    },
    {
      "cell_type": "code",
      "execution_count": 5,
      "metadata": {
        "colab": {
          "base_uri": "https://localhost:8080/"
        },
        "id": "gItgvuncoD_9",
        "outputId": "8b50b026-9136-4ade-fa47-71c18418fb81"
      },
      "outputs": [
        {
          "name": "stderr",
          "output_type": "stream",
          "text": [
            "WARNING:absl:You are saving your model as an HDF5 file via `model.save()` or `keras.saving.save_model(model)`. This file format is considered legacy. We recommend using instead the native Keras format, e.g. `model.save('my_model.keras')` or `keras.saving.save_model(model, 'my_model.keras')`. \n"
          ]
        }
      ],
      "source": [
        "model.save(\"python_model.h5\")"
      ]
    },
    {
      "cell_type": "markdown",
      "metadata": {
        "id": "XeywUAjmoGP1"
      },
      "source": [
        "## Plotting Training History\n",
        "\n",
        "Visualizing the training and validation loss can help us understand the model's performance over time."
      ]
    },
    {
      "cell_type": "code",
      "execution_count": 6,
      "metadata": {
        "colab": {
          "base_uri": "https://localhost:8080/",
          "height": 531
        },
        "id": "OJjar_X8oL4t",
        "outputId": "59d7a280-84db-474c-da8a-d77998193af7"
      },
      "outputs": [
        {
          "data": {
            "image/png": "[encoded data removed]",
            "text/plain": [
              "<Figure size 1200x600 with 1 Axes>"
            ]
          },
          "metadata": {},
          "output_type": "display_data"
        }
      ],
      "source": [
        "import matplotlib.pyplot as plt\n",
        "from matplotlib.ticker import FuncFormatter\n",
        "\n",
        "def thousands(x, pos):\n",
        "    return '%1.0fk' % (x * 1e-3)\n",
        "\n",
        "formatter = FuncFormatter(thousands)\n",
        "\n",
        "plt.figure(figsize=(12, 6))\n",
        "plt.plot(history.history['loss'], label='Training Loss')\n",
        "plt.plot(history.history['val_loss'], label='Validation Loss')\n",
        "plt.title('Model Loss During Training')\n",
        "plt.xlabel('Epochs')\n",
        "plt.ylabel('Loss')\n",
        "plt.legend()\n",
        "plt.gca().yaxis.set_major_formatter(formatter)\n",
        "plt.show()\n"
      ]
    },
    {
      "cell_type": "markdown",
      "metadata": {
        "id": "cQRMNHFOoJyO"
      },
      "source": [
        "## Making Predictions and Evaluating the Model\n",
        "\n"
      ]
    },
    {
      "cell_type": "code",
      "execution_count": 7,
      "metadata": {
        "colab": {
          "base_uri": "https://localhost:8080/"
        },
        "id": "xUyG8jG5oQxy",
        "outputId": "a9710306-04bb-4e93-8b80-0a17db65c665"
      },
      "outputs": [
        {
          "name": "stdout",
          "output_type": "stream",
          "text": [
            "\u001b[1m189/189\u001b[0m \u001b[32m━━━━━━━━━━━━━━━━━━━━\u001b[0m\u001b[37m\u001b[0m \u001b[1m0s\u001b[0m 944us/step\n",
            "\u001b[1m47/47\u001b[0m \u001b[32m━━━━━━━━━━━━━━━━━━━━\u001b[0m\u001b[37m\u001b[0m \u001b[1m0s\u001b[0m 689us/step\n",
            "MAPE on the Training Data: 28.45%\n",
            "MAPE on the Validation Data: 30.18%\n",
            "\n",
            "MAPE on the Training Data ('Warengruppe_1 = 1): 31.58%\n",
            "MAPE on the Validation Data ('Warengruppe_1 = 1): 33.41%\n",
            "MAPE on the Training Data ('Warengruppe_2 = 1): 19.60%\n",
            "MAPE on the Validation Data ('Warengruppe_2 = 1): 19.55%\n",
            "MAPE on the Training Data ('Warengruppe_3 = 1): 21.76%\n",
            "MAPE on the Validation Data ('Warengruppe_3 = 1): 19.66%\n",
            "MAPE on the Training Data ('Warengruppe_4 = 1): 42.44%\n",
            "MAPE on the Validation Data ('Warengruppe_4 = 1): 44.09%\n",
            "MAPE on the Training Data ('Warengruppe_5 = 1): 15.53%\n",
            "MAPE on the Validation Data ('Warengruppe_5 = 1): 16.59%\n",
            "MAPE on the Training Data ('Warengruppe_6 = 1): 56.25%\n",
            "MAPE on the Validation Data ('Warengruppe_6 = 1): 52.90%\n",
            "[31.575814108803414, 19.596476391262048, 21.75719010407894, 42.44423360099509, 15.527396870889007, 56.24772983693725]\n",
            "[33.411791432430974, 19.54969655468303, 19.663012704247183, 44.091491553478484, 16.59087629973863, 52.90074095292927]\n"
          ]
        },
        {
          "data": {
            "image/png": "[encoded data removed]",
            "text/plain": [
              "<Figure size 1000x600 with 1 Axes>"
            ]
          },
          "metadata": {},
          "output_type": "display_data"
        }
      ],
      "source": [
        "import numpy as np\n",
        "\n",
        "def mape(y_true, y_pred):\n",
        "    y_true, y_pred = np.array(y_true), np.array(y_pred)\n",
        "    non_zero_mask = y_true != 0\n",
        "    return np.mean(np.abs((y_true[non_zero_mask] - y_pred[non_zero_mask]) / y_true[non_zero_mask])) * 100\n",
        "\n",
        "training_predictions = model.predict(training_features)\n",
        "validation_predictions = model.predict(validation_features)\n",
        "print(f\"MAPE on the Training Data: {mape(training_labels, training_predictions):.2f}%\")\n",
        "print(f\"MAPE on the Validation Data: {mape(validation_labels, validation_predictions):.2f}%\")\n",
        "print('')\n",
        "\n",
        "\n",
        "mape_training = []\n",
        "mape_validation = []\n",
        "\n",
        "training_mask = (training_features['Warengruppe_2'] == 0) & (training_features['Warengruppe_3'] == 0) & (training_features['Warengruppe_4'] == 0) & (training_features['Warengruppe_5']) == 0 & (training_features['Warengruppe_6'] == 0)\n",
        "validation_mask =(validation_features['Warengruppe_2'] == 0) & (validation_features['Warengruppe_3'] == 0) & (validation_features['Warengruppe_4'] == 0) & (validation_features['Warengruppe_5']) == 0 & (validation_features['Warengruppe_6'] == 0)\n",
        "filtered_training_labels = training_labels[training_mask]\n",
        "filtered_training_predictions = training_predictions[training_mask]\n",
        "filtered_validation_labels = validation_labels[validation_mask]\n",
        "filtered_validation_predictions = validation_predictions[validation_mask]\n",
        "print(f\"MAPE on the Training Data ('Warengruppe_1 = 1): {mape(filtered_training_labels, filtered_training_predictions):.2f}%\")\n",
        "print(f\"MAPE on the Validation Data ('Warengruppe_1 = 1): {mape(filtered_validation_labels, filtered_validation_predictions):.2f}%\")\n",
        "mape_training.append(mape(filtered_training_labels, filtered_training_predictions))\n",
        "mape_validation.append(mape(filtered_validation_labels, filtered_validation_predictions))\n",
        "\n",
        "training_mask = training_features['Warengruppe_2'] == 1\n",
        "validation_mask = validation_features['Warengruppe_2'] == 1\n",
        "filtered_training_labels = training_labels[training_mask]\n",
        "filtered_training_predictions = training_predictions[training_mask]\n",
        "filtered_validation_labels = validation_labels[validation_mask]\n",
        "filtered_validation_predictions = validation_predictions[validation_mask]\n",
        "print(f\"MAPE on the Training Data ('Warengruppe_2 = 1): {mape(filtered_training_labels, filtered_training_predictions):.2f}%\")\n",
        "print(f\"MAPE on the Validation Data ('Warengruppe_2 = 1): {mape(filtered_validation_labels, filtered_validation_predictions):.2f}%\")\n",
        "mape_training.append(mape(filtered_training_labels, filtered_training_predictions))\n",
        "mape_validation.append(mape(filtered_validation_labels, filtered_validation_predictions))\n",
        "\n",
        "training_mask = training_features['Warengruppe_3'] == 1\n",
        "validation_mask = validation_features['Warengruppe_3'] == 1\n",
        "filtered_training_labels = training_labels[training_mask]\n",
        "filtered_training_predictions = training_predictions[training_mask]\n",
        "filtered_validation_labels = validation_labels[validation_mask]\n",
        "filtered_validation_predictions = validation_predictions[validation_mask]\n",
        "print(f\"MAPE on the Training Data ('Warengruppe_3 = 1): {mape(filtered_training_labels, filtered_training_predictions):.2f}%\")\n",
        "print(f\"MAPE on the Validation Data ('Warengruppe_3 = 1): {mape(filtered_validation_labels, filtered_validation_predictions):.2f}%\")\n",
        "mape_training.append(mape(filtered_training_labels, filtered_training_predictions))\n",
        "mape_validation.append(mape(filtered_validation_labels, filtered_validation_predictions))\n",
        "\n",
        "training_mask = training_features['Warengruppe_4'] == 1\n",
        "validation_mask = validation_features['Warengruppe_4'] == 1\n",
        "filtered_training_labels = training_labels[training_mask]\n",
        "filtered_training_predictions = training_predictions[training_mask]\n",
        "filtered_validation_labels = validation_labels[validation_mask]\n",
        "filtered_validation_predictions = validation_predictions[validation_mask]\n",
        "print(f\"MAPE on the Training Data ('Warengruppe_4 = 1): {mape(filtered_training_labels, filtered_training_predictions):.2f}%\")\n",
        "print(f\"MAPE on the Validation Data ('Warengruppe_4 = 1): {mape(filtered_validation_labels, filtered_validation_predictions):.2f}%\")\n",
        "mape_training.append(mape(filtered_training_labels, filtered_training_predictions))\n",
        "mape_validation.append(mape(filtered_validation_labels, filtered_validation_predictions))\n",
        "\n",
        "training_mask = training_features['Warengruppe_5'] == 1\n",
        "validation_mask = validation_features['Warengruppe_5'] == 1\n",
        "filtered_training_labels = training_labels[training_mask]\n",
        "filtered_training_predictions = training_predictions[training_mask]\n",
        "filtered_validation_labels = validation_labels[validation_mask]\n",
        "filtered_validation_predictions = validation_predictions[validation_mask]\n",
        "print(f\"MAPE on the Training Data ('Warengruppe_5 = 1): {mape(filtered_training_labels, filtered_training_predictions):.2f}%\")\n",
        "print(f\"MAPE on the Validation Data ('Warengruppe_5 = 1): {mape(filtered_validation_labels, filtered_validation_predictions):.2f}%\")\n",
        "mape_training.append(mape(filtered_training_labels, filtered_training_predictions))\n",
        "mape_validation.append(mape(filtered_validation_labels, filtered_validation_predictions))\n",
        "\n",
        "training_mask = training_features['Warengruppe_6'] == 1\n",
        "validation_mask = validation_features['Warengruppe_6'] == 1\n",
        "filtered_training_labels = training_labels[training_mask]\n",
        "filtered_training_predictions = training_predictions[training_mask]\n",
        "filtered_validation_labels = validation_labels[validation_mask]\n",
        "filtered_validation_predictions = validation_predictions[validation_mask]\n",
        "print(f\"MAPE on the Training Data ('Warengruppe_6 = 1): {mape(filtered_training_labels, filtered_training_predictions):.2f}%\")\n",
        "print(f\"MAPE on the Validation Data ('Warengruppe_6 = 1): {mape(filtered_validation_labels, filtered_validation_predictions):.2f}%\")\n",
        "mape_training.append(mape(filtered_training_labels, filtered_training_predictions))\n",
        "mape_validation.append(mape(filtered_validation_labels, filtered_validation_predictions))\n",
        "\n",
        "print(mape_training)\n",
        "print(mape_validation)\n",
        "\n",
        "\n",
        "plt.figure(figsize=(10, 6))\n",
        "bar_width = 0.4\n",
        "warengruppen = np.arange(1, 7)\n",
        "\n",
        "# Balken für Training\n",
        "training_bars = plt.bar(warengruppen - bar_width/2, mape_training, width=bar_width, label='Training', align='center')\n",
        "\n",
        "# Balken für Validation\n",
        "validation_bars = plt.bar(warengruppen + bar_width/2, mape_validation, width=bar_width, label='Validation', align='center')\n",
        "\n",
        "plt.xlabel('Warengruppe')\n",
        "plt.ylabel('MAPE (%)')\n",
        "plt.title('MAPE für jede Warengruppe')\n",
        "plt.xticks(warengruppen)\n",
        "plt.legend()\n",
        "\n",
        "# Werte innerhalb der Balken und um 90 Grad gedreht anzeigen\n",
        "for bars in [training_bars, validation_bars]:\n",
        "    for bar in bars:\n",
        "        height = bar.get_height()\n",
        "        plt.text(bar.get_x() + bar.get_width() / 2.0, height / 2, f'{height:.2f}%', ha='center', va='center', rotation=90)\n",
        "\n",
        "plt.show()\n"
      ]
    },
    {
      "cell_type": "markdown",
      "metadata": {
        "id": "1pzsqOgeoWvT"
      },
      "source": [
        "## Export Predictions"
      ]
    },
    {
      "cell_type": "code",
      "execution_count": 9,
      "metadata": {},
      "outputs": [
        {
          "name": "stdout",
          "output_type": "stream",
          "text": [
            "Warengruppe             int64\n",
            "Temperatur_Kategorie    int64\n",
            "Jahreszeit_FSHW         int64\n",
            "Wochentag_MDMDFSS       int64\n",
            "dtype: object\n",
            "Unique Values:\n",
            " Warengruppe                      [3, 4, 2]\n",
            "Temperatur_Kategorie             [3, 2, 1]\n",
            "Jahreszeit_FSHW               [2, 3, 4, 1]\n",
            "Wochentag_MDMDFSS       [3, 4, 5, 6, 1, 2]\n",
            "dtype: object\n",
            "       Datum  Warengruppe      Umsatz  Windgeschwindigkeit  FerienSH  \\\n",
            "0 2018-08-02            3  302.577113                   10         1   \n",
            "1 2018-08-03            3  170.889541                   10         1   \n",
            "2 2018-08-04            3  287.623725                   12         1   \n",
            "3 2018-08-05            3  266.937131                   14         1   \n",
            "4 2018-08-06            3  189.121046                    5         1   \n",
            "\n",
            "   Feiertag  Verbraucherpreisindex  Wochentag_MDMDFSS  Wochenende  \\\n",
            "0         0                   98.8                  3           0   \n",
            "1         0                   98.8                  4           0   \n",
            "2         0                   98.8                  5           1   \n",
            "3         0                   98.8                  6           1   \n",
            "4         0                   98.8                  1           0   \n",
            "\n",
            "   Jahreszeit_FSHW  Temperatur_Kategorie  Saison_Warengruppe  \\\n",
            "0                2                     3                   0   \n",
            "1                2                     3                   0   \n",
            "2                2                     3                   0   \n",
            "3                2                     3                   0   \n",
            "4                2                     3                   0   \n",
            "\n",
            "   Windgeschwindigkeit_N  \n",
            "0               0.304348  \n",
            "1               0.304348  \n",
            "2               0.391304  \n",
            "3               0.478261  \n",
            "4               0.086957  \n"
          ]
        },
        {
          "ename": "NameError",
          "evalue": "name 'kaggle_categorical_features' is not defined",
          "output_type": "error",
          "traceback": [
            "\u001b[0;31m---------------------------------------------------------------------------\u001b[0m",
            "\u001b[0;31mNameError\u001b[0m                                 Traceback (most recent call last)",
            "Cell \u001b[0;32mIn[9], line 25\u001b[0m\n\u001b[1;32m     21\u001b[0m \u001b[38;5;66;03m# kaggledata['Warengruppe'] = kaggledata['Warengruppe'].astype('int64')\u001b[39;00m\n\u001b[1;32m     23\u001b[0m \u001b[38;5;28mprint\u001b[39m(kaggledata\u001b[38;5;241m.\u001b[39mhead())\n\u001b[0;32m---> 25\u001b[0m \u001b[38;5;28;01mfor\u001b[39;00m col \u001b[38;5;129;01min\u001b[39;00m \u001b[43mkaggle_categorical_features\u001b[49m:\n\u001b[1;32m     26\u001b[0m     kaggledata[col] \u001b[38;5;241m=\u001b[39m kaggledata[col]\u001b[38;5;241m.\u001b[39mastype(\u001b[38;5;124m'\u001b[39m\u001b[38;5;124mcategory\u001b[39m\u001b[38;5;124m'\u001b[39m)\n\u001b[1;32m     28\u001b[0m \u001b[38;5;66;03m# Encode categorical variables using pd.get_dummies\u001b[39;00m\n",
            "\u001b[0;31mNameError\u001b[0m: name 'kaggle_categorical_features' is not defined"
          ]
        }
      ],
      "source": [
        "# Import Data from DataPreparation\n",
        "kaggledata = pd.read_csv(\"/workspaces/bakery_prediction/0_DataPreparation/test_dataf_knn.csv\", usecols=['Datum', 'Umsatz', 'Warengruppe', 'Temperatur_Kategorie', 'Jahreszeit_FSHW', 'Wochentag_MDMDFSS', 'Verbraucherpreisindex', 'FerienSH', 'Wochenende', 'Feiertag', 'Windgeschwindigkeit'])\n",
        "\n",
        "# Give 'Datum' the right format\n",
        "kaggledata['Datum'] = pd.to_datetime(kaggledata['Datum'])\n",
        "\n",
        "# Add 'Saison_Warengruppe' for 'Warengruppe' 6\n",
        "kaggledata['Saison_Warengruppe'] = np.where(kaggledata['Warengruppe'] == 6, 1, 0)\n",
        "\n",
        "# Normalization of \"Windgeschwindigkeit\"\n",
        "kaggledata['Windgeschwindigkeit_N'] = (kaggledata['Windgeschwindigkeit'] - kaggledata['Windgeschwindigkeit'].min()) / (kaggledata['Windgeschwindigkeit'].max() - kaggledata['Windgeschwindigkeit'].min())\n",
        "\n",
        "kaggledata_categorical_features = ['Warengruppe', 'Temperatur_Kategorie', 'Jahreszeit_FSHW', 'Wochentag_MDMDFSS']\n",
        "\n",
        "# Inspect data types and unique values for categorical columns\n",
        "print(kaggledata[kaggledata_categorical_features].dtypes)\n",
        "print(\"Unique Values:\\n\",kaggledata[kaggledata_categorical_features].apply(lambda x: x.unique()))\n",
        "\n",
        "\n",
        "\n",
        "\n",
        "print(kaggledata.head())\n",
        "\n",
        "for col in kaggle_categorical_features:\n",
        "    kaggledata[col] = kaggledata[col].astype('category')\n",
        "\n",
        "# Encode categorical variables using pd.get_dummies\n",
        "kaggledata_encoded = pd.get_dummies(kaggledata, columns=['Warengruppe', 'Temperatur_Kategorie', 'Jahreszeit_FSHW', 'Wochentag_MDMDFSS'])\n",
        "\n",
        "print(kaggledata.head())\n",
        "\n",
        "kaggledata_features = ['Warengruppe_2', 'Warengruppe_3', 'Warengruppe_4', 'Warengruppe_5', 'Warengruppe_6', 'Temperatur_Kategorie_2', 'Temperatur_Kategorie_3', 'Jahreszeit_FSHW_2', 'Jahreszeit_FSHW_3', 'Jahreszeit_FSHW_4', 'Wochentag_MDMDFSS_2', 'Wochentag_MDMDFSS_3', 'Wochentag_MDMDFSS_4', 'Wochentag_MDMDFSS_5', 'Wochentag_MDMDFSS_6', 'Verbraucherpreisindex', 'FerienSH', 'Wochenende', 'Feiertag', 'Windgeschwindigkeit_N', 'Saison_Warengruppe']\n",
        "\n",
        "\n",
        "vorhersage_daten = kaggledata[kaggledata_features]\n",
        "vorhersagen = model.predict(vorhersage_daten)\n",
        "kaggledata = kaggledata.assign(Umsatz=vorhersagen)\n",
        "\n",
        "# Wählen Sie nur die Spalten 'id' und 'Umsatz' aus\n",
        "export_daten = kaggledata[['id', 'Umsatz']]\n",
        "\n",
        "# Exportieren Sie den DataFrame in eine CSV-Datei\n",
        "export_daten.to_csv('kaggle_vorhersagen_nn.csv', index=False)"
      ]
    }
  ],
  "metadata": {
    "accelerator": "GPU",
    "colab": {
      "provenance": []
    },
    "kernelspec": {
      "display_name": "Python 3",
      "name": "python3"
    },
    "language_info": {
      "codemirror_mode": {
        "name": "ipython",
        "version": 3
      },
      "file_extension": ".py",
      "mimetype": "text/x-python",
      "name": "python",
      "nbconvert_exporter": "python",
      "pygments_lexer": "ipython3",
      "version": "3.10.13"
    }
  },
  "nbformat": 4,
  "nbformat_minor": 0
}
