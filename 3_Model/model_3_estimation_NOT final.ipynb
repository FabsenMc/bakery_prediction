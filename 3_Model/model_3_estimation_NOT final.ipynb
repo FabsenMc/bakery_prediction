{
  "cells": [
    {
      "cell_type": "markdown",
      "metadata": {
        "id": "d-3CyESydUAq"
      },
      "source": [
        "## Importing the Data\n"
      ]
    },
    {
      "cell_type": "code",
      "execution_count": 15,
      "metadata": {
        "colab": {
          "base_uri": "https://localhost:8080/",
          "height": 365
        },
        "id": "zW1yixRmpNCD",
        "outputId": "d54ed505-358f-4534-b200-609621c08aab"
      },
      "outputs": [
        {
          "name": "stdout",
          "output_type": "stream",
          "text": [
            "Loaded Training features dimensions: (6018, 21)\n",
            "Loaded Validation features dimensions: (1504, 21)\n",
            "\n",
            "Loaded Training labels dimensions: (6018, 1)\n",
            "Loaded Validation labels dimensions: (1504, 1)\n",
            "\n",
            "First few rows of loaded training features:\n",
            "   Warengruppe_2  Warengruppe_3  Warengruppe_4  Warengruppe_5  Warengruppe_6  \\\n",
            "0              0              1              0              0              0   \n",
            "1              0              0              1              0              0   \n",
            "2              0              1              0              0              0   \n",
            "3              0              0              0              1              0   \n",
            "4              0              0              1              0              0   \n",
            "\n",
            "   Temperatur_Kategorie_2  Temperatur_Kategorie_3  Jahreszeit_FSHW_2  \\\n",
            "0                       1                       0                  0   \n",
            "1                       1                       0                  0   \n",
            "2                       0                       1                  0   \n",
            "3                       0                       0                  0   \n",
            "4                       0                       0                  0   \n",
            "\n",
            "   Jahreszeit_FSHW_3  Jahreszeit_FSHW_4  ...  Wochentag_MDMDFSS_3  \\\n",
            "0                  1                  0  ...                    0   \n",
            "1                  0                  0  ...                    0   \n",
            "2                  1                  0  ...                    0   \n",
            "3                  0                  1  ...                    0   \n",
            "4                  1                  0  ...                    0   \n",
            "\n",
            "   Wochentag_MDMDFSS_4  Wochentag_MDMDFSS_5  Wochentag_MDMDFSS_6  FerienSH  \\\n",
            "0                    0                    1                    0         0   \n",
            "1                    1                    0                    0         0   \n",
            "2                    0                    0                    0         0   \n",
            "3                    0                    1                    0         0   \n",
            "4                    0                    0                    0         0   \n",
            "\n",
            "   Feiertag  Wochenende  Saison_Warengruppe  Verbraucherpreisindex  \\\n",
            "0         0           1                   0                   94.1   \n",
            "1         0           0                   0                   95.8   \n",
            "2         0           0                   0                   95.5   \n",
            "3         0           1                   0                   95.1   \n",
            "4         0           0                   0                   93.5   \n",
            "\n",
            "   Windgeschwindigkeit_N  \n",
            "0                0.06250  \n",
            "1                0.12500  \n",
            "2                0.09375  \n",
            "3                0.06250  \n",
            "4                0.06250  \n",
            "\n",
            "[5 rows x 21 columns]\n",
            "\n",
            "First few rows of loaded training labels:\n",
            "       Umsatz\n",
            "0  268.913132\n",
            "1   58.585166\n",
            "2  125.901175\n",
            "3  332.611347\n",
            "4   76.170663\n"
          ]
        }
      ],
      "source": [
        "\n",
        "# Import the necessary libraries\n",
        "import pandas as pd\n",
        "\n",
        "# Define the file paths\n",
        "subdirectory = \"pickle_data\"\n",
        "training_features_path = f\"{subdirectory}/training_features.pkl\"\n",
        "validation_features_path = f\"{subdirectory}/validation_features.pkl\"\n",
        "training_labels_path = f\"{subdirectory}/training_labels.pkl\"\n",
        "validation_labels_path = f\"{subdirectory}/validation_labels.pkl\"\n",
        "\n",
        "# Read the pickle files\n",
        "training_features = pd.read_pickle(training_features_path)\n",
        "validation_features = pd.read_pickle(validation_features_path)\n",
        "training_labels = pd.read_pickle(training_labels_path)\n",
        "validation_labels = pd.read_pickle(validation_labels_path)\n",
        "\n",
        "# Verify the loaded data by printing their shapes and a few rows\n",
        "print(\"Loaded Training features dimensions:\", training_features.shape)\n",
        "print(\"Loaded Validation features dimensions:\", validation_features.shape)\n",
        "print()\n",
        "print(\"Loaded Training labels dimensions:\", training_labels.shape)\n",
        "print(\"Loaded Validation labels dimensions:\", validation_labels.shape)\n",
        "print()\n",
        "print(\"First few rows of loaded training features:\")\n",
        "print(training_features.head())\n",
        "print()\n",
        "print(\"First few rows of loaded training labels:\")\n",
        "print(training_labels.head())\n"
      ]
    },
    {
      "cell_type": "code",
      "execution_count": 16,
      "metadata": {
        "id": "tfn7C50QE_Ai",
        "outputId": "e32d7ddc-3a78-4371-fc9b-da86a12285ed"
      },
      "outputs": [
        {
          "name": "stdout",
          "output_type": "stream",
          "text": [
            "Training Features Array:\n",
            "[[0.000e+00 1.000e+00 0.000e+00 0.000e+00 0.000e+00 1.000e+00 0.000e+00\n",
            "  0.000e+00 1.000e+00 0.000e+00 0.000e+00 0.000e+00 0.000e+00 1.000e+00\n",
            "  0.000e+00 0.000e+00 0.000e+00 1.000e+00 0.000e+00 9.410e+01 6.250e-02]\n",
            " [0.000e+00 0.000e+00 1.000e+00 0.000e+00 0.000e+00 1.000e+00 0.000e+00\n",
            "  0.000e+00 0.000e+00 0.000e+00 0.000e+00 0.000e+00 1.000e+00 0.000e+00\n",
            "  0.000e+00 0.000e+00 0.000e+00 0.000e+00 0.000e+00 9.580e+01 1.250e-01]\n",
            " [0.000e+00 1.000e+00 0.000e+00 0.000e+00 0.000e+00 0.000e+00 1.000e+00\n",
            "  0.000e+00 1.000e+00 0.000e+00 1.000e+00 0.000e+00 0.000e+00 0.000e+00\n",
            "  0.000e+00 0.000e+00 0.000e+00 0.000e+00 0.000e+00 9.550e+01 9.375e-02]\n",
            " [0.000e+00 0.000e+00 0.000e+00 1.000e+00 0.000e+00 0.000e+00 0.000e+00\n",
            "  0.000e+00 0.000e+00 1.000e+00 0.000e+00 0.000e+00 0.000e+00 1.000e+00\n",
            "  0.000e+00 0.000e+00 0.000e+00 1.000e+00 0.000e+00 9.510e+01 6.250e-02]\n",
            " [0.000e+00 0.000e+00 1.000e+00 0.000e+00 0.000e+00 0.000e+00 0.000e+00\n",
            "  0.000e+00 1.000e+00 0.000e+00 0.000e+00 0.000e+00 0.000e+00 0.000e+00\n",
            "  0.000e+00 0.000e+00 0.000e+00 0.000e+00 0.000e+00 9.350e+01 6.250e-02]]\n"
          ]
        }
      ],
      "source": [
        "# Convert DataFrames to numpy arrays\n",
        "training_features_array = training_features.to_numpy()\n",
        "training_labels_array = training_labels.to_numpy().flatten()  # Flatten in case labels are a DataFrame with one column\n",
        "\n",
        "print(\"Training Features Array:\")\n",
        "print(training_features_array[:5])"
      ]
    },
    {
      "cell_type": "markdown",
      "metadata": {
        "id": "QEn1WecUkUvY"
      },
      "source": [
        "## Defining the Neural Network\n",
        "\n"
      ]
    },
    {
      "cell_type": "code",
      "execution_count": 17,
      "metadata": {
        "colab": {
          "base_uri": "https://localhost:8080/"
        },
        "id": "NIVMJ2ISYuJ1",
        "outputId": "fa361fbe-9c4b-412a-abff-80e92f29be03"
      },
      "outputs": [
        {
          "name": "stderr",
          "output_type": "stream",
          "text": [
            "/home/codespace/.python/current/lib/python3.10/site-packages/keras/src/layers/core/input_layer.py:25: UserWarning: Argument `input_shape` is deprecated. Use `shape` instead.\n",
            "  warnings.warn(\n"
          ]
        },
        {
          "data": {
            "text/html": [
              "<pre style=\"white-space:pre;overflow-x:auto;line-height:normal;font-family:Menlo,'DejaVu Sans Mono',consolas,'Courier New',monospace\"><span style=\"font-weight: bold\">Model: \"sequential_1\"</span>\n",
              "</pre>\n"
            ],
            "text/plain": [
              "\u001b[1mModel: \"sequential_1\"\u001b[0m\n"
            ]
          },
          "metadata": {},
          "output_type": "display_data"
        },
        {
          "data": {
            "text/html": [
              "<pre style=\"white-space:pre;overflow-x:auto;line-height:normal;font-family:Menlo,'DejaVu Sans Mono',consolas,'Courier New',monospace\">┏━━━━━━━━━━━━━━━━━━━━━━━━━━━━━━━━━┳━━━━━━━━━━━━━━━━━━━━━━━━┳━━━━━━━━━━━━━━━┓\n",
              "┃<span style=\"font-weight: bold\"> Layer (type)                    </span>┃<span style=\"font-weight: bold\"> Output Shape           </span>┃<span style=\"font-weight: bold\">       Param # </span>┃\n",
              "┡━━━━━━━━━━━━━━━━━━━━━━━━━━━━━━━━━╇━━━━━━━━━━━━━━━━━━━━━━━━╇━━━━━━━━━━━━━━━┩\n",
              "│ batch_normalization_1           │ (<span style=\"color: #00d7ff; text-decoration-color: #00d7ff\">None</span>, <span style=\"color: #00af00; text-decoration-color: #00af00\">21</span>)             │            <span style=\"color: #00af00; text-decoration-color: #00af00\">84</span> │\n",
              "│ (<span style=\"color: #0087ff; text-decoration-color: #0087ff\">BatchNormalization</span>)            │                        │               │\n",
              "├─────────────────────────────────┼────────────────────────┼───────────────┤\n",
              "│ dense_3 (<span style=\"color: #0087ff; text-decoration-color: #0087ff\">Dense</span>)                 │ (<span style=\"color: #00d7ff; text-decoration-color: #00d7ff\">None</span>, <span style=\"color: #00af00; text-decoration-color: #00af00\">10</span>)             │           <span style=\"color: #00af00; text-decoration-color: #00af00\">220</span> │\n",
              "├─────────────────────────────────┼────────────────────────┼───────────────┤\n",
              "│ dropout_2 (<span style=\"color: #0087ff; text-decoration-color: #0087ff\">Dropout</span>)             │ (<span style=\"color: #00d7ff; text-decoration-color: #00d7ff\">None</span>, <span style=\"color: #00af00; text-decoration-color: #00af00\">10</span>)             │             <span style=\"color: #00af00; text-decoration-color: #00af00\">0</span> │\n",
              "├─────────────────────────────────┼────────────────────────┼───────────────┤\n",
              "│ dense_4 (<span style=\"color: #0087ff; text-decoration-color: #0087ff\">Dense</span>)                 │ (<span style=\"color: #00d7ff; text-decoration-color: #00d7ff\">None</span>, <span style=\"color: #00af00; text-decoration-color: #00af00\">4</span>)              │            <span style=\"color: #00af00; text-decoration-color: #00af00\">44</span> │\n",
              "├─────────────────────────────────┼────────────────────────┼───────────────┤\n",
              "│ dropout_3 (<span style=\"color: #0087ff; text-decoration-color: #0087ff\">Dropout</span>)             │ (<span style=\"color: #00d7ff; text-decoration-color: #00d7ff\">None</span>, <span style=\"color: #00af00; text-decoration-color: #00af00\">4</span>)              │             <span style=\"color: #00af00; text-decoration-color: #00af00\">0</span> │\n",
              "├─────────────────────────────────┼────────────────────────┼───────────────┤\n",
              "│ dense_5 (<span style=\"color: #0087ff; text-decoration-color: #0087ff\">Dense</span>)                 │ (<span style=\"color: #00d7ff; text-decoration-color: #00d7ff\">None</span>, <span style=\"color: #00af00; text-decoration-color: #00af00\">1</span>)              │             <span style=\"color: #00af00; text-decoration-color: #00af00\">5</span> │\n",
              "└─────────────────────────────────┴────────────────────────┴───────────────┘\n",
              "</pre>\n"
            ],
            "text/plain": [
              "┏━━━━━━━━━━━━━━━━━━━━━━━━━━━━━━━━━┳━━━━━━━━━━━━━━━━━━━━━━━━┳━━━━━━━━━━━━━━━┓\n",
              "┃\u001b[1m \u001b[0m\u001b[1mLayer (type)                   \u001b[0m\u001b[1m \u001b[0m┃\u001b[1m \u001b[0m\u001b[1mOutput Shape          \u001b[0m\u001b[1m \u001b[0m┃\u001b[1m \u001b[0m\u001b[1m      Param #\u001b[0m\u001b[1m \u001b[0m┃\n",
              "┡━━━━━━━━━━━━━━━━━━━━━━━━━━━━━━━━━╇━━━━━━━━━━━━━━━━━━━━━━━━╇━━━━━━━━━━━━━━━┩\n",
              "│ batch_normalization_1           │ (\u001b[38;5;45mNone\u001b[0m, \u001b[38;5;34m21\u001b[0m)             │            \u001b[38;5;34m84\u001b[0m │\n",
              "│ (\u001b[38;5;33mBatchNormalization\u001b[0m)            │                        │               │\n",
              "├─────────────────────────────────┼────────────────────────┼───────────────┤\n",
              "│ dense_3 (\u001b[38;5;33mDense\u001b[0m)                 │ (\u001b[38;5;45mNone\u001b[0m, \u001b[38;5;34m10\u001b[0m)             │           \u001b[38;5;34m220\u001b[0m │\n",
              "├─────────────────────────────────┼────────────────────────┼───────────────┤\n",
              "│ dropout_2 (\u001b[38;5;33mDropout\u001b[0m)             │ (\u001b[38;5;45mNone\u001b[0m, \u001b[38;5;34m10\u001b[0m)             │             \u001b[38;5;34m0\u001b[0m │\n",
              "├─────────────────────────────────┼────────────────────────┼───────────────┤\n",
              "│ dense_4 (\u001b[38;5;33mDense\u001b[0m)                 │ (\u001b[38;5;45mNone\u001b[0m, \u001b[38;5;34m4\u001b[0m)              │            \u001b[38;5;34m44\u001b[0m │\n",
              "├─────────────────────────────────┼────────────────────────┼───────────────┤\n",
              "│ dropout_3 (\u001b[38;5;33mDropout\u001b[0m)             │ (\u001b[38;5;45mNone\u001b[0m, \u001b[38;5;34m4\u001b[0m)              │             \u001b[38;5;34m0\u001b[0m │\n",
              "├─────────────────────────────────┼────────────────────────┼───────────────┤\n",
              "│ dense_5 (\u001b[38;5;33mDense\u001b[0m)                 │ (\u001b[38;5;45mNone\u001b[0m, \u001b[38;5;34m1\u001b[0m)              │             \u001b[38;5;34m5\u001b[0m │\n",
              "└─────────────────────────────────┴────────────────────────┴───────────────┘\n"
            ]
          },
          "metadata": {},
          "output_type": "display_data"
        },
        {
          "data": {
            "text/html": [
              "<pre style=\"white-space:pre;overflow-x:auto;line-height:normal;font-family:Menlo,'DejaVu Sans Mono',consolas,'Courier New',monospace\"><span style=\"font-weight: bold\"> Total params: </span><span style=\"color: #00af00; text-decoration-color: #00af00\">353</span> (1.38 KB)\n",
              "</pre>\n"
            ],
            "text/plain": [
              "\u001b[1m Total params: \u001b[0m\u001b[38;5;34m353\u001b[0m (1.38 KB)\n"
            ]
          },
          "metadata": {},
          "output_type": "display_data"
        },
        {
          "data": {
            "text/html": [
              "<pre style=\"white-space:pre;overflow-x:auto;line-height:normal;font-family:Menlo,'DejaVu Sans Mono',consolas,'Courier New',monospace\"><span style=\"font-weight: bold\"> Trainable params: </span><span style=\"color: #00af00; text-decoration-color: #00af00\">311</span> (1.21 KB)\n",
              "</pre>\n"
            ],
            "text/plain": [
              "\u001b[1m Trainable params: \u001b[0m\u001b[38;5;34m311\u001b[0m (1.21 KB)\n"
            ]
          },
          "metadata": {},
          "output_type": "display_data"
        },
        {
          "data": {
            "text/html": [
              "<pre style=\"white-space:pre;overflow-x:auto;line-height:normal;font-family:Menlo,'DejaVu Sans Mono',consolas,'Courier New',monospace\"><span style=\"font-weight: bold\"> Non-trainable params: </span><span style=\"color: #00af00; text-decoration-color: #00af00\">42</span> (168.00 B)\n",
              "</pre>\n"
            ],
            "text/plain": [
              "\u001b[1m Non-trainable params: \u001b[0m\u001b[38;5;34m42\u001b[0m (168.00 B)\n"
            ]
          },
          "metadata": {},
          "output_type": "display_data"
        }
      ],
      "source": [
        "from tensorflow.keras.models import Sequential\n",
        "from tensorflow.keras.layers import InputLayer, Dense, BatchNormalization, Dropout\n",
        "from tensorflow.keras.optimizers import Adam\n",
        "\n",
        "model = Sequential([\n",
        "  InputLayer(input_shape=(training_features.shape[1], )),\n",
        "  BatchNormalization(),\n",
        "  Dense(10, activation='relu'),\n",
        "  Dropout(0.2),  \n",
        "  Dense(4, activation='relu'),\n",
        "  Dropout(0.2),  \n",
        "  Dense(1)\n",
        "])\n",
        "\n",
        "model.summary()\n",
        "\n"
      ]
    },
    {
      "cell_type": "markdown",
      "metadata": {
        "id": "GHLvD-uEkbJI"
      },
      "source": [
        "## Compiling and Training the Model\n",
        "\n",
        "We will compile the model using Mean Squared Error (MSE) as the loss function and Adam optimizer. The model is then trained using the training data."
      ]
    },
    {
      "cell_type": "code",
      "execution_count": 18,
      "metadata": {
        "colab": {
          "base_uri": "https://localhost:8080/",
          "height": 198
        },
        "id": "3C9DP_BFZBdd",
        "outputId": "f5e56e51-54b3-40e9-c3ed-fcd38232f2dd"
      },
      "outputs": [
        {
          "name": "stdout",
          "output_type": "stream",
          "text": [
            "Epoch 1/18\n",
            "\u001b[1m189/189\u001b[0m \u001b[32m━━━━━━━━━━━━━━━━━━━━\u001b[0m\u001b[37m\u001b[0m \u001b[1m1s\u001b[0m 2ms/step - loss: 64509.7969 - val_loss: 58402.3711\n",
            "Epoch 2/18\n",
            "\u001b[1m189/189\u001b[0m \u001b[32m━━━━━━━━━━━━━━━━━━━━\u001b[0m\u001b[37m\u001b[0m \u001b[1m1s\u001b[0m 1ms/step - loss: 54924.3281 - val_loss: 17678.8516\n",
            "Epoch 3/18\n",
            "\u001b[1m189/189\u001b[0m \u001b[32m━━━━━━━━━━━━━━━━━━━━\u001b[0m\u001b[37m\u001b[0m \u001b[1m0s\u001b[0m 1ms/step - loss: 18226.1934 - val_loss: 10855.7578\n",
            "Epoch 4/18\n",
            "\u001b[1m189/189\u001b[0m \u001b[32m━━━━━━━━━━━━━━━━━━━━\u001b[0m\u001b[37m\u001b[0m \u001b[1m1s\u001b[0m 1ms/step - loss: 15128.9512 - val_loss: 9253.5361\n",
            "Epoch 5/18\n",
            "\u001b[1m189/189\u001b[0m \u001b[32m━━━━━━━━━━━━━━━━━━━━\u001b[0m\u001b[37m\u001b[0m \u001b[1m0s\u001b[0m 1ms/step - loss: 12742.2559 - val_loss: 8074.2080\n",
            "Epoch 6/18\n",
            "\u001b[1m189/189\u001b[0m \u001b[32m━━━━━━━━━━━━━━━━━━━━\u001b[0m\u001b[37m\u001b[0m \u001b[1m0s\u001b[0m 1ms/step - loss: 13475.6035 - val_loss: 7458.3174\n",
            "Epoch 7/18\n",
            "\u001b[1m189/189\u001b[0m \u001b[32m━━━━━━━━━━━━━━━━━━━━\u001b[0m\u001b[37m\u001b[0m \u001b[1m0s\u001b[0m 2ms/step - loss: 11311.6924 - val_loss: 7415.2139\n",
            "Epoch 8/18\n",
            "\u001b[1m189/189\u001b[0m \u001b[32m━━━━━━━━━━━━━━━━━━━━\u001b[0m\u001b[37m\u001b[0m \u001b[1m1s\u001b[0m 1ms/step - loss: 11100.9863 - val_loss: 7049.8052\n",
            "Epoch 9/18\n",
            "\u001b[1m189/189\u001b[0m \u001b[32m━━━━━━━━━━━━━━━━━━━━\u001b[0m\u001b[37m\u001b[0m \u001b[1m0s\u001b[0m 2ms/step - loss: 12747.6582 - val_loss: 7001.2925\n",
            "Epoch 10/18\n",
            "\u001b[1m189/189\u001b[0m \u001b[32m━━━━━━━━━━━━━━━━━━━━\u001b[0m\u001b[37m\u001b[0m \u001b[1m0s\u001b[0m 1ms/step - loss: 11372.6553 - val_loss: 6832.9038\n",
            "Epoch 11/18\n",
            "\u001b[1m189/189\u001b[0m \u001b[32m━━━━━━━━━━━━━━━━━━━━\u001b[0m\u001b[37m\u001b[0m \u001b[1m0s\u001b[0m 1ms/step - loss: 11419.2197 - val_loss: 6904.5806\n",
            "Epoch 12/18\n",
            "\u001b[1m189/189\u001b[0m \u001b[32m━━━━━━━━━━━━━━━━━━━━\u001b[0m\u001b[37m\u001b[0m \u001b[1m0s\u001b[0m 1ms/step - loss: 11308.3613 - val_loss: 6599.7534\n",
            "Epoch 13/18\n",
            "\u001b[1m189/189\u001b[0m \u001b[32m━━━━━━━━━━━━━━━━━━━━\u001b[0m\u001b[37m\u001b[0m \u001b[1m0s\u001b[0m 1ms/step - loss: 11981.8711 - val_loss: 6654.0679\n",
            "Epoch 14/18\n",
            "\u001b[1m189/189\u001b[0m \u001b[32m━━━━━━━━━━━━━━━━━━━━\u001b[0m\u001b[37m\u001b[0m \u001b[1m0s\u001b[0m 1ms/step - loss: 11206.2451 - val_loss: 6449.3018\n",
            "Epoch 15/18\n",
            "\u001b[1m189/189\u001b[0m \u001b[32m━━━━━━━━━━━━━━━━━━━━\u001b[0m\u001b[37m\u001b[0m \u001b[1m0s\u001b[0m 1ms/step - loss: 11112.0928 - val_loss: 6428.8359\n",
            "Epoch 16/18\n",
            "\u001b[1m189/189\u001b[0m \u001b[32m━━━━━━━━━━━━━━━━━━━━\u001b[0m\u001b[37m\u001b[0m \u001b[1m0s\u001b[0m 1ms/step - loss: 12000.9229 - val_loss: 6376.8267\n",
            "Epoch 17/18\n",
            "\u001b[1m189/189\u001b[0m \u001b[32m━━━━━━━━━━━━━━━━━━━━\u001b[0m\u001b[37m\u001b[0m \u001b[1m0s\u001b[0m 2ms/step - loss: 10770.8164 - val_loss: 6380.9878\n",
            "Epoch 18/18\n",
            "\u001b[1m189/189\u001b[0m \u001b[32m━━━━━━━━━━━━━━━━━━━━\u001b[0m\u001b[37m\u001b[0m \u001b[1m0s\u001b[0m 2ms/step - loss: 10735.8887 - val_loss: 6220.6934\n"
          ]
        }
      ],
      "source": [
        "model.compile(loss=\"mse\", optimizer=Adam(learning_rate=0.001))\n",
        "\n",
        "history = model.fit(training_features, training_labels, epochs=18,\n",
        "                    validation_data=(validation_features, validation_labels))"
      ]
    },
    {
      "cell_type": "markdown",
      "metadata": {
        "id": "0S-qupIYn_7V"
      },
      "source": [
        "## Saving the Trained Model\n",
        "\n",
        "After training, it's a good practice to save the model for future use."
      ]
    },
    {
      "cell_type": "code",
      "execution_count": 19,
      "metadata": {
        "colab": {
          "base_uri": "https://localhost:8080/"
        },
        "id": "gItgvuncoD_9",
        "outputId": "8b50b026-9136-4ade-fa47-71c18418fb81"
      },
      "outputs": [
        {
          "name": "stderr",
          "output_type": "stream",
          "text": [
            "WARNING:absl:You are saving your model as an HDF5 file via `model.save()` or `keras.saving.save_model(model)`. This file format is considered legacy. We recommend using instead the native Keras format, e.g. `model.save('my_model.keras')` or `keras.saving.save_model(model, 'my_model.keras')`. \n"
          ]
        }
      ],
      "source": [
        "model.save(\"python_model.h5\")"
      ]
    },
    {
      "cell_type": "markdown",
      "metadata": {
        "id": "XeywUAjmoGP1"
      },
      "source": [
        "## Plotting Training History\n",
        "\n",
        "Visualizing the training and validation loss can help us understand the model's performance over time."
      ]
    },
    {
      "cell_type": "code",
      "execution_count": 20,
      "metadata": {
        "colab": {
          "base_uri": "https://localhost:8080/",
          "height": 531
        },
        "id": "OJjar_X8oL4t",
        "outputId": "59d7a280-84db-474c-da8a-d77998193af7"
      },
      "outputs": [
        {
          "data": {
            "image/png": "[encoded data removed]",
            "text/plain": [
              "<Figure size 1200x600 with 1 Axes>"
            ]
          },
          "metadata": {},
          "output_type": "display_data"
        }
      ],
      "source": [
        "import matplotlib.pyplot as plt\n",
        "from matplotlib.ticker import FuncFormatter\n",
        "\n",
        "def thousands(x, pos):\n",
        "    return '%1.0fk' % (x * 1e-3)\n",
        "\n",
        "formatter = FuncFormatter(thousands)\n",
        "\n",
        "plt.figure(figsize=(12, 6))\n",
        "plt.plot(history.history['loss'], label='Training Loss')\n",
        "plt.plot(history.history['val_loss'], label='Validation Loss')\n",
        "plt.title('Model Loss During Training')\n",
        "plt.xlabel('Epochs')\n",
        "plt.ylabel('Loss')\n",
        "plt.legend()\n",
        "plt.gca().yaxis.set_major_formatter(formatter)\n",
        "plt.show()\n"
      ]
    },
    {
      "cell_type": "markdown",
      "metadata": {
        "id": "cQRMNHFOoJyO"
      },
      "source": [
        "## Making Predictions and Evaluating the Model\n",
        "\n"
      ]
    },
    {
      "cell_type": "code",
      "execution_count": 21,
      "metadata": {
        "colab": {
          "base_uri": "https://localhost:8080/"
        },
        "id": "xUyG8jG5oQxy",
        "outputId": "a9710306-04bb-4e93-8b80-0a17db65c665"
      },
      "outputs": [
        {
          "name": "stdout",
          "output_type": "stream",
          "text": [
            "\u001b[1m189/189\u001b[0m \u001b[32m━━━━━━━━━━━━━━━━━━━━\u001b[0m\u001b[37m\u001b[0m \u001b[1m0s\u001b[0m 1ms/step\n",
            "\u001b[1m47/47\u001b[0m \u001b[32m━━━━━━━━━━━━━━━━━━━━\u001b[0m\u001b[37m\u001b[0m \u001b[1m0s\u001b[0m 697us/step\n",
            "MAPE on the Training Data: 27.18%\n",
            "MAPE on the Validation Data: 28.57%\n",
            "\n",
            "MAPE on the Training Data ('Warengruppe_1 = 1): 29.87%\n",
            "MAPE on the Validation Data ('Warengruppe_1 = 1): 31.55%\n",
            "MAPE on the Training Data ('Warengruppe_2 = 1): 18.72%\n",
            "MAPE on the Validation Data ('Warengruppe_2 = 1): 18.80%\n",
            "MAPE on the Training Data ('Warengruppe_3 = 1): 21.93%\n",
            "MAPE on the Validation Data ('Warengruppe_3 = 1): 18.62%\n",
            "MAPE on the Training Data ('Warengruppe_4 = 1): 30.40%\n",
            "MAPE on the Validation Data ('Warengruppe_4 = 1): 30.98%\n",
            "MAPE on the Training Data ('Warengruppe_5 = 1): 16.06%\n",
            "MAPE on the Validation Data ('Warengruppe_5 = 1): 16.02%\n",
            "MAPE on the Training Data ('Warengruppe_6 = 1): 58.30%\n",
            "MAPE on the Validation Data ('Warengruppe_6 = 1): 59.59%\n",
            "[29.868595851005875, 18.716350740625742, 21.928666165072208, 30.402066693974128, 16.062760561948696, 58.29723879195768]\n",
            "[31.554222999219743, 18.799421961185274, 18.624207011724675, 30.98482879872665, 16.017142895370245, 59.58599054238487]\n"
          ]
        },
        {
          "data": {
            "image/png": "[encoded data removed]",
            "text/plain": [
              "<Figure size 1000x600 with 1 Axes>"
            ]
          },
          "metadata": {},
          "output_type": "display_data"
        }
      ],
      "source": [
        "import numpy as np\n",
        "\n",
        "def mape(y_true, y_pred):\n",
        "    y_true, y_pred = np.array(y_true), np.array(y_pred)\n",
        "    non_zero_mask = y_true != 0\n",
        "    return np.mean(np.abs((y_true[non_zero_mask] - y_pred[non_zero_mask]) / y_true[non_zero_mask])) * 100\n",
        "\n",
        "training_predictions = model.predict(training_features)\n",
        "validation_predictions = model.predict(validation_features)\n",
        "print(f\"MAPE on the Training Data: {mape(training_labels, training_predictions):.2f}%\")\n",
        "print(f\"MAPE on the Validation Data: {mape(validation_labels, validation_predictions):.2f}%\")\n",
        "print('')\n",
        "\n",
        "\n",
        "mape_training = []\n",
        "mape_validation = []\n",
        "\n",
        "training_mask = (training_features['Warengruppe_2'] == 0) & (training_features['Warengruppe_3'] == 0) & (training_features['Warengruppe_4'] == 0) & (training_features['Warengruppe_5']) == 0 & (training_features['Warengruppe_6'] == 0)\n",
        "validation_mask =(validation_features['Warengruppe_2'] == 0) & (validation_features['Warengruppe_3'] == 0) & (validation_features['Warengruppe_4'] == 0) & (validation_features['Warengruppe_5']) == 0 & (validation_features['Warengruppe_6'] == 0)\n",
        "filtered_training_labels = training_labels[training_mask]\n",
        "filtered_training_predictions = training_predictions[training_mask]\n",
        "filtered_validation_labels = validation_labels[validation_mask]\n",
        "filtered_validation_predictions = validation_predictions[validation_mask]\n",
        "print(f\"MAPE on the Training Data ('Warengruppe_1 = 1): {mape(filtered_training_labels, filtered_training_predictions):.2f}%\")\n",
        "print(f\"MAPE on the Validation Data ('Warengruppe_1 = 1): {mape(filtered_validation_labels, filtered_validation_predictions):.2f}%\")\n",
        "mape_training.append(mape(filtered_training_labels, filtered_training_predictions))\n",
        "mape_validation.append(mape(filtered_validation_labels, filtered_validation_predictions))\n",
        "\n",
        "training_mask = training_features['Warengruppe_2'] == 1\n",
        "validation_mask = validation_features['Warengruppe_2'] == 1\n",
        "filtered_training_labels = training_labels[training_mask]\n",
        "filtered_training_predictions = training_predictions[training_mask]\n",
        "filtered_validation_labels = validation_labels[validation_mask]\n",
        "filtered_validation_predictions = validation_predictions[validation_mask]\n",
        "print(f\"MAPE on the Training Data ('Warengruppe_2 = 1): {mape(filtered_training_labels, filtered_training_predictions):.2f}%\")\n",
        "print(f\"MAPE on the Validation Data ('Warengruppe_2 = 1): {mape(filtered_validation_labels, filtered_validation_predictions):.2f}%\")\n",
        "mape_training.append(mape(filtered_training_labels, filtered_training_predictions))\n",
        "mape_validation.append(mape(filtered_validation_labels, filtered_validation_predictions))\n",
        "\n",
        "training_mask = training_features['Warengruppe_3'] == 1\n",
        "validation_mask = validation_features['Warengruppe_3'] == 1\n",
        "filtered_training_labels = training_labels[training_mask]\n",
        "filtered_training_predictions = training_predictions[training_mask]\n",
        "filtered_validation_labels = validation_labels[validation_mask]\n",
        "filtered_validation_predictions = validation_predictions[validation_mask]\n",
        "print(f\"MAPE on the Training Data ('Warengruppe_3 = 1): {mape(filtered_training_labels, filtered_training_predictions):.2f}%\")\n",
        "print(f\"MAPE on the Validation Data ('Warengruppe_3 = 1): {mape(filtered_validation_labels, filtered_validation_predictions):.2f}%\")\n",
        "mape_training.append(mape(filtered_training_labels, filtered_training_predictions))\n",
        "mape_validation.append(mape(filtered_validation_labels, filtered_validation_predictions))\n",
        "\n",
        "training_mask = training_features['Warengruppe_4'] == 1\n",
        "validation_mask = validation_features['Warengruppe_4'] == 1\n",
        "filtered_training_labels = training_labels[training_mask]\n",
        "filtered_training_predictions = training_predictions[training_mask]\n",
        "filtered_validation_labels = validation_labels[validation_mask]\n",
        "filtered_validation_predictions = validation_predictions[validation_mask]\n",
        "print(f\"MAPE on the Training Data ('Warengruppe_4 = 1): {mape(filtered_training_labels, filtered_training_predictions):.2f}%\")\n",
        "print(f\"MAPE on the Validation Data ('Warengruppe_4 = 1): {mape(filtered_validation_labels, filtered_validation_predictions):.2f}%\")\n",
        "mape_training.append(mape(filtered_training_labels, filtered_training_predictions))\n",
        "mape_validation.append(mape(filtered_validation_labels, filtered_validation_predictions))\n",
        "\n",
        "training_mask = training_features['Warengruppe_5'] == 1\n",
        "validation_mask = validation_features['Warengruppe_5'] == 1\n",
        "filtered_training_labels = training_labels[training_mask]\n",
        "filtered_training_predictions = training_predictions[training_mask]\n",
        "filtered_validation_labels = validation_labels[validation_mask]\n",
        "filtered_validation_predictions = validation_predictions[validation_mask]\n",
        "print(f\"MAPE on the Training Data ('Warengruppe_5 = 1): {mape(filtered_training_labels, filtered_training_predictions):.2f}%\")\n",
        "print(f\"MAPE on the Validation Data ('Warengruppe_5 = 1): {mape(filtered_validation_labels, filtered_validation_predictions):.2f}%\")\n",
        "mape_training.append(mape(filtered_training_labels, filtered_training_predictions))\n",
        "mape_validation.append(mape(filtered_validation_labels, filtered_validation_predictions))\n",
        "\n",
        "training_mask = training_features['Warengruppe_6'] == 1\n",
        "validation_mask = validation_features['Warengruppe_6'] == 1\n",
        "filtered_training_labels = training_labels[training_mask]\n",
        "filtered_training_predictions = training_predictions[training_mask]\n",
        "filtered_validation_labels = validation_labels[validation_mask]\n",
        "filtered_validation_predictions = validation_predictions[validation_mask]\n",
        "print(f\"MAPE on the Training Data ('Warengruppe_6 = 1): {mape(filtered_training_labels, filtered_training_predictions):.2f}%\")\n",
        "print(f\"MAPE on the Validation Data ('Warengruppe_6 = 1): {mape(filtered_validation_labels, filtered_validation_predictions):.2f}%\")\n",
        "mape_training.append(mape(filtered_training_labels, filtered_training_predictions))\n",
        "mape_validation.append(mape(filtered_validation_labels, filtered_validation_predictions))\n",
        "\n",
        "print(mape_training)\n",
        "print(mape_validation)\n",
        "\n",
        "\n",
        "plt.figure(figsize=(10, 6))\n",
        "bar_width = 0.4\n",
        "warengruppen = np.arange(1, 7)\n",
        "\n",
        "# Balken für Training\n",
        "training_bars = plt.bar(warengruppen - bar_width/2, mape_training, width=bar_width, label='Training', align='center')\n",
        "\n",
        "# Balken für Validation\n",
        "validation_bars = plt.bar(warengruppen + bar_width/2, mape_validation, width=bar_width, label='Validation', align='center')\n",
        "\n",
        "plt.xlabel('Warengruppe')\n",
        "plt.ylabel('MAPE (%)')\n",
        "plt.title('MAPE für jede Warengruppe')\n",
        "plt.xticks(warengruppen)\n",
        "plt.legend()\n",
        "\n",
        "# Werte innerhalb der Balken und um 90 Grad gedreht anzeigen\n",
        "for bars in [training_bars, validation_bars]:\n",
        "    for bar in bars:\n",
        "        height = bar.get_height()\n",
        "        plt.text(bar.get_x() + bar.get_width() / 2.0, height / 2, f'{height:.2f}%', ha='center', va='center', rotation=90)\n",
        "\n",
        "plt.show()\n"
      ]
    },
    {
      "cell_type": "markdown",
      "metadata": {
        "id": "1pzsqOgeoWvT"
      },
      "source": [
        "## Export Predictions"
      ]
    },
    {
      "cell_type": "code",
      "execution_count": 22,
      "metadata": {},
      "outputs": [
        {
          "name": "stdout",
          "output_type": "stream",
          "text": [
            "        id       Datum  Warengruppe_2  Warengruppe_3  Warengruppe_4  \\\n",
            "0  1808011  2018-08-01              0              0              0   \n",
            "1  1808021  2018-08-02              0              0              0   \n",
            "2  1808031  2018-08-03              0              0              0   \n",
            "3  1808041  2018-08-04              0              0              0   \n",
            "4  1808051  2018-08-05              0              0              0   \n",
            "\n",
            "   Warengruppe_5  Warengruppe_6  Temperatur_Kategorie_2  \\\n",
            "0              0              0                       0   \n",
            "1              0              0                       0   \n",
            "2              0              0                       0   \n",
            "3              0              0                       0   \n",
            "4              0              0                       0   \n",
            "\n",
            "   Temperatur_Kategorie_3  Jahreszeit_FSHW_2  ...  Wochentag_MDMDFSS_3  \\\n",
            "0                       0                  0  ...                    0   \n",
            "1                       1                  1  ...                    1   \n",
            "2                       1                  1  ...                    0   \n",
            "3                       1                  1  ...                    0   \n",
            "4                       1                  1  ...                    0   \n",
            "\n",
            "   Wochentag_MDMDFSS_4  Wochentag_MDMDFSS_5  Wochentag_MDMDFSS_6  FerienSH  \\\n",
            "0                    0                    0                    0         0   \n",
            "1                    0                    0                    0         1   \n",
            "2                    1                    0                    0         1   \n",
            "3                    0                    1                    0         1   \n",
            "4                    0                    0                    1         1   \n",
            "\n",
            "   Feiertag  Wochenende  Saison_Warengruppe  Verbraucherpreisindex  \\\n",
            "0       0.0         0.0                   0                    0.0   \n",
            "1       0.0         0.0                   0                   98.8   \n",
            "2       0.0         0.0                   0                   98.8   \n",
            "3       0.0         1.0                   0                   98.8   \n",
            "4       0.0         1.0                   0                   98.8   \n",
            "\n",
            "   Windgeschwindigkeit_N  \n",
            "0               0.000000  \n",
            "1               0.304348  \n",
            "2               0.304348  \n",
            "3               0.391304  \n",
            "4               0.478261  \n",
            "\n",
            "[5 rows x 23 columns]\n",
            "\u001b[1m58/58\u001b[0m \u001b[32m━━━━━━━━━━━━━━━━━━━━\u001b[0m\u001b[37m\u001b[0m \u001b[1m0s\u001b[0m 792us/step\n"
          ]
        }
      ],
      "source": [
        "# Import Data from DataPreparation\n",
        "\n",
        "kaggledata = pd.read_csv('kaggle_sample_nn_final.csv')\n",
        "\n",
        "print(kaggledata.head())\n",
        "\n",
        "kaggledata_features = ['Warengruppe_2', 'Warengruppe_3', 'Warengruppe_4', 'Warengruppe_5', 'Warengruppe_6', 'Temperatur_Kategorie_2', 'Temperatur_Kategorie_3', 'Jahreszeit_FSHW_2', 'Jahreszeit_FSHW_3', 'Jahreszeit_FSHW_4', 'Wochentag_MDMDFSS_2', 'Wochentag_MDMDFSS_3', 'Wochentag_MDMDFSS_4', 'Wochentag_MDMDFSS_5', 'Wochentag_MDMDFSS_6', 'Verbraucherpreisindex', 'FerienSH', 'Wochenende', 'Feiertag', 'Windgeschwindigkeit_N', 'Saison_Warengruppe']\n",
        "\n",
        "\n",
        "vorhersage_daten = kaggledata[kaggledata_features]\n",
        "vorhersagen = model.predict(vorhersage_daten)\n",
        "kaggledata = kaggledata.assign(Umsatz=vorhersagen)\n",
        "\n",
        "# Wählen Sie nur die Spalten 'id' und 'Umsatz' aus\n",
        "export_daten = kaggledata[['id', 'Umsatz']]\n",
        "\n",
        "# Exportieren Sie den DataFrame in eine CSV-Datei\n",
        "export_daten.to_csv('kaggle_predictions_nn_final.csv', index=False)"
      ]
    }
  ],
  "metadata": {
    "accelerator": "GPU",
    "colab": {
      "provenance": []
    },
    "kernelspec": {
      "display_name": "Python 3",
      "name": "python3"
    },
    "language_info": {
      "codemirror_mode": {
        "name": "ipython",
        "version": 3
      },
      "file_extension": ".py",
      "mimetype": "text/x-python",
      "name": "python",
      "nbconvert_exporter": "python",
      "pygments_lexer": "ipython3",
      "version": "3.10.13"
    }
  },
  "nbformat": 4,
  "nbformat_minor": 0
}
