{
 "cells": [
  {
   "cell_type": "code",
   "execution_count": 15,
   "metadata": {},
   "outputs": [],
   "source": [
    "# Koeffizienten: [ 4.01830776e+01  9.10906696e+01 -7.25100886e+00  5.24053555e+01\n",
    "#  9.99527599e+01  3.89812761e+02  1.42753675e+02  6.80042819e+01\n",
    "#  2.59061167e+02  7.53707701e+01 -1.51310585e+14 -1.51310585e+14\n",
    "#  -1.51310585e+14 -1.51310585e+14 -1.51310585e+14 -1.51310585e+14\n",
    "#  -1.51310585e+14 -1.51310585e+14 -1.51310585e+14 -1.51310585e+14]\n",
    "# y-Achsenabschnitt: 151310585095729.97\n",
    "# Mean Squared Error: 5583.109566266471\n",
    "#\n",
    "# FerienSH\t4.01830776e+01 \n",
    "# Feiertag\t9.10906696e+01\n",
    "# Weihnachtsmarkt\t-7.25100886e+00\n",
    "# Wochenende\t 5.24053555e+01\n",
    "\n",
    "# Warengruppe_1\t 9.99527599e+01\n",
    "# Warengruppe_2\t 3.89812761e+02\n",
    "# Warengruppe_3\t 1.42753675e+02 \n",
    "# Warengruppe_4\t 6.80042819e+01\n",
    "\n",
    "# Warengruppe_5\t 2.59061167e+02\n",
    "# Warengruppe_6\t 7.53707701e+01\n",
    "#   Jahreszeit_Temperatur_1Hoch  -1.51310585e+14\n",
    "# \tJahreszeit_Temperatur_1Mittel   -1.51310585e+14\n",
    "# \tJahreszeit_Temperatur_1Niedrig  -1.51310585e+14\n",
    "# \tJahreszeit_Temperatur_2Hoch  -1.51310585e+14\n",
    "# \tJahreszeit_Temperatur_2Mittel  -1.51310585e+14 \n",
    "# \tJahreszeit_Temperatur_3Hoch  -1.51310585e+14\n",
    "# \tJahreszeit_Temperatur_3Mittel  -1.51310585e+14\n",
    "# \tJahreszeit_Temperatur_3Niedrig   -1.51310585e+14 \n",
    "# \tJahreszeit_Temperatur_4Mittel   -1.51310585e+14\n",
    "# \tJahreszeit_Temperatur_4Niedrig   -1.51310585e+14\n"
   ]
  },
  {
   "cell_type": "code",
   "execution_count": 16,
   "metadata": {},
   "outputs": [
    {
     "name": "stdout",
     "output_type": "stream",
     "text": [
      "Anzahl der Datensätze: 1840\n"
     ]
    },
    {
     "name": "stderr",
     "output_type": "stream",
     "text": [
      "/tmp/ipykernel_10893/1605582744.py:28: FutureWarning: Downcasting behavior in `replace` is deprecated and will be removed in a future version. To retain the old behavior, explicitly call `result.infer_objects(copy=False)`. To opt-in to the future behavior, set `pd.set_option('future.no_silent_downcasting', True)`\n",
      "  df_1 = df_1.replace({True: 1, False: 0})\n"
     ]
    }
   ],
   "source": [
    "# import csv-files\n",
    "\n",
    "import pandas as pd\n",
    "\n",
    "pfad_1 = 'test.csv'\n",
    "pfad_2 = 'fuf_v2.csv'\n",
    "pfad_3 = 'weihnachtsmarkt_v2.csv'\n",
    "pfad_4 = 'wetter_kaggle.csv'\n",
    "\n",
    "# Einlesen der CSVs\n",
    "df_1 = pd.read_csv(pfad_1, usecols=['id', 'Datum', 'Warengruppe'])\n",
    "df_1['Datum'] = pd.to_datetime(df_1['Datum'])\n",
    "\n",
    "df_2 = pd.read_csv(pfad_2, usecols=['Datum', 'FerienSH', 'Feiertag'])\n",
    "df_2['Datum'] = pd.to_datetime(df_2['Datum'], format='%d.%m.%Y').dt.strftime('%Y-%m-%d')\n",
    "df_2['Datum'] = pd.to_datetime(df_2['Datum'])\n",
    "\n",
    "df_3 = pd.read_csv(pfad_3, usecols=['Datum', 'Weihnachtsmarkt'])\n",
    "df_3['Datum'] = pd.to_datetime(df_3['Datum'])\n",
    "\n",
    "df_4 = pd.read_csv(pfad_4, usecols=['Datum', 'Temperatur'])\n",
    "df_4['Datum'] = pd.to_datetime(df_4['Datum'])\n",
    "\n",
    "\n",
    "dummies = pd.get_dummies(df_1['Warengruppe'], prefix='Warengruppe')\n",
    "df_1 = pd.concat([df_1, dummies], axis=1)\n",
    "# daten_2 = daten_2.drop('Warengruppe', axis=1)\n",
    "df_1 = df_1.replace({True: 1, False: 0})\n",
    "\n",
    "# Datensätze zusammenführen mit Inner Join\n",
    "df = pd.merge(df_1, df_2, how='inner', on='Datum')\n",
    "df = pd.merge(df, df_3, how='outer', on='Datum')\n",
    "df = pd.merge(df, df_4, how='outer', on='Datum')\n",
    "\n",
    "# Methode 1: Verwenden der len() Funktion\n",
    "anzahl_datensaetze = len(df)\n",
    "print(f\"Anzahl der Datensätze: {anzahl_datensaetze}\")\n",
    "\n",
    "\n",
    "df['Weihnachtsmarkt'] = df['Weihnachtsmarkt'].fillna(0.0)\n",
    "df['Weihnachtsmarkt'] = df['Weihnachtsmarkt'].astype(int)\n",
    "\n",
    "df['Wochenende'] = df['Datum'].dt.dayofweek.apply(lambda x: 1 if x >= 5 else 0)\n",
    "\n",
    "df = df.assign(\n",
    "    Jahreszeit_Temperatur_1Hoch=0,\n",
    "    Jahreszeit_Temperatur_1Mittel=0,\n",
    "    Jahreszeit_Temperatur_1Niedrig=0,\n",
    "    Jahreszeit_Temperatur_2Hoch=0,\n",
    "    Jahreszeit_Temperatur_2Mittel=0,\n",
    "    Jahreszeit_Temperatur_3Hoch=0,\n",
    "    Jahreszeit_Temperatur_3Mittel=0,\n",
    "    Jahreszeit_Temperatur_3Niedrig=0,\n",
    "    Jahreszeit_Temperatur_4Mittel=0,\n",
    "    Jahreszeit_Temperatur_4Niedrig=0\n",
    ")\n",
    "\n",
    "df.loc[(df['Datum'].dt.month.isin([3, 4, 5])) & (df['Temperatur'] > 20), 'Jahreszeit_Temperatur_1Hoch'] = 1\n",
    "df.loc[(df['Datum'].dt.month.isin([3, 4, 5])) & (df['Temperatur'] > 10) & (df['Temperatur'] < 20), 'Jahreszeit_Temperatur_1Mittel'] = 1\n",
    "df.loc[(df['Datum'].dt.month.isin([3, 4, 5])) & (df['Temperatur'] < 10), 'Jahreszeit_Temperatur_1Niedrig'] = 1\n",
    "df.loc[(df['Datum'].dt.month.isin([6, 7, 8])) & (df['Temperatur'] > 20), 'Jahreszeit_Temperatur_2Hoch'] = 1\n",
    "df.loc[(df['Datum'].dt.month.isin([6, 7, 8])) & (df['Temperatur'] > 10) & (df['Temperatur'] < 20), 'Jahreszeit_Temperatur_2Mittel'] = 1\n",
    "df.loc[(df['Datum'].dt.month.isin([9, 10, 11])) & (df['Temperatur'] > 20), 'Jahreszeit_Temperatur_3Hoch'] = 1\n",
    "df.loc[(df['Datum'].dt.month.isin([9, 10, 11])) & (df['Temperatur'] > 10) & (df['Temperatur'] < 20), 'Jahreszeit_Temperatur_3Mittel'] = 1\n",
    "df.loc[(df['Datum'].dt.month.isin([9, 10, 11])) & (df['Temperatur'] < 10), 'Jahreszeit_Temperatur_3Niedrig'] = 1\n",
    "df.loc[(df['Datum'].dt.month.isin([12, 1, 2])) & (df['Temperatur'] > 10) & (df['Temperatur'] < 20), 'Jahreszeit_Temperatur_4Mittel'] = 1\n",
    "df.loc[(df['Datum'].dt.month.isin([12, 1, 2])) & (df['Temperatur'] < 10), 'Jahreszeit_Temperatur_4Niedrig'] = 1\n",
    "\n",
    "\n",
    "\n"
   ]
  },
  {
   "cell_type": "code",
   "execution_count": 17,
   "metadata": {},
   "outputs": [],
   "source": [
    "# df['Umsatz'] = 151310585095729.97 + df['FerienSH'] * 4.01830776e+01 + df['Feiertag'] * 9.10906696e+01 + df['Weihnachtsmarkt'] * (-7.25100886e+00)  + df['Wochenende'] * 5.24053555e+01 + df['Warengruppe_1'] * 9.99527599e+01 + df['Warengruppe_2'] * 3.89812761e+02   + df['Warengruppe_3'] * 1.42753675e+02   + df['Warengruppe_4'] * 6.80042819e+01 + df['Warengruppe_5'] * 2.59061167e+02   + df['Warengruppe_6'] * 7.53707701e+01  + df['Jahreszeit_Temperatur_1Hoch'] * (-1.51310585e+14) + df['Jahreszeit_Temperatur_1Mittel'] * (-1.51310585e+14) + df['Jahreszeit_Temperatur_1Niedrig'] * (-1.51310585e+14) + df['Jahreszeit_Temperatur_2Hoch'] * (-1.51310585e+14) + df['Jahreszeit_Temperatur_2Mittel'] * (-1.51310585e+14) + df['Jahreszeit_Temperatur_3Hoch'] * (-1.51310585e+14) + df['Jahreszeit_Temperatur_3Mittel'] * (-1.51310585e+14) + df['Jahreszeit_Temperatur_3Niedrig'] * (-1.51310585e+14) + df['Jahreszeit_Temperatur_4Mittel'] * (-1.51310585e+14) + df['Jahreszeit_Temperatur_4Niedrig'] * (-1.51310585e+14)\n",
    "\n",
    "df['Umsatz'] =  df['FerienSH'] * 4.01830776e+01 + df['Feiertag'] * 9.10906696e+01 + df['Weihnachtsmarkt'] * (-7.25100886e+00)  + df['Wochenende'] * 5.24053555e+01 + df['Warengruppe_1'] * 9.99527599e+01 + df['Warengruppe_2'] * 3.89812761e+02   + df['Warengruppe_3'] * 1.42753675e+02   + df['Warengruppe_4'] * 6.80042819e+01 + df['Warengruppe_5'] * 2.59061167e+02   + df['Warengruppe_6'] * 7.53707701e+01\n",
    "\n",
    "df.head(100)\n",
    "\n",
    "df[['id','Umsatz']].to_csv('kaggle_export_file.csv', index=False)\n",
    "\n"
   ]
  }
 ],
 "metadata": {
  "kernelspec": {
   "display_name": "Python 3",
   "language": "python",
   "name": "python3"
  },
  "language_info": {
   "codemirror_mode": {
    "name": "ipython",
    "version": 3
   },
   "file_extension": ".py",
   "mimetype": "text/x-python",
   "name": "python",
   "nbconvert_exporter": "python",
   "pygments_lexer": "ipython3",
   "version": "3.10.13"
  }
 },
 "nbformat": 4,
 "nbformat_minor": 2
}
